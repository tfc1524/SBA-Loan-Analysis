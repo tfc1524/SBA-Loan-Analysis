{
 "cells": [
  {
   "cell_type": "code",
   "execution_count": 1,
   "id": "9bb948b1",
   "metadata": {},
   "outputs": [
    {
     "name": "stdout",
     "output_type": "stream",
     "text": [
      "(894207, 48)\n"
     ]
    },
    {
     "data": {
      "text/html": [
       "<div>\n",
       "<style scoped>\n",
       "    .dataframe tbody tr th:only-of-type {\n",
       "        vertical-align: middle;\n",
       "    }\n",
       "\n",
       "    .dataframe tbody tr th {\n",
       "        vertical-align: top;\n",
       "    }\n",
       "\n",
       "    .dataframe thead th {\n",
       "        text-align: right;\n",
       "    }\n",
       "</style>\n",
       "<table border=\"1\" class=\"dataframe\">\n",
       "  <thead>\n",
       "    <tr style=\"text-align: right;\">\n",
       "      <th></th>\n",
       "      <th>LoanNr_ChkDgt</th>\n",
       "      <th>Name</th>\n",
       "      <th>City</th>\n",
       "      <th>State</th>\n",
       "      <th>Zip</th>\n",
       "      <th>Bank</th>\n",
       "      <th>BankState</th>\n",
       "      <th>ApprovalDate</th>\n",
       "      <th>Term</th>\n",
       "      <th>NoEmp</th>\n",
       "      <th>...</th>\n",
       "      <th>OccupiedHousingUnits</th>\n",
       "      <th>MedianHomeValue</th>\n",
       "      <th>MedianHouseholdIncome</th>\n",
       "      <th>DisbursePerEmployee</th>\n",
       "      <th>GrSBA_AppvDiff%</th>\n",
       "      <th>State_division</th>\n",
       "      <th>USDPerJobCreated</th>\n",
       "      <th>loan_marturity_date</th>\n",
       "      <th>Is_Cross_State</th>\n",
       "      <th>Appv_Dusburse_delta</th>\n",
       "    </tr>\n",
       "  </thead>\n",
       "  <tbody>\n",
       "    <tr>\n",
       "      <th>0</th>\n",
       "      <td>1000014003</td>\n",
       "      <td>ABC HOBBYCRAFT</td>\n",
       "      <td>EVANSVILLE</td>\n",
       "      <td>IN</td>\n",
       "      <td>47711</td>\n",
       "      <td>FIFTH THIRD BANK</td>\n",
       "      <td>OH</td>\n",
       "      <td>1997-02-28</td>\n",
       "      <td>84.0</td>\n",
       "      <td>4.0</td>\n",
       "      <td>...</td>\n",
       "      <td>12895.0</td>\n",
       "      <td>115600.0</td>\n",
       "      <td>48618.0</td>\n",
       "      <td>12000.000000</td>\n",
       "      <td>20.0</td>\n",
       "      <td>Mid-West</td>\n",
       "      <td>NaN</td>\n",
       "      <td>2004-02-28</td>\n",
       "      <td>1</td>\n",
       "      <td>730.0</td>\n",
       "    </tr>\n",
       "    <tr>\n",
       "      <th>1</th>\n",
       "      <td>1000024006</td>\n",
       "      <td>LANDMARK BAR &amp; GRILLE (THE)</td>\n",
       "      <td>NEW PARIS</td>\n",
       "      <td>IN</td>\n",
       "      <td>46526</td>\n",
       "      <td>1ST SOURCE BANK</td>\n",
       "      <td>IN</td>\n",
       "      <td>1997-02-28</td>\n",
       "      <td>60.0</td>\n",
       "      <td>2.0</td>\n",
       "      <td>...</td>\n",
       "      <td>10938.0</td>\n",
       "      <td>120200.0</td>\n",
       "      <td>47863.0</td>\n",
       "      <td>13333.333333</td>\n",
       "      <td>20.0</td>\n",
       "      <td>Mid-West</td>\n",
       "      <td>NaN</td>\n",
       "      <td>2002-02-28</td>\n",
       "      <td>0</td>\n",
       "      <td>92.0</td>\n",
       "    </tr>\n",
       "    <tr>\n",
       "      <th>2</th>\n",
       "      <td>1000034009</td>\n",
       "      <td>WHITLOCK DDS, TODD M.</td>\n",
       "      <td>BLOOMINGTON</td>\n",
       "      <td>IN</td>\n",
       "      <td>47401</td>\n",
       "      <td>GRANT COUNTY STATE BANK</td>\n",
       "      <td>IN</td>\n",
       "      <td>1997-02-28</td>\n",
       "      <td>180.0</td>\n",
       "      <td>7.0</td>\n",
       "      <td>...</td>\n",
       "      <td>17562.0</td>\n",
       "      <td>207900.0</td>\n",
       "      <td>45415.0</td>\n",
       "      <td>35875.000000</td>\n",
       "      <td>25.0</td>\n",
       "      <td>Mid-West</td>\n",
       "      <td>NaN</td>\n",
       "      <td>2012-02-28</td>\n",
       "      <td>0</td>\n",
       "      <td>306.0</td>\n",
       "    </tr>\n",
       "  </tbody>\n",
       "</table>\n",
       "<p>3 rows × 48 columns</p>\n",
       "</div>"
      ],
      "text/plain": [
       "   LoanNr_ChkDgt                         Name         City State    Zip  \\\n",
       "0     1000014003               ABC HOBBYCRAFT   EVANSVILLE    IN  47711   \n",
       "1     1000024006  LANDMARK BAR & GRILLE (THE)    NEW PARIS    IN  46526   \n",
       "2     1000034009        WHITLOCK DDS, TODD M.  BLOOMINGTON    IN  47401   \n",
       "\n",
       "                      Bank BankState ApprovalDate   Term  NoEmp  ...  \\\n",
       "0         FIFTH THIRD BANK        OH   1997-02-28   84.0    4.0  ...   \n",
       "1          1ST SOURCE BANK        IN   1997-02-28   60.0    2.0  ...   \n",
       "2  GRANT COUNTY STATE BANK        IN   1997-02-28  180.0    7.0  ...   \n",
       "\n",
       "   OccupiedHousingUnits  MedianHomeValue  MedianHouseholdIncome  \\\n",
       "0               12895.0         115600.0                48618.0   \n",
       "1               10938.0         120200.0                47863.0   \n",
       "2               17562.0         207900.0                45415.0   \n",
       "\n",
       "   DisbursePerEmployee  GrSBA_AppvDiff%  State_division  USDPerJobCreated  \\\n",
       "0         12000.000000             20.0        Mid-West               NaN   \n",
       "1         13333.333333             20.0        Mid-West               NaN   \n",
       "2         35875.000000             25.0        Mid-West               NaN   \n",
       "\n",
       "  loan_marturity_date Is_Cross_State  Appv_Dusburse_delta  \n",
       "0          2004-02-28              1                730.0  \n",
       "1          2002-02-28              0                 92.0  \n",
       "2          2012-02-28              0                306.0  \n",
       "\n",
       "[3 rows x 48 columns]"
      ]
     },
     "execution_count": 1,
     "metadata": {},
     "output_type": "execute_result"
    }
   ],
   "source": [
    "import numpy as np\n",
    "import pandas as pd\n",
    "import warnings\n",
    "import matplotlib.pyplot as plt\n",
    "import seaborn as sns\n",
    "import math\n",
    "\n",
    "%matplotlib inline\n",
    "%run function.ipynb\n",
    "\n",
    "df = pd.read_csv('clean6.csv')\n",
    "df_copy = df.copy()\n",
    "print(df_copy.shape)\n",
    "df_copy.head(3)"
   ]
  },
  {
   "cell_type": "code",
   "execution_count": 2,
   "id": "11bfa538",
   "metadata": {},
   "outputs": [
    {
     "name": "stdout",
     "output_type": "stream",
     "text": [
      "(894207, 49)\n",
      "(856048, 49)\n"
     ]
    },
    {
     "data": {
      "text/plain": [
       "count    157721.000000\n",
       "mean          0.552629\n",
       "std           0.254444\n",
       "min           0.000001\n",
       "25%           0.354328\n",
       "50%           0.554395\n",
       "75%           0.771685\n",
       "max           7.630696\n",
       "Name: Default%, dtype: float64"
      ]
     },
     "metadata": {},
     "output_type": "display_data"
    },
    {
     "name": "stdout",
     "output_type": "stream",
     "text": [
      "(856048, 50)\n",
      "(855794, 50)\n"
     ]
    }
   ],
   "source": [
    "df_copy['Default%'] = df_copy['ChgOffPrinGr'] / df_copy['DisbursementGross']\n",
    "print(df_copy.shape)\n",
    "df_copy = df_copy[df_copy['DisbursementDate_year'] < 2010]\n",
    "print(df_copy.shape)\n",
    "\n",
    "df_copy.loc[list(df_copy[df_copy['Term'] >= 240].index), 'RealEstate'] = 1\n",
    "df_copy.loc[list(df_copy[df_copy['Term'] < 240].index), 'RealEstate'] = 0\n",
    "\n",
    "display(df_copy[df_copy['Default'] != 0]['Default%'].describe())\n",
    "\n",
    "print(df_copy.shape)\n",
    "df_copy = df_copy[~(df_copy['Default%'] > 1)]\n",
    "print(df_copy.shape)"
   ]
  },
  {
   "cell_type": "code",
   "execution_count": 3,
   "id": "6fc3212e",
   "metadata": {},
   "outputs": [],
   "source": [
    "df_copy['DisbursementDate'] = pd.to_datetime(df_copy['DisbursementDate'])\n",
    "df_copy['loan_marturity_date'] = pd.to_datetime(df_copy['loan_marturity_date'])\n",
    "df_copy['ChgOffDate'] = pd.to_datetime(df_copy['ChgOffDate'])\n",
    "df_copy['ApprovalDate'] = pd.to_datetime(df_copy['ApprovalDate'])"
   ]
  },
  {
   "cell_type": "code",
   "execution_count": 4,
   "id": "8beacd4c",
   "metadata": {},
   "outputs": [
    {
     "name": "stdout",
     "output_type": "stream",
     "text": [
      "Great Recession\n"
     ]
    },
    {
     "data": {
      "text/plain": [
       "0.0    853450\n",
       "1.0      2344\n",
       "Name: GreatRecession, dtype: int64"
      ]
     },
     "metadata": {},
     "output_type": "display_data"
    },
    {
     "name": "stdout",
     "output_type": "stream",
     "text": [
      "DotCom\n"
     ]
    },
    {
     "data": {
      "text/plain": [
       "0.0    851700\n",
       "1.0      4094\n",
       "Name: DotCom, dtype: int64"
      ]
     },
     "metadata": {},
     "output_type": "display_data"
    },
    {
     "name": "stdout",
     "output_type": "stream",
     "text": [
      "Recession\n"
     ]
    },
    {
     "data": {
      "text/plain": [
       "0.0    849356\n",
       "1.0      6438\n",
       "Name: Recession, dtype: int64"
      ]
     },
     "metadata": {},
     "output_type": "display_data"
    }
   ],
   "source": [
    "# Great Recession\n",
    "import datetime\n",
    "recession_index = list(df_copy[(df_copy['DisbursementDate'] > datetime.datetime(2007, 12, 1)) & (df_copy['loan_marturity_date'] < datetime.datetime(2009, 6, 30))].index)\n",
    "df_copy.loc[recession_index, 'GreatRecession'] = 1\n",
    "df_copy['GreatRecession'].fillna(0, inplace=True)\n",
    "print('Great Recession')\n",
    "display(df_copy['GreatRecession'].value_counts())\n",
    "\n",
    "dotcom_index = list(df_copy[(df_copy['DisbursementDate'] > datetime.datetime(2000, 1, 1)) & (df_copy['loan_marturity_date'] < datetime.datetime(2001, 12, 31))].index)\n",
    "df_copy.loc[dotcom_index, 'DotCom'] = 1\n",
    "df_copy['DotCom'].fillna(0, inplace=True)\n",
    "print('DotCom')\n",
    "display(df_copy['DotCom'].value_counts())\n",
    "\n",
    "df_copy['Recession'] = df_copy['GreatRecession'] + df_copy['DotCom']\n",
    "\n",
    "print('Recession')\n",
    "display(df_copy['Recession'].value_counts())"
   ]
  },
  {
   "cell_type": "code",
   "execution_count": 5,
   "id": "b2a283b5",
   "metadata": {},
   "outputs": [
    {
     "name": "stdout",
     "output_type": "stream",
     "text": [
      "Great Recession\n"
     ]
    },
    {
     "data": {
      "text/plain": [
       "1.0    1335\n",
       "0.0    1009\n",
       "Name: Default, dtype: int64"
      ]
     },
     "metadata": {},
     "output_type": "display_data"
    },
    {
     "name": "stdout",
     "output_type": "stream",
     "text": [
      "DotCom\n"
     ]
    },
    {
     "data": {
      "text/plain": [
       "0.0    2719\n",
       "1.0    1375\n",
       "Name: Default, dtype: int64"
      ]
     },
     "metadata": {},
     "output_type": "display_data"
    },
    {
     "name": "stdout",
     "output_type": "stream",
     "text": [
      "Recession\n"
     ]
    },
    {
     "data": {
      "text/plain": [
       "0.0    3728\n",
       "1.0    2710\n",
       "Name: Default, dtype: int64"
      ]
     },
     "metadata": {},
     "output_type": "display_data"
    }
   ],
   "source": [
    "print('Great Recession')\n",
    "display(df_copy[df_copy['GreatRecession'] == 1]['Default'].value_counts())\n",
    "print('DotCom')\n",
    "display(df_copy[df_copy['DotCom'] == 1]['Default'].value_counts())\n",
    "print('Recession')\n",
    "display(df_copy[df_copy['Recession'] == 1]['Default'].value_counts())"
   ]
  },
  {
   "cell_type": "code",
   "execution_count": 6,
   "id": "3dde5f41",
   "metadata": {},
   "outputs": [],
   "source": [
    "mon14710_index = list(df_copy[(df_copy['DisbursementDate_month'] == 1) | (df_copy['DisbursementDate_month'] == 4) | (df_copy['DisbursementDate_month'] == 7) | (df_copy['DisbursementDate_month'] == 10)].index)\n",
    "df_copy.loc[mon14710_index, 'Mon_Is_14710'] = 1\n",
    "df_copy['Mon_Is_14710'].fillna(0, inplace=True)"
   ]
  },
  {
   "cell_type": "code",
   "execution_count": 7,
   "id": "fa244d29",
   "metadata": {},
   "outputs": [],
   "source": [
    "obj_features = ['State', 'BankState', 'NewExist', 'IsFranchised', 'UrbanRural', 'RevLineCr', 'LowDoc', 'Industry',\n",
    "                'ApprovalDate_year', 'ApprovalDate_month', 'DisbursementDate_year', 'DisbursementDate_month', 'State_division', 'RealEstate',\n",
    "                'GreatRecession', 'DotCom', 'Recession', 'Mon_Is_14710']\n",
    "num_features = ['Default', 'ChgOffPrinGr', 'Term', 'DisbursementGross', 'Bank%', 'DisbursePerEmployee',\n",
    "                'USDPerJobCreated','NoEmp', 'CreateJob', 'RetainedJob', 'Population', 'PopDensity', 'GrAppv', 'SBA_Appv',\n",
    "                'HousingUnits', 'OccupiedHousingUnits', 'MedianHomeValue', 'MedianHouseholdIncome']\n",
    "time_cols = ['ApprovalDate_year', 'ApprovalDate_month', 'DisbursementDate_year', 'DisbursementDate_month']\n",
    "\n",
    "df_copy.rename(columns={'GrSBA_AppvDiff%': 'Bank%'}, inplace=True)\n",
    "\n",
    "df_groupby_mean = dict()\n",
    "df_groupby_size = dict()\n",
    "df_groupby_sum = dict()\n",
    "\n",
    "for col in obj_features:\n",
    "    df_groupby_mean[col] = df_copy.groupby(by=col).mean()[num_features]\n",
    "    df_groupby_sum[col] = df_copy.groupby(by=col).sum()[num_features]\n",
    "    df_groupby_size[col] = pd.DataFrame(df_copy.groupby(by=col).size())\n",
    "    df_groupby_size[col].rename(columns={0: 'size'}, inplace=True)"
   ]
  },
  {
   "cell_type": "code",
   "execution_count": 8,
   "id": "cea5ea7f",
   "metadata": {},
   "outputs": [],
   "source": [
    "# df_groupby_mean['State'].to_csv('State_mean.csv')\n",
    "# df_groupby_mean['BankState'].to_csv('BankState_mean.csv')\n",
    "# df_groupby_sum['State'].to_csv('State_sum.csv')\n",
    "# df_groupby_sum['BankState'].to_csv('BankState_sum.csv')"
   ]
  },
  {
   "cell_type": "markdown",
   "id": "5d8ad119",
   "metadata": {},
   "source": [
    "# UrbanRural Undefined"
   ]
  },
  {
   "cell_type": "code",
   "execution_count": 9,
   "id": "5599593b",
   "metadata": {},
   "outputs": [],
   "source": [
    "# # UrbanRural延伸分析\n",
    "\n",
    "# data = df_copy.groupby(by=['DisbursementDate_year', 'UrbanRural']).mean()\n",
    "# data_long = data.melt(ignore_index=False).reset_index()\n",
    "# data_def = data_long[data_long['variable'] == 'Default']\n",
    "\n",
    "# data_def = data_def[data_def['DisbursementDate_year'] >= 1972]\n",
    "# data_def[['DisbursementDate_year', 'UrbanRural']] = data_def[['DisbursementDate_year', 'UrbanRural']].applymap(lambda x: int(x))\n",
    "\n",
    "# year_list = list(df_groupby_mean['ApprovalDate_year'][~(df_copy.groupby(by='ApprovalDate_year').size().values < 30)].index)\n",
    "\n",
    "# data = pd.DataFrame(df_copy.groupby(by=['DisbursementDate_year', 'UrbanRural']).size()).reset_index()\n",
    "# data.rename(columns={0: 'count'}, inplace=True)\n",
    "# data = data[data['DisbursementDate_year'] >= 1972]\n",
    "# data[['DisbursementDate_year', 'UrbanRural']] = data[['DisbursementDate_year', 'UrbanRural']].applymap(lambda x: int(x))\n",
    "\n",
    "# plt.figure(figsize=(20,10))\n",
    "\n",
    "# num = 'Default'\n",
    "\n",
    "# plt.title('Mean {} by DisbursementDate_year_UrbanRural'.format(num))\n",
    "# plt.grid(True)\n",
    "# plt.vlines(x=[2006.0], ymin=data_def['value'].min(), ymax=data_def['value'].max(), color='r', linestyles='dashed')\n",
    "# sns.lineplot(data=data_def, x=data_def['DisbursementDate_year'], y=data_def['value'], marker=True, hue='UrbanRural',\n",
    "#              palette=\"flare\")\n",
    "# plt.savefig('Mean {} by DisbursementDate_year_UrbanRural.jpeg'.format(num))\n",
    "# plt.legend(title='UrbanRural', fontsize=20, title_fontsize=20)\n",
    "\n",
    "# plt.figure(figsize=(20,10))\n",
    "# plt.title('Size by DisbursementDate_year_UrbanRural'.format(num))\n",
    "# plt.grid(True)\n",
    "# plt.vlines(x=[2006.0], ymin=data['count'].min(), ymax=data['count'].max(), color='r', linestyles='dashed')\n",
    "# sns.lineplot(data=data, x=data['DisbursementDate_year'], y=data['count'], marker=True, hue='UrbanRural',\n",
    "#              palette=\"flare\")\n",
    "# plt.savefig('Size by DisbursementDate_year_UrbanRural.jpeg')\n",
    "# plt.legend(title='UrbanRural', fontsize=16, title_fontsize=20)\n",
    "\n",
    "# plt.show()"
   ]
  },
  {
   "cell_type": "code",
   "execution_count": 10,
   "id": "1613df38",
   "metadata": {},
   "outputs": [],
   "source": [
    "# size_hue_disbursementyear(df_copy, hue_cols=obj_features, year_col='DisbursementDate_year')"
   ]
  },
  {
   "cell_type": "code",
   "execution_count": 11,
   "id": "19e116da",
   "metadata": {},
   "outputs": [],
   "source": [
    "# mean_default_hue_disbursementyear(df_copy, hue_cols=obj_features, year_col='DisbursementDate_year')"
   ]
  },
  {
   "cell_type": "code",
   "execution_count": 12,
   "id": "0a2b3a11",
   "metadata": {},
   "outputs": [],
   "source": [
    "# # RevLineCr延伸分析\n",
    "# dfd1 = df_copy[df_copy['Default'] == 1]\n",
    "\n",
    "# data = dfd1.groupby(by=['DisbursementDate_year', 'RevLineCr']).mean()\n",
    "# data_long = data.melt(ignore_index=False).reset_index()\n",
    "# data_def = data_long[data_long['variable'] == 'Default']\n",
    "\n",
    "# data_def = data_def[data_def['DisbursementDate_year'] >= 1972]\n",
    "# data_def[['DisbursementDate_year', 'RevLineCr']] = data_def[['DisbursementDate_year', 'RevLineCr']].applymap(lambda x: int(x))\n",
    "\n",
    "# year_list = list(df_groupby_mean['ApprovalDate_year'][~(df_copy.groupby(by='ApprovalDate_year').size().values < 30)].index)\n",
    "\n",
    "# data = pd.DataFrame(dfd1.groupby(by=['DisbursementDate_year', 'RevLineCr']).size()).reset_index()\n",
    "# data.rename(columns={0: 'count'}, inplace=True)\n",
    "# data = data[data['DisbursementDate_year'] >= 1972]\n",
    "# data[['DisbursementDate_year', 'RevLineCr']] = data[['DisbursementDate_year', 'RevLineCr']].applymap(lambda x: int(x))\n",
    "\n",
    "# plt.figure(figsize=(20,10))\n",
    "# plt.title('Default = 1 Size by DisbursementDate_year_RevLineCr'.format(num))\n",
    "# plt.grid(True)\n",
    "# plt.vlines(x=[2006.0], ymin=data['count'].min(), ymax=data['count'].max(), color='r', linestyles='dashed')\n",
    "# sns.lineplot(data=data, x=data['DisbursementDate_year'], y=data['count'], marker=True, hue='RevLineCr',\n",
    "#              palette=\"flare\")\n",
    "# plt.savefig('Default = 1 Size by DisbursementDate_year_RevLineCr.jpeg')\n",
    "# plt.legend(title='RevLineCr', fontsize=16, title_fontsize=20)\n",
    "\n",
    "# plt.show()"
   ]
  },
  {
   "cell_type": "code",
   "execution_count": 13,
   "id": "aa80a0d0",
   "metadata": {},
   "outputs": [],
   "source": [
    "# # RevLineCr延伸分析\n",
    "# dfd0 = df_copy[df_copy['Default'] == 0]\n",
    "\n",
    "# data = dfd0.groupby(by=['DisbursementDate_year', 'RevLineCr']).mean()\n",
    "# data_long = data.melt(ignore_index=False).reset_index()\n",
    "# data_def = data_long[data_long['variable'] == 'Default']\n",
    "\n",
    "# data_def = data_def[data_def['DisbursementDate_year'] >= 1972]\n",
    "# data_def[['DisbursementDate_year', 'RevLineCr']] = data_def[['DisbursementDate_year', 'RevLineCr']].applymap(lambda x: int(x))\n",
    "\n",
    "# year_list = list(df_groupby_mean['ApprovalDate_year'][~(df_copy.groupby(by='ApprovalDate_year').size().values < 30)].index)\n",
    "\n",
    "# data = pd.DataFrame(dfd0.groupby(by=['DisbursementDate_year', 'RevLineCr']).size()).reset_index()\n",
    "# data.rename(columns={0: 'count'}, inplace=True)\n",
    "# data = data[data['DisbursementDate_year'] >= 1972]\n",
    "# data[['DisbursementDate_year', 'RevLineCr']] = data[['DisbursementDate_year', 'RevLineCr']].applymap(lambda x: int(x))\n",
    "\n",
    "# plt.figure(figsize=(20,10))\n",
    "# plt.title('Default = 0 Size by DisbursementDate_year_RevLineCr'.format(num))\n",
    "# plt.grid(True)\n",
    "# plt.vlines(x=[2006.0], ymin=data['count'].min(), ymax=data['count'].max(), color='r', linestyles='dashed')\n",
    "# sns.lineplot(data=data, x=data['DisbursementDate_year'], y=data['count'], marker=True, hue='RevLineCr',\n",
    "#              palette=\"flare\")\n",
    "# plt.savefig('Default = 0 Size by DisbursementDate_year_RevLineCr.jpeg')\n",
    "# plt.legend(title='RevLineCr', fontsize=16, title_fontsize=20)\n",
    "\n",
    "# plt.show()"
   ]
  },
  {
   "cell_type": "code",
   "execution_count": 14,
   "id": "aa97c52d",
   "metadata": {},
   "outputs": [
    {
     "data": {
      "image/png": "[encoded data removed]",
      "text/plain": [
       "<Figure size 720x720 with 1 Axes>"
      ]
     },
     "metadata": {
      "needs_background": "light"
     },
     "output_type": "display_data"
    }
   ],
   "source": [
    "# obj_visualization_with_hue(df_copy, obj_features=['RevLineCr'], hue_col='Is_Cross_State')"
   ]
  },
  {
   "cell_type": "code",
   "execution_count": 16,
   "id": "e4eaba1e",
   "metadata": {},
   "outputs": [],
   "source": [
    "# compare_d0d1term = pd.concat([dfd0['Term'].describe(), dfd1['Term'].describe()], axis=1)\n",
    "# compare_d0d1term.columns=['Default = 0', 'Default = 1']\n",
    "# compare_d0d1term"
   ]
  },
  {
   "cell_type": "code",
   "execution_count": 17,
   "id": "464fab6b",
   "metadata": {},
   "outputs": [],
   "source": [
    "# df_copy['DisbursementDate_month'].value_counts()"
   ]
  },
  {
   "cell_type": "code",
   "execution_count": 18,
   "id": "81dc29e9",
   "metadata": {},
   "outputs": [],
   "source": [
    "# size_hue_disbursementyear(df_copy, hue_cols=['DisbursementDate_month'], year_col='DisbursementDate_year')"
   ]
  },
  {
   "cell_type": "code",
   "execution_count": 19,
   "id": "7c2e9015",
   "metadata": {},
   "outputs": [],
   "source": [
    "# df_firstmon = df_copy[(df_copy['DisbursementDate_month'] == 1) | (df_copy['DisbursementDate_month'] == 4) | (df_copy['DisbursementDate_month'] == 7) | (df_copy['DisbursementDate_month'] == 10)]\n",
    "# df_notfirstmon = df_copy[~((df_copy['DisbursementDate_month'] == 1) | (df_copy['DisbursementDate_month'] == 4) | (df_copy['DisbursementDate_month'] == 7) | (df_copy['DisbursementDate_month'] == 10))]\n",
    "# df_copy.loc[list(df_notfirstmon.index), 'Mon_Is_14710'] = 0\n",
    "# df_copy.loc[list(df_firstmon.index), 'Mon_Is_14710'] = 1"
   ]
  },
  {
   "cell_type": "code",
   "execution_count": 20,
   "id": "e204621a",
   "metadata": {},
   "outputs": [],
   "source": [
    "# obj_visualization_with_hue(df_copy, obj_features, hue_col='Mon_Is_14710')"
   ]
  },
  {
   "cell_type": "code",
   "execution_count": 21,
   "id": "a75e4284",
   "metadata": {},
   "outputs": [],
   "source": [
    "# size_hue_disbursementyear(df_copy, hue_cols=['Mon_Is_14710'], year_col='DisbursementDate_year')"
   ]
  },
  {
   "cell_type": "code",
   "execution_count": 22,
   "id": "b83eba31",
   "metadata": {},
   "outputs": [],
   "source": [
    "# num_visualization_with_hue(df_copy, num_features, hue_col='Mon_Is_14710')"
   ]
  },
  {
   "cell_type": "code",
   "execution_count": 24,
   "id": "b691f7cd",
   "metadata": {},
   "outputs": [],
   "source": [
    "# plt.figure(figsize=(20, 10))\n",
    "# sns.set_theme(style=\"darkgrid\")\n",
    "# sns.ecdfplot(data=df_copy, x='Default%', hue='RevLineCr', palette=sns.color_palette(\"Set2\")[:3])\n",
    "# plt.show()"
   ]
  },
  {
   "cell_type": "code",
   "execution_count": 25,
   "id": "4091e90e",
   "metadata": {},
   "outputs": [],
   "source": [
    "# for i in range(len(num_features)):\n",
    "#     num_col = num_features[i]\n",
    "#     if num_col == 'Default' or num_col == 'ChgOffPrinGr':\n",
    "#         continue\n",
    "#     else:\n",
    "#         plt.figure(figsize=(20, 10))\n",
    "#         sns.set_theme(style=\"darkgrid\")\n",
    "#         title = num_col + '_ecdf'\n",
    "#         plt.title(title)\n",
    "#         plt.hlines(y=0.5, xmin=df_copy[num_col].min(), xmax=df_copy[num_col].max(), colors='r', linestyles='dashed')\n",
    "#         sns.ecdfplot(data=df_copy, x=num_col, hue='Default', palette=sns.color_palette(\"Set2\")[:2])\n",
    "#         plt.savefig(title + '.jpeg')\n",
    "#         plt.show()"
   ]
  },
  {
   "cell_type": "code",
   "execution_count": 26,
   "id": "53623105",
   "metadata": {},
   "outputs": [],
   "source": [
    "# new_cols=list(df_copy.columns[-5:])\n",
    "# print(new_cols)\n",
    "# num = 'Default'\n",
    "# for i in range(len(new_cols)):\n",
    "#     plt.figure(figsize=(8,10))\n",
    "#     vis = df_groupby_mean[new_cols[i]].sort_values(by=num, ascending=False)\n",
    "#     title = 'Mean Default by '+ new_cols[i]\n",
    "#     plt.title(title)\n",
    "#     sns.set_theme(style=\"darkgrid\")\n",
    "#     plt.grid(True)\n",
    "#     sns.barplot(x=vis.index, y=vis[num])\n",
    "#     plt.savefig(title + '.jpeg')\n",
    "#     plt.show()"
   ]
  },
  {
   "cell_type": "code",
   "execution_count": 27,
   "id": "86d62c79",
   "metadata": {},
   "outputs": [],
   "source": [
    "# for i in range(len(obj_features)):\n",
    "#     if df_copy[obj_features[i]].nunique() < 8:\n",
    "#             plt.figure(figsize=(10, 10))\n",
    "#     elif obj_features[i] == 'Industry':\n",
    "#         plt.figure(figsize=(20, 15))\n",
    "#         vis = df_groupby_mean[obj_features[i]].sort_values(by=num, ascending=False)\n",
    "#         title = 'Mean Default by '+ obj_features[i]\n",
    "#         plt.title(title)\n",
    "#         sns.set_theme(style=\"darkgrid\")\n",
    "#         plt.grid(True)\n",
    "#         sns.barplot(y=vis.index, x=vis[num])\n",
    "#         plt.savefig(title + '.jpeg')\n",
    "#         plt.show()\n",
    "#         continue\n",
    "#     elif obj_features[i] in time_cols or 'State' in obj_features[i]:\n",
    "#         continue\n",
    "#     else:\n",
    "#         plt.figure(figsize=(20, 10))\n",
    "#     vis = df_groupby_mean[obj_features[i]].sort_values(by=num, ascending=False)\n",
    "#     title = 'Mean Default by '+ obj_features[i]\n",
    "#     plt.title(title)\n",
    "#     sns.set_theme(style=\"darkgrid\")\n",
    "#     plt.grid(True)\n",
    "#     sns.barplot(x=vis.index, y=vis[num])\n",
    "#     plt.savefig(title + '.jpeg')\n",
    "#     plt.show()"
   ]
  },
  {
   "cell_type": "code",
   "execution_count": 28,
   "id": "ad91d94c",
   "metadata": {},
   "outputs": [],
   "source": [
    "# df_copy.to_csv('clean8.csv', index=False)"
   ]
  },
  {
   "cell_type": "code",
   "execution_count": 29,
   "id": "1b173841",
   "metadata": {},
   "outputs": [],
   "source": [
    "# display(df_copy.iloc[:3,:23])\n",
    "# display(df_copy.iloc[:3,23:])"
   ]
  },
  {
   "cell_type": "code",
   "execution_count": 30,
   "id": "8d33a097",
   "metadata": {},
   "outputs": [],
   "source": [
    "# %run function.ipynb"
   ]
  },
  {
   "cell_type": "code",
   "execution_count": 31,
   "id": "cfc51d48",
   "metadata": {},
   "outputs": [],
   "source": [
    "# year_col_visualization(df_copy, num_features=['Default'], year_col='DisbursementDate_year')"
   ]
  },
  {
   "cell_type": "code",
   "execution_count": 32,
   "id": "d7da8095",
   "metadata": {},
   "outputs": [],
   "source": [
    "# obj_visualization(df_copy, obj_features=['DisbursementDate_year'])"
   ]
  },
  {
   "cell_type": "code",
   "execution_count": 33,
   "id": "55e31fa0",
   "metadata": {},
   "outputs": [],
   "source": [
    "# df_vis = df.copy()\n",
    "# df_vis = df_vis[(df_vis['DisbursementDate_year'] >= 1980) & (df_vis['DisbursementDate_year'] >= 1980)]\n",
    "# df_vis['DisbursementDate_year'] = df_vis['DisbursementDate_year'].astype('int64')\n",
    "\n",
    "# df_vis = df_vis[~pd.isnull(df_vis['DisbursementDate_year'])]\n",
    "# order = list(df.groupby(by='DisbursementDate_year').size().sort_values(ascending=False).index)\n",
    "\n",
    "# plt.figure(figsize=(23, 10))\n",
    "\n",
    "# #     plt.subplot(len(obj_features), 1, i + 1)\n",
    "# plt.title('barplot_{}'.format('DisbursementDate_year'), fontsize=20)\n",
    "# sns.set_theme(style=\"darkgrid\")\n",
    "\n",
    "# if ('DisbursementDate_year' != 'Industry') & ('State' not in 'DisbursementDate_year'):  \n",
    "#     # small category\n",
    "#     sns.countplot(x='DisbursementDate_year', data=df_vis, edgecolor='w')\n",
    "# elif ('DisbursementDate_year' != 'Industry') & ('State' in 'DisbursementDate_year'):  # state系列\n",
    "#     sns.countplot(x='DisbursementDate_year', data=df_vis, edgecolor='w', order=order)\n",
    "# else:  # industry\n",
    "#     sns.countplot(y='DisbursementDate_year', data=df_vis, edgecolor='w', order=order)\n",
    "\n",
    "# plt.savefig('barplot_{}.jpeg'.format('DisbursementDate_year'))\n",
    "# df_vis = df.copy()\n",
    "\n",
    "# plt.show()"
   ]
  },
  {
   "cell_type": "code",
   "execution_count": 46,
   "id": "607eae27",
   "metadata": {},
   "outputs": [],
   "source": [
    "%run function.ipynb"
   ]
  },
  {
   "cell_type": "code",
   "execution_count": 47,
   "id": "55d69154",
   "metadata": {},
   "outputs": [
    {
     "data": {
      "image/png": "[encoded data removed]",
      "text/plain": [
       "<Figure size 1440x720 with 1 Axes>"
      ]
     },
     "metadata": {},
     "output_type": "display_data"
    }
   ],
   "source": [
    "df_vis = df_copy[df_copy['DisbursementDate_year'] >= 1988]\n",
    "mean_default_hue_disbursementyear(df_vis, hue_cols=['Is_Cross_State'], year_col='DisbursementDate_year')"
   ]
  },
  {
   "cell_type": "code",
   "execution_count": 36,
   "id": "0c5da2e8",
   "metadata": {},
   "outputs": [
    {
     "data": {
      "text/html": [
       "<div>\n",
       "<style scoped>\n",
       "    .dataframe tbody tr th:only-of-type {\n",
       "        vertical-align: middle;\n",
       "    }\n",
       "\n",
       "    .dataframe tbody tr th {\n",
       "        vertical-align: top;\n",
       "    }\n",
       "\n",
       "    .dataframe thead th {\n",
       "        text-align: right;\n",
       "    }\n",
       "</style>\n",
       "<table border=\"1\" class=\"dataframe\">\n",
       "  <thead>\n",
       "    <tr style=\"text-align: right;\">\n",
       "      <th></th>\n",
       "      <th>LoanNr_ChkDgt</th>\n",
       "      <th>Name</th>\n",
       "      <th>City</th>\n",
       "      <th>State</th>\n",
       "      <th>Zip</th>\n",
       "      <th>Bank</th>\n",
       "      <th>BankState</th>\n",
       "      <th>ApprovalDate</th>\n",
       "      <th>Term</th>\n",
       "      <th>NoEmp</th>\n",
       "      <th>...</th>\n",
       "      <th>USDPerJobCreated</th>\n",
       "      <th>loan_marturity_date</th>\n",
       "      <th>Is_Cross_State</th>\n",
       "      <th>Appv_Dusburse_delta</th>\n",
       "      <th>Default%</th>\n",
       "      <th>RealEstate</th>\n",
       "      <th>GreatRecession</th>\n",
       "      <th>DotCom</th>\n",
       "      <th>Recession</th>\n",
       "      <th>Mon_Is_14710</th>\n",
       "    </tr>\n",
       "  </thead>\n",
       "  <tbody>\n",
       "    <tr>\n",
       "      <th>0</th>\n",
       "      <td>1000014003</td>\n",
       "      <td>ABC HOBBYCRAFT</td>\n",
       "      <td>EVANSVILLE</td>\n",
       "      <td>IN</td>\n",
       "      <td>47711</td>\n",
       "      <td>FIFTH THIRD BANK</td>\n",
       "      <td>OH</td>\n",
       "      <td>1997-02-28</td>\n",
       "      <td>84.0</td>\n",
       "      <td>4.0</td>\n",
       "      <td>...</td>\n",
       "      <td>NaN</td>\n",
       "      <td>2004-02-28</td>\n",
       "      <td>1</td>\n",
       "      <td>730.0</td>\n",
       "      <td>NaN</td>\n",
       "      <td>0.0</td>\n",
       "      <td>0.0</td>\n",
       "      <td>0.0</td>\n",
       "      <td>0.0</td>\n",
       "      <td>0.0</td>\n",
       "    </tr>\n",
       "    <tr>\n",
       "      <th>1</th>\n",
       "      <td>1000024006</td>\n",
       "      <td>LANDMARK BAR &amp; GRILLE (THE)</td>\n",
       "      <td>NEW PARIS</td>\n",
       "      <td>IN</td>\n",
       "      <td>46526</td>\n",
       "      <td>1ST SOURCE BANK</td>\n",
       "      <td>IN</td>\n",
       "      <td>1997-02-28</td>\n",
       "      <td>60.0</td>\n",
       "      <td>2.0</td>\n",
       "      <td>...</td>\n",
       "      <td>NaN</td>\n",
       "      <td>2002-02-28</td>\n",
       "      <td>0</td>\n",
       "      <td>92.0</td>\n",
       "      <td>NaN</td>\n",
       "      <td>0.0</td>\n",
       "      <td>0.0</td>\n",
       "      <td>0.0</td>\n",
       "      <td>0.0</td>\n",
       "      <td>0.0</td>\n",
       "    </tr>\n",
       "    <tr>\n",
       "      <th>2</th>\n",
       "      <td>1000034009</td>\n",
       "      <td>WHITLOCK DDS, TODD M.</td>\n",
       "      <td>BLOOMINGTON</td>\n",
       "      <td>IN</td>\n",
       "      <td>47401</td>\n",
       "      <td>GRANT COUNTY STATE BANK</td>\n",
       "      <td>IN</td>\n",
       "      <td>1997-02-28</td>\n",
       "      <td>180.0</td>\n",
       "      <td>7.0</td>\n",
       "      <td>...</td>\n",
       "      <td>NaN</td>\n",
       "      <td>2012-02-28</td>\n",
       "      <td>0</td>\n",
       "      <td>306.0</td>\n",
       "      <td>NaN</td>\n",
       "      <td>0.0</td>\n",
       "      <td>0.0</td>\n",
       "      <td>0.0</td>\n",
       "      <td>0.0</td>\n",
       "      <td>0.0</td>\n",
       "    </tr>\n",
       "    <tr>\n",
       "      <th>3</th>\n",
       "      <td>1000044001</td>\n",
       "      <td>BIG BUCKS PAWN &amp; JEWELRY, LLC</td>\n",
       "      <td>BROKEN ARROW</td>\n",
       "      <td>OK</td>\n",
       "      <td>74012</td>\n",
       "      <td>1ST NATL BK &amp; TR CO OF BROKEN</td>\n",
       "      <td>OK</td>\n",
       "      <td>1997-02-28</td>\n",
       "      <td>60.0</td>\n",
       "      <td>2.0</td>\n",
       "      <td>...</td>\n",
       "      <td>NaN</td>\n",
       "      <td>2002-02-28</td>\n",
       "      <td>0</td>\n",
       "      <td>122.0</td>\n",
       "      <td>NaN</td>\n",
       "      <td>0.0</td>\n",
       "      <td>0.0</td>\n",
       "      <td>0.0</td>\n",
       "      <td>0.0</td>\n",
       "      <td>0.0</td>\n",
       "    </tr>\n",
       "    <tr>\n",
       "      <th>4</th>\n",
       "      <td>1000054004</td>\n",
       "      <td>ANASTASIA CONFECTIONS, INC.</td>\n",
       "      <td>ORLANDO</td>\n",
       "      <td>FL</td>\n",
       "      <td>32801</td>\n",
       "      <td>FLORIDA BUS. DEVEL CORP</td>\n",
       "      <td>FL</td>\n",
       "      <td>1997-02-28</td>\n",
       "      <td>240.0</td>\n",
       "      <td>14.0</td>\n",
       "      <td>...</td>\n",
       "      <td>49376.096878</td>\n",
       "      <td>2017-02-28</td>\n",
       "      <td>0</td>\n",
       "      <td>75.0</td>\n",
       "      <td>NaN</td>\n",
       "      <td>1.0</td>\n",
       "      <td>0.0</td>\n",
       "      <td>0.0</td>\n",
       "      <td>0.0</td>\n",
       "      <td>0.0</td>\n",
       "    </tr>\n",
       "    <tr>\n",
       "      <th>...</th>\n",
       "      <td>...</td>\n",
       "      <td>...</td>\n",
       "      <td>...</td>\n",
       "      <td>...</td>\n",
       "      <td>...</td>\n",
       "      <td>...</td>\n",
       "      <td>...</td>\n",
       "      <td>...</td>\n",
       "      <td>...</td>\n",
       "      <td>...</td>\n",
       "      <td>...</td>\n",
       "      <td>...</td>\n",
       "      <td>...</td>\n",
       "      <td>...</td>\n",
       "      <td>...</td>\n",
       "      <td>...</td>\n",
       "      <td>...</td>\n",
       "      <td>...</td>\n",
       "      <td>...</td>\n",
       "      <td>...</td>\n",
       "      <td>...</td>\n",
       "    </tr>\n",
       "    <tr>\n",
       "      <th>894202</th>\n",
       "      <td>9995573004</td>\n",
       "      <td>FABRIC FARMS</td>\n",
       "      <td>UPPER ARLINGTON</td>\n",
       "      <td>OH</td>\n",
       "      <td>43221</td>\n",
       "      <td>JPMORGAN CHASE BANK NATL ASSOC</td>\n",
       "      <td>IL</td>\n",
       "      <td>1997-02-27</td>\n",
       "      <td>60.0</td>\n",
       "      <td>6.0</td>\n",
       "      <td>...</td>\n",
       "      <td>NaN</td>\n",
       "      <td>2002-02-27</td>\n",
       "      <td>1</td>\n",
       "      <td>215.0</td>\n",
       "      <td>NaN</td>\n",
       "      <td>0.0</td>\n",
       "      <td>0.0</td>\n",
       "      <td>0.0</td>\n",
       "      <td>0.0</td>\n",
       "      <td>0.0</td>\n",
       "    </tr>\n",
       "    <tr>\n",
       "      <th>894203</th>\n",
       "      <td>9995603000</td>\n",
       "      <td>FABRIC FARMS</td>\n",
       "      <td>COLUMBUS</td>\n",
       "      <td>OH</td>\n",
       "      <td>43221</td>\n",
       "      <td>JPMORGAN CHASE BANK NATL ASSOC</td>\n",
       "      <td>IL</td>\n",
       "      <td>1997-02-27</td>\n",
       "      <td>60.0</td>\n",
       "      <td>6.0</td>\n",
       "      <td>...</td>\n",
       "      <td>NaN</td>\n",
       "      <td>2002-02-27</td>\n",
       "      <td>1</td>\n",
       "      <td>246.0</td>\n",
       "      <td>NaN</td>\n",
       "      <td>0.0</td>\n",
       "      <td>0.0</td>\n",
       "      <td>0.0</td>\n",
       "      <td>0.0</td>\n",
       "      <td>1.0</td>\n",
       "    </tr>\n",
       "    <tr>\n",
       "      <th>894204</th>\n",
       "      <td>9995613003</td>\n",
       "      <td>RADCO MANUFACTURING CO.,INC.</td>\n",
       "      <td>SANTA MARIA</td>\n",
       "      <td>CA</td>\n",
       "      <td>93455</td>\n",
       "      <td>RABOBANK, NATIONAL ASSOCIATION</td>\n",
       "      <td>CA</td>\n",
       "      <td>1997-02-27</td>\n",
       "      <td>108.0</td>\n",
       "      <td>26.0</td>\n",
       "      <td>...</td>\n",
       "      <td>NaN</td>\n",
       "      <td>2006-02-27</td>\n",
       "      <td>0</td>\n",
       "      <td>215.0</td>\n",
       "      <td>NaN</td>\n",
       "      <td>0.0</td>\n",
       "      <td>0.0</td>\n",
       "      <td>0.0</td>\n",
       "      <td>0.0</td>\n",
       "      <td>0.0</td>\n",
       "    </tr>\n",
       "    <tr>\n",
       "      <th>894205</th>\n",
       "      <td>9995973006</td>\n",
       "      <td>MARUTAMA HAWAII, INC.</td>\n",
       "      <td>HONOLULU</td>\n",
       "      <td>HI</td>\n",
       "      <td>96830</td>\n",
       "      <td>BANK OF HAWAII</td>\n",
       "      <td>HI</td>\n",
       "      <td>1997-02-27</td>\n",
       "      <td>60.0</td>\n",
       "      <td>6.0</td>\n",
       "      <td>...</td>\n",
       "      <td>NaN</td>\n",
       "      <td>2002-02-27</td>\n",
       "      <td>0</td>\n",
       "      <td>32.0</td>\n",
       "      <td>0.582334</td>\n",
       "      <td>0.0</td>\n",
       "      <td>0.0</td>\n",
       "      <td>0.0</td>\n",
       "      <td>0.0</td>\n",
       "      <td>0.0</td>\n",
       "    </tr>\n",
       "    <tr>\n",
       "      <th>894206</th>\n",
       "      <td>9996003010</td>\n",
       "      <td>PACIFIC TRADEWINDS FAN &amp; LIGHT</td>\n",
       "      <td>KAILUA</td>\n",
       "      <td>HI</td>\n",
       "      <td>96734</td>\n",
       "      <td>CENTRAL PACIFIC BANK</td>\n",
       "      <td>HI</td>\n",
       "      <td>1997-02-27</td>\n",
       "      <td>48.0</td>\n",
       "      <td>1.0</td>\n",
       "      <td>...</td>\n",
       "      <td>NaN</td>\n",
       "      <td>2001-02-27</td>\n",
       "      <td>0</td>\n",
       "      <td>93.0</td>\n",
       "      <td>NaN</td>\n",
       "      <td>0.0</td>\n",
       "      <td>0.0</td>\n",
       "      <td>0.0</td>\n",
       "      <td>0.0</td>\n",
       "      <td>0.0</td>\n",
       "    </tr>\n",
       "  </tbody>\n",
       "</table>\n",
       "<p>844456 rows × 54 columns</p>\n",
       "</div>"
      ],
      "text/plain": [
       "        LoanNr_ChkDgt                            Name             City State  \\\n",
       "0          1000014003                  ABC HOBBYCRAFT       EVANSVILLE    IN   \n",
       "1          1000024006     LANDMARK BAR & GRILLE (THE)        NEW PARIS    IN   \n",
       "2          1000034009           WHITLOCK DDS, TODD M.      BLOOMINGTON    IN   \n",
       "3          1000044001   BIG BUCKS PAWN & JEWELRY, LLC     BROKEN ARROW    OK   \n",
       "4          1000054004     ANASTASIA CONFECTIONS, INC.          ORLANDO    FL   \n",
       "...               ...                             ...              ...   ...   \n",
       "894202     9995573004                    FABRIC FARMS  UPPER ARLINGTON    OH   \n",
       "894203     9995603000                    FABRIC FARMS         COLUMBUS    OH   \n",
       "894204     9995613003    RADCO MANUFACTURING CO.,INC.      SANTA MARIA    CA   \n",
       "894205     9995973006           MARUTAMA HAWAII, INC.         HONOLULU    HI   \n",
       "894206     9996003010  PACIFIC TRADEWINDS FAN & LIGHT           KAILUA    HI   \n",
       "\n",
       "          Zip                            Bank BankState ApprovalDate   Term  \\\n",
       "0       47711                FIFTH THIRD BANK        OH   1997-02-28   84.0   \n",
       "1       46526                 1ST SOURCE BANK        IN   1997-02-28   60.0   \n",
       "2       47401         GRANT COUNTY STATE BANK        IN   1997-02-28  180.0   \n",
       "3       74012   1ST NATL BK & TR CO OF BROKEN        OK   1997-02-28   60.0   \n",
       "4       32801         FLORIDA BUS. DEVEL CORP        FL   1997-02-28  240.0   \n",
       "...       ...                             ...       ...          ...    ...   \n",
       "894202  43221  JPMORGAN CHASE BANK NATL ASSOC        IL   1997-02-27   60.0   \n",
       "894203  43221  JPMORGAN CHASE BANK NATL ASSOC        IL   1997-02-27   60.0   \n",
       "894204  93455  RABOBANK, NATIONAL ASSOCIATION        CA   1997-02-27  108.0   \n",
       "894205  96830                  BANK OF HAWAII        HI   1997-02-27   60.0   \n",
       "894206  96734            CENTRAL PACIFIC BANK        HI   1997-02-27   48.0   \n",
       "\n",
       "        NoEmp  ...  USDPerJobCreated  loan_marturity_date  Is_Cross_State  \\\n",
       "0         4.0  ...               NaN           2004-02-28               1   \n",
       "1         2.0  ...               NaN           2002-02-28               0   \n",
       "2         7.0  ...               NaN           2012-02-28               0   \n",
       "3         2.0  ...               NaN           2002-02-28               0   \n",
       "4        14.0  ...      49376.096878           2017-02-28               0   \n",
       "...       ...  ...               ...                  ...             ...   \n",
       "894202    6.0  ...               NaN           2002-02-27               1   \n",
       "894203    6.0  ...               NaN           2002-02-27               1   \n",
       "894204   26.0  ...               NaN           2006-02-27               0   \n",
       "894205    6.0  ...               NaN           2002-02-27               0   \n",
       "894206    1.0  ...               NaN           2001-02-27               0   \n",
       "\n",
       "        Appv_Dusburse_delta  Default%  RealEstate  GreatRecession DotCom  \\\n",
       "0                     730.0       NaN         0.0             0.0    0.0   \n",
       "1                      92.0       NaN         0.0             0.0    0.0   \n",
       "2                     306.0       NaN         0.0             0.0    0.0   \n",
       "3                     122.0       NaN         0.0             0.0    0.0   \n",
       "4                      75.0       NaN         1.0             0.0    0.0   \n",
       "...                     ...       ...         ...             ...    ...   \n",
       "894202                215.0       NaN         0.0             0.0    0.0   \n",
       "894203                246.0       NaN         0.0             0.0    0.0   \n",
       "894204                215.0       NaN         0.0             0.0    0.0   \n",
       "894205                 32.0  0.582334         0.0             0.0    0.0   \n",
       "894206                 93.0       NaN         0.0             0.0    0.0   \n",
       "\n",
       "       Recession  Mon_Is_14710  \n",
       "0            0.0           0.0  \n",
       "1            0.0           0.0  \n",
       "2            0.0           0.0  \n",
       "3            0.0           0.0  \n",
       "4            0.0           0.0  \n",
       "...          ...           ...  \n",
       "894202       0.0           0.0  \n",
       "894203       0.0           1.0  \n",
       "894204       0.0           0.0  \n",
       "894205       0.0           0.0  \n",
       "894206       0.0           0.0  \n",
       "\n",
       "[844456 rows x 54 columns]"
      ]
     },
     "execution_count": 36,
     "metadata": {},
     "output_type": "execute_result"
    }
   ],
   "source": [
    "df_vis"
   ]
  },
  {
   "cell_type": "code",
   "execution_count": null,
   "id": "c7fd6ed4",
   "metadata": {},
   "outputs": [],
   "source": []
  }
 ],
 "metadata": {
  "kernelspec": {
   "display_name": "Python 3",
   "language": "python",
   "name": "python3"
  },
  "language_info": {
   "codemirror_mode": {
    "name": "ipython",
    "version": 3
   },
   "file_extension": ".py",
   "mimetype": "text/x-python",
   "name": "python",
   "nbconvert_exporter": "python",
   "pygments_lexer": "ipython3",
   "version": "3.9.5"
  }
 },
 "nbformat": 4,
 "nbformat_minor": 5
}
