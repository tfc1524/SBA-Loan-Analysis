{
 "cells": [
  {
   "cell_type": "code",
   "execution_count": 1,
   "id": "c33bba26",
   "metadata": {},
   "outputs": [],
   "source": [
    "import pandas as pd\n",
    "import numpy as np"
   ]
  },
  {
   "cell_type": "code",
   "execution_count": 2,
   "id": "8a431fa5",
   "metadata": {},
   "outputs": [],
   "source": [
    "def mem_usage(pandas_obj):\n",
    "    if isinstance(pandas_obj, pd.DataFrame):\n",
    "        usage_b = pandas_obj.memory_usage(deep=True).sum()\n",
    "    else:\n",
    "        usage_b = pandas_obj.memory_usage(deep=True)\n",
    "    \n",
    "    usage_mb = usage_b / 1024 ** 2\n",
    "    \n",
    "    return '{:03.2f} MB'.format(usage_mb)"
   ]
  },
  {
   "cell_type": "code",
   "execution_count": 3,
   "id": "9a070581",
   "metadata": {},
   "outputs": [],
   "source": [
    "def reducememory(gl):\n",
    "    # 優化整數與浮點數\n",
    "    gl_int = gl.select_dtypes(include=['int64'])\n",
    "    converted_int = gl_int.apply(pd.to_numeric, downcast='unsigned')\n",
    "    gl_float = gl.select_dtypes(include=['float'])\n",
    "    converted_float = gl_float.apply(pd.to_numeric, downcast='float')\n",
    "    \n",
    "    # 優化object\n",
    "    gl_obj = gl.select_dtypes(include=['object'])\n",
    "    converted_obj = pd.DataFrame()\n",
    "    \n",
    "    for col in gl_obj.columns:\n",
    "        num_unique_values = len(gl_obj[col].unique())\n",
    "        num_total_values = len(gl_obj[col])\n",
    "        \n",
    "        if num_unique_values / num_total_values < 0.5:\n",
    "            converted_obj.loc[:, col] = gl_obj[col].astype('category')\n",
    "        else:\n",
    "            converted_obj.loc[:, col] = gl_obj[col]\n",
    "\n",
    "    optimized_gl = gl.copy()\n",
    "    optimized_gl[converted_int.columns] = converted_int\n",
    "    optimized_gl[converted_float.columns] = converted_float\n",
    "    optimized_gl[converted_obj.columns] = converted_obj\n",
    "    \n",
    "    # print(mem_usage(gl))\n",
    "    # print(mem_usage(optimized_gl))\n",
    "    \n",
    "    return optimized_gl"
   ]
  },
  {
   "cell_type": "code",
   "execution_count": 4,
   "id": "df0d274c",
   "metadata": {},
   "outputs": [],
   "source": [
    "# 檢查 DataFrame 空缺值的狀態\n",
    "def na_check(df_data):\n",
    "    data_na = (df_data.isnull().sum() / len(df_data))\n",
    "    data_na = data_na.drop(data_na[data_na == 0].index).sort_values(ascending=False)\n",
    "    missing_data = pd.DataFrame({'Missing Ratio' :data_na})\n",
    "    \n",
    "    return missing_data"
   ]
  },
  {
   "cell_type": "code",
   "execution_count": 5,
   "id": "c8d7c37c",
   "metadata": {},
   "outputs": [],
   "source": [
    "def groupencoder(df, cols):\n",
    "    df = abs(df)\n",
    "    for col in cols:\n",
    "        per_25 = np.nanpercentile(df[col], 25)\n",
    "        per_50 = np.nanpercentile(df[col], 50)\n",
    "        per_75 = np.nanpercentile(df[col], 75)\n",
    "        \n",
    "        for index, row in df.iterrows():\n",
    "            if pd.isnull(row[col]) == False:\n",
    "                if row[col] > per_50:\n",
    "                    if row[col] > per_75:\n",
    "                        df.loc[index, col] = 4\n",
    "                    else:\n",
    "                        df.loc[index, col] = 3\n",
    "                else:\n",
    "                    if row[col] > per_25:\n",
    "                        df.loc[index, col] = 2\n",
    "                    else:\n",
    "                        df.loc[index, col] = 1\n",
    "                        \n",
    "    new_df = df.fillna(0)\n",
    "    return new_df"
   ]
  },
  {
   "cell_type": "code",
   "execution_count": 6,
   "id": "697d919b",
   "metadata": {},
   "outputs": [],
   "source": [
    "def is_na_or_not(x):\n",
    "    return pd.isnull(x)"
   ]
  },
  {
   "cell_type": "code",
   "execution_count": 7,
   "id": "38d865f7",
   "metadata": {},
   "outputs": [],
   "source": [
    "# 年份二位轉四位\n",
    "def year_2d_to_4d(x):\n",
    "    try:\n",
    "        if int(x) > 14:  # 代表19xx年\n",
    "            x = '19' + x\n",
    "        else:  # 20xx年\n",
    "            x = '20' + x\n",
    "    except ValueError:\n",
    "        pass\n",
    "    return x"
   ]
  },
  {
   "cell_type": "code",
   "execution_count": 8,
   "id": "ff64f22c",
   "metadata": {},
   "outputs": [],
   "source": [
    "def money_clean(org_money):\n",
    "    org_money = org_money.strip().split('.')[0]\n",
    "    org_money = org_money.strip('$').replace(',', '')\n",
    "\n",
    "    return org_money"
   ]
  },
  {
   "cell_type": "code",
   "execution_count": 3,
   "id": "64401e1c",
   "metadata": {},
   "outputs": [
    {
     "ename": "SyntaxError",
     "evalue": "invalid syntax (<ipython-input-3-a9ce5f733e28>, line 1)",
     "output_type": "error",
     "traceback": [
      "\u001b[1;36m  File \u001b[1;32m\"<ipython-input-3-a9ce5f733e28>\"\u001b[1;36m, line \u001b[1;32m1\u001b[0m\n\u001b[1;33m    def getState(zipString) {\u001b[0m\n\u001b[1;37m                            ^\u001b[0m\n\u001b[1;31mSyntaxError\u001b[0m\u001b[1;31m:\u001b[0m invalid syntax\n"
     ]
    }
   ],
   "source": []
  },
  {
   "cell_type": "code",
   "execution_count": null,
   "id": "9ccccf5a",
   "metadata": {},
   "outputs": [],
   "source": []
  }
 ],
 "metadata": {
  "kernelspec": {
   "display_name": "Python 3",
   "language": "python",
   "name": "python3"
  },
  "language_info": {
   "codemirror_mode": {
    "name": "ipython",
    "version": 3
   },
   "file_extension": ".py",
   "mimetype": "text/x-python",
   "name": "python",
   "nbconvert_exporter": "python",
   "pygments_lexer": "ipython3",
   "version": "3.9.5"
  }
 },
 "nbformat": 4,
 "nbformat_minor": 5
}
