{
 "cells": [
  {
   "cell_type": "code",
   "execution_count": 1,
   "id": "c33bba26",
   "metadata": {},
   "outputs": [],
   "source": [
    "import pandas as pd\n",
    "import numpy as np"
   ]
  },
  {
   "cell_type": "code",
   "execution_count": 2,
   "id": "8a431fa5",
   "metadata": {},
   "outputs": [],
   "source": [
    "def mem_usage(pandas_obj):\n",
    "    if isinstance(pandas_obj, pd.DataFrame):\n",
    "        usage_b = pandas_obj.memory_usage(deep=True).sum()\n",
    "    else:\n",
    "        usage_b = pandas_obj.memory_usage(deep=True)\n",
    "    \n",
    "    usage_mb = usage_b / 1024 ** 2\n",
    "    \n",
    "    return '{:03.2f} MB'.format(usage_mb)"
   ]
  },
  {
   "cell_type": "code",
   "execution_count": 1,
   "id": "8eb32b6b",
   "metadata": {},
   "outputs": [],
   "source": [
    "def different_state(s1, s2):\n",
    "    if s1 == s2:\n",
    "        return 0\n",
    "    else:\n",
    "        return 1"
   ]
  },
  {
   "cell_type": "code",
   "execution_count": 3,
   "id": "9a070581",
   "metadata": {},
   "outputs": [],
   "source": [
    "def reducememory(gl):\n",
    "    # 優化整數與浮點數\n",
    "    gl_int = gl.select_dtypes(include=['int64'])\n",
    "    converted_int = gl_int.apply(pd.to_numeric, downcast='unsigned')\n",
    "    gl_float = gl.select_dtypes(include=['float'])\n",
    "    converted_float = gl_float.apply(pd.to_numeric, downcast='float')\n",
    "    \n",
    "    # 優化object\n",
    "    gl_obj = gl.select_dtypes(include=['object'])\n",
    "    converted_obj = pd.DataFrame()\n",
    "    \n",
    "    for col in gl_obj.columns:\n",
    "        num_unique_values = len(gl_obj[col].unique())\n",
    "        num_total_values = len(gl_obj[col])\n",
    "        \n",
    "        if num_unique_values / num_total_values < 0.5:\n",
    "            converted_obj.loc[:, col] = gl_obj[col].astype('category')\n",
    "        else:\n",
    "            converted_obj.loc[:, col] = gl_obj[col]\n",
    "\n",
    "    optimized_gl = gl.copy()\n",
    "    optimized_gl[converted_int.columns] = converted_int\n",
    "    optimized_gl[converted_float.columns] = converted_float\n",
    "    optimized_gl[converted_obj.columns] = converted_obj\n",
    "    \n",
    "    # print(mem_usage(gl))\n",
    "    # print(mem_usage(optimized_gl))\n",
    "    \n",
    "    return optimized_gl"
   ]
  },
  {
   "cell_type": "code",
   "execution_count": 4,
   "id": "df0d274c",
   "metadata": {},
   "outputs": [],
   "source": [
    "# 檢查 DataFrame 空缺值的狀態\n",
    "def na_check(df_data):\n",
    "    data_na = (df_data.isnull().sum() / len(df_data))\n",
    "    data_na = data_na.drop(data_na[data_na == 0].index).sort_values(ascending=False)\n",
    "    missing_data = pd.DataFrame({'Missing Ratio' :data_na})\n",
    "    \n",
    "    return missing_data"
   ]
  },
  {
   "cell_type": "code",
   "execution_count": 5,
   "id": "c8d7c37c",
   "metadata": {},
   "outputs": [],
   "source": [
    "def groupencoder(df, cols):\n",
    "    df = abs(df)\n",
    "    for col in cols:\n",
    "        per_25 = np.nanpercentile(df[col], 25)\n",
    "        per_50 = np.nanpercentile(df[col], 50)\n",
    "        per_75 = np.nanpercentile(df[col], 75)\n",
    "        \n",
    "        for index, row in df.iterrows():\n",
    "            if pd.isnull(row[col]) == False:\n",
    "                if row[col] > per_50:\n",
    "                    if row[col] > per_75:\n",
    "                        df.loc[index, col] = 4\n",
    "                    else:\n",
    "                        df.loc[index, col] = 3\n",
    "                else:\n",
    "                    if row[col] > per_25:\n",
    "                        df.loc[index, col] = 2\n",
    "                    else:\n",
    "                        df.loc[index, col] = 1\n",
    "                        \n",
    "    new_df = df.fillna(0)\n",
    "    return new_df"
   ]
  },
  {
   "cell_type": "code",
   "execution_count": 6,
   "id": "697d919b",
   "metadata": {},
   "outputs": [],
   "source": [
    "def is_na_or_not(x):\n",
    "    return pd.isnull(x)"
   ]
  },
  {
   "cell_type": "code",
   "execution_count": 7,
   "id": "38d865f7",
   "metadata": {},
   "outputs": [],
   "source": [
    "# 年份二位轉四位\n",
    "def year_2d_to_4d(x):\n",
    "    try:\n",
    "        if int(x) > 14:  # 代表19xx年\n",
    "            x = '19' + x\n",
    "        else:  # 20xx年\n",
    "            x = '20' + x\n",
    "    except ValueError:\n",
    "        pass\n",
    "    return x"
   ]
  },
  {
   "cell_type": "code",
   "execution_count": 8,
   "id": "ff64f22c",
   "metadata": {},
   "outputs": [],
   "source": [
    "def money_clean(org_money):\n",
    "    org_money = org_money.strip().split('.')[0]\n",
    "    org_money = org_money.strip('$').replace(',', '')\n",
    "\n",
    "    return org_money"
   ]
  },
  {
   "cell_type": "code",
   "execution_count": 5,
   "id": "64401e1c",
   "metadata": {},
   "outputs": [],
   "source": [
    "def num_visualization(df, num_features):\n",
    "    # 視覺化數值型欄位\n",
    "    count = 1\n",
    "\n",
    "    for i in range(len(num_features)):\n",
    "        plt.figure(figsize=(10,10))\n",
    "        vis = df[num_features[i]]\n",
    "        upb = np.percentile(vis, 97.5)\n",
    "        lwb = np.percentile(vis, 2.5)\n",
    "        vis = vis[(vis != 0) & (vis > lwb) & (vis < upb)]\n",
    "\n",
    "        if len(vis) == 0:\n",
    "            continue\n",
    "\n",
    "        plt.title(num_features[i], fontsize=20)\n",
    "\n",
    "        binnum = math.floor(1 + 3.3 * np.log10(len(vis)))\n",
    "        print('data contains {} rows and was divided into {} groups.'.format(len(vis), binnum))\n",
    "\n",
    "        sns.histplot(data=vis, log_scale=False, bins=binnum)\n",
    "        plt.savefig('{}.jpeg'.format(num_features[i]))\n",
    "        count += 1\n",
    "        plt.show()"
   ]
  },
  {
   "cell_type": "code",
   "execution_count": 6,
   "id": "9ccccf5a",
   "metadata": {},
   "outputs": [],
   "source": [
    "def obj_visualization(df, obj_features, time_cols=['ApprovalDate_year', 'ApprovalDate_month', 'DisbursementDate_year', 'DisbursementDate_month']):\n",
    "    for i in range(len(obj_features)):\n",
    "        df_temp = pd.DataFrame(df.groupby(obj_features[i]).size(), columns=['count'])\n",
    "        df_temp = df_temp[~(df_temp.values < 100)]\n",
    "\n",
    "        if len(df_temp.index) < 8:\n",
    "            plt.figure(figsize=(10, 10))\n",
    "        else:\n",
    "            plt.figure(figsize=(20, 10))\n",
    "\n",
    "    #     plt.subplot(len(obj_features), 1, i + 1)\n",
    "        plt.title(obj_features[i], fontsize=20)\n",
    "\n",
    "        if obj_features[i] in time_cols:\n",
    "            df_temp.index = [int(i) for i in list(df_temp.index)]\n",
    "        sns.barplot(x=df_temp.index, y=df_temp['count'])\n",
    "        plt.savefig('{}.jpeg'.format(obj_features[i]))\n",
    "\n",
    "        plt.show()"
   ]
  },
  {
   "cell_type": "code",
   "execution_count": 2,
   "id": "37c1ae1b",
   "metadata": {},
   "outputs": [],
   "source": [
    "def year_col_visualization(df, num_features, year_col):\n",
    "\n",
    "    df_groupby_mean = df.groupby(by=year_col).mean()[num_features]\n",
    "\n",
    "    for i in range(len(num_features)):\n",
    "        plt.figure(figsize=(22,10))\n",
    "        num = num_features[i]\n",
    "        vis = df_groupby_mean[~(df_copy.groupby(by=year_col).size().values < 30)]\n",
    "        vis.index = [int(i) for i in list(vis.index)]\n",
    "        plt.title('Mean {} by {}'.format(num, year_col), fontsize=20)\n",
    "        plt.grid(True)\n",
    "        plt.vlines(x=[2006.0], ymin=vis[num].min(), ymax=vis[num].max(), color='r')\n",
    "        sns.lineplot(x=vis.index, y=vis[num], marker=True)\n",
    "        plt.savefig('Mean_{}_{}.jpeg'.format(num, year_col))\n",
    "        plt.show()"
   ]
  },
  {
   "cell_type": "code",
   "execution_count": 3,
   "id": "caa24621",
   "metadata": {},
   "outputs": [],
   "source": [
    "def month_col_visualization(df, num_features, mon_col):\n",
    "    \n",
    "    df_groupby_mean = df.groupby(by=mon_col).mean()[num_features]\n",
    "    \n",
    "    for i in range(len(num_features)):\n",
    "        plt.figure(figsize=(22,10))\n",
    "        num = num_features[i]\n",
    "        vis = df_groupby_mean[~(df_copy.groupby(by=mon_col).size().values < 30)]\n",
    "        vis.index = [int(i) for i in list(vis.index)]\n",
    "        plt.title('Mean {} by {}'.format(num, mon_col), fontsize=20)\n",
    "        plt.grid(True)\n",
    "        sns.lineplot(x=vis.index, y=vis[num], marker=True)\n",
    "        plt.savefig('Mean_{}_{}.jpeg'.format(num, mon_col))\n",
    "        plt.show()"
   ]
  },
  {
   "cell_type": "code",
   "execution_count": null,
   "id": "6be31a4b",
   "metadata": {},
   "outputs": [],
   "source": []
  }
 ],
 "metadata": {
  "kernelspec": {
   "display_name": "Python 3",
   "language": "python",
   "name": "python3"
  },
  "language_info": {
   "codemirror_mode": {
    "name": "ipython",
    "version": 3
   },
   "file_extension": ".py",
   "mimetype": "text/x-python",
   "name": "python",
   "nbconvert_exporter": "python",
   "pygments_lexer": "ipython3",
   "version": "3.8.8"
  }
 },
 "nbformat": 4,
 "nbformat_minor": 5
}
