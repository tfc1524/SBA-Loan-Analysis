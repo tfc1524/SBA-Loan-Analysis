{
 "cells": [
  {
   "cell_type": "code",
   "execution_count": 1,
   "id": "6ae389d5",
   "metadata": {},
   "outputs": [
    {
     "name": "stdout",
     "output_type": "stream",
     "text": [
      "(855794, 54)\n"
     ]
    },
    {
     "data": {
      "text/html": [
       "<div>\n",
       "<style scoped>\n",
       "    .dataframe tbody tr th:only-of-type {\n",
       "        vertical-align: middle;\n",
       "    }\n",
       "\n",
       "    .dataframe tbody tr th {\n",
       "        vertical-align: top;\n",
       "    }\n",
       "\n",
       "    .dataframe thead th {\n",
       "        text-align: right;\n",
       "    }\n",
       "</style>\n",
       "<table border=\"1\" class=\"dataframe\">\n",
       "  <thead>\n",
       "    <tr style=\"text-align: right;\">\n",
       "      <th></th>\n",
       "      <th>LoanNr_ChkDgt</th>\n",
       "      <th>Name</th>\n",
       "      <th>City</th>\n",
       "      <th>State</th>\n",
       "      <th>Zip</th>\n",
       "      <th>Bank</th>\n",
       "      <th>BankState</th>\n",
       "      <th>ApprovalDate</th>\n",
       "      <th>Term</th>\n",
       "      <th>NoEmp</th>\n",
       "      <th>...</th>\n",
       "      <th>USDPerJobCreated</th>\n",
       "      <th>loan_marturity_date</th>\n",
       "      <th>Is_Cross_State</th>\n",
       "      <th>Appv_Dusburse_delta</th>\n",
       "      <th>Default%</th>\n",
       "      <th>RealEstate</th>\n",
       "      <th>GreatRecession</th>\n",
       "      <th>DotCom</th>\n",
       "      <th>Recession</th>\n",
       "      <th>Mon_Is_14710</th>\n",
       "    </tr>\n",
       "  </thead>\n",
       "  <tbody>\n",
       "    <tr>\n",
       "      <th>0</th>\n",
       "      <td>1000014003</td>\n",
       "      <td>ABC HOBBYCRAFT</td>\n",
       "      <td>EVANSVILLE</td>\n",
       "      <td>IN</td>\n",
       "      <td>47711</td>\n",
       "      <td>FIFTH THIRD BANK</td>\n",
       "      <td>OH</td>\n",
       "      <td>1997-02-28</td>\n",
       "      <td>84.0</td>\n",
       "      <td>4.0</td>\n",
       "      <td>...</td>\n",
       "      <td>NaN</td>\n",
       "      <td>2004-02-28</td>\n",
       "      <td>1</td>\n",
       "      <td>730.0</td>\n",
       "      <td>NaN</td>\n",
       "      <td>0.0</td>\n",
       "      <td>0.0</td>\n",
       "      <td>0.0</td>\n",
       "      <td>0.0</td>\n",
       "      <td>0.0</td>\n",
       "    </tr>\n",
       "    <tr>\n",
       "      <th>1</th>\n",
       "      <td>1000024006</td>\n",
       "      <td>LANDMARK BAR &amp; GRILLE (THE)</td>\n",
       "      <td>NEW PARIS</td>\n",
       "      <td>IN</td>\n",
       "      <td>46526</td>\n",
       "      <td>1ST SOURCE BANK</td>\n",
       "      <td>IN</td>\n",
       "      <td>1997-02-28</td>\n",
       "      <td>60.0</td>\n",
       "      <td>2.0</td>\n",
       "      <td>...</td>\n",
       "      <td>NaN</td>\n",
       "      <td>2002-02-28</td>\n",
       "      <td>0</td>\n",
       "      <td>92.0</td>\n",
       "      <td>NaN</td>\n",
       "      <td>0.0</td>\n",
       "      <td>0.0</td>\n",
       "      <td>0.0</td>\n",
       "      <td>0.0</td>\n",
       "      <td>0.0</td>\n",
       "    </tr>\n",
       "    <tr>\n",
       "      <th>2</th>\n",
       "      <td>1000034009</td>\n",
       "      <td>WHITLOCK DDS, TODD M.</td>\n",
       "      <td>BLOOMINGTON</td>\n",
       "      <td>IN</td>\n",
       "      <td>47401</td>\n",
       "      <td>GRANT COUNTY STATE BANK</td>\n",
       "      <td>IN</td>\n",
       "      <td>1997-02-28</td>\n",
       "      <td>180.0</td>\n",
       "      <td>7.0</td>\n",
       "      <td>...</td>\n",
       "      <td>NaN</td>\n",
       "      <td>2012-02-28</td>\n",
       "      <td>0</td>\n",
       "      <td>306.0</td>\n",
       "      <td>NaN</td>\n",
       "      <td>0.0</td>\n",
       "      <td>0.0</td>\n",
       "      <td>0.0</td>\n",
       "      <td>0.0</td>\n",
       "      <td>0.0</td>\n",
       "    </tr>\n",
       "  </tbody>\n",
       "</table>\n",
       "<p>3 rows × 54 columns</p>\n",
       "</div>"
      ],
      "text/plain": [
       "   LoanNr_ChkDgt                         Name         City State    Zip  \\\n",
       "0     1000014003               ABC HOBBYCRAFT   EVANSVILLE    IN  47711   \n",
       "1     1000024006  LANDMARK BAR & GRILLE (THE)    NEW PARIS    IN  46526   \n",
       "2     1000034009        WHITLOCK DDS, TODD M.  BLOOMINGTON    IN  47401   \n",
       "\n",
       "                      Bank BankState ApprovalDate   Term  NoEmp  ...  \\\n",
       "0         FIFTH THIRD BANK        OH   1997-02-28   84.0    4.0  ...   \n",
       "1          1ST SOURCE BANK        IN   1997-02-28   60.0    2.0  ...   \n",
       "2  GRANT COUNTY STATE BANK        IN   1997-02-28  180.0    7.0  ...   \n",
       "\n",
       "   USDPerJobCreated  loan_marturity_date  Is_Cross_State  Appv_Dusburse_delta  \\\n",
       "0               NaN           2004-02-28               1                730.0   \n",
       "1               NaN           2002-02-28               0                 92.0   \n",
       "2               NaN           2012-02-28               0                306.0   \n",
       "\n",
       "   Default%  RealEstate  GreatRecession DotCom Recession  Mon_Is_14710  \n",
       "0       NaN         0.0             0.0    0.0       0.0           0.0  \n",
       "1       NaN         0.0             0.0    0.0       0.0           0.0  \n",
       "2       NaN         0.0             0.0    0.0       0.0           0.0  \n",
       "\n",
       "[3 rows x 54 columns]"
      ]
     },
     "execution_count": 1,
     "metadata": {},
     "output_type": "execute_result"
    }
   ],
   "source": [
    "import numpy as np\n",
    "import pandas as pd\n",
    "import warnings\n",
    "import matplotlib.pyplot as plt\n",
    "import seaborn as sns\n",
    "import math\n",
    "\n",
    "%matplotlib inline\n",
    "%run function.ipynb\n",
    "\n",
    "df = pd.read_csv('clean8.csv')\n",
    "df_copy = df.copy()\n",
    "print(df_copy.shape)\n",
    "df_copy.head(3)"
   ]
  },
  {
   "cell_type": "code",
   "execution_count": 2,
   "id": "94c04035",
   "metadata": {},
   "outputs": [],
   "source": [
    "pd.set_option('display.float_format', lambda x: '%.3f' % x)"
   ]
  },
  {
   "cell_type": "code",
   "execution_count": 3,
   "id": "b6767488",
   "metadata": {},
   "outputs": [
    {
     "name": "stdout",
     "output_type": "stream",
     "text": [
      "(530453, 54)\n"
     ]
    },
    {
     "data": {
      "text/html": [
       "<div>\n",
       "<style scoped>\n",
       "    .dataframe tbody tr th:only-of-type {\n",
       "        vertical-align: middle;\n",
       "    }\n",
       "\n",
       "    .dataframe tbody tr th {\n",
       "        vertical-align: top;\n",
       "    }\n",
       "\n",
       "    .dataframe thead th {\n",
       "        text-align: right;\n",
       "    }\n",
       "</style>\n",
       "<table border=\"1\" class=\"dataframe\">\n",
       "  <thead>\n",
       "    <tr style=\"text-align: right;\">\n",
       "      <th></th>\n",
       "      <th>LoanNr_ChkDgt</th>\n",
       "      <th>Name</th>\n",
       "      <th>City</th>\n",
       "      <th>State</th>\n",
       "      <th>Zip</th>\n",
       "      <th>Bank</th>\n",
       "      <th>BankState</th>\n",
       "      <th>ApprovalDate</th>\n",
       "      <th>Term</th>\n",
       "      <th>NoEmp</th>\n",
       "      <th>...</th>\n",
       "      <th>USDPerJobCreated</th>\n",
       "      <th>loan_marturity_date</th>\n",
       "      <th>Is_Cross_State</th>\n",
       "      <th>Appv_Dusburse_delta</th>\n",
       "      <th>Default%</th>\n",
       "      <th>RealEstate</th>\n",
       "      <th>GreatRecession</th>\n",
       "      <th>DotCom</th>\n",
       "      <th>Recession</th>\n",
       "      <th>Mon_Is_14710</th>\n",
       "    </tr>\n",
       "  </thead>\n",
       "  <tbody>\n",
       "    <tr>\n",
       "      <th>12</th>\n",
       "      <td>1000146010</td>\n",
       "      <td>CARVEL</td>\n",
       "      <td>APEX</td>\n",
       "      <td>NC</td>\n",
       "      <td>27502</td>\n",
       "      <td>STEARNS BK NATL ASSOC</td>\n",
       "      <td>MN</td>\n",
       "      <td>2006-02-07</td>\n",
       "      <td>162.000</td>\n",
       "      <td>2.000</td>\n",
       "      <td>...</td>\n",
       "      <td>NaN</td>\n",
       "      <td>2019-08-07</td>\n",
       "      <td>1</td>\n",
       "      <td>52.000</td>\n",
       "      <td>NaN</td>\n",
       "      <td>0.000</td>\n",
       "      <td>0.000</td>\n",
       "      <td>0.000</td>\n",
       "      <td>0.000</td>\n",
       "      <td>0.000</td>\n",
       "    </tr>\n",
       "    <tr>\n",
       "      <th>24</th>\n",
       "      <td>1000446006</td>\n",
       "      <td>SUBWAY</td>\n",
       "      <td>LITTLE ROCK</td>\n",
       "      <td>AR</td>\n",
       "      <td>72223</td>\n",
       "      <td>HOPE FCU</td>\n",
       "      <td>MS</td>\n",
       "      <td>2006-02-07</td>\n",
       "      <td>126.000</td>\n",
       "      <td>7.000</td>\n",
       "      <td>...</td>\n",
       "      <td>NaN</td>\n",
       "      <td>2016-08-07</td>\n",
       "      <td>1</td>\n",
       "      <td>82.000</td>\n",
       "      <td>NaN</td>\n",
       "      <td>0.000</td>\n",
       "      <td>0.000</td>\n",
       "      <td>0.000</td>\n",
       "      <td>0.000</td>\n",
       "      <td>1.000</td>\n",
       "    </tr>\n",
       "    <tr>\n",
       "      <th>28</th>\n",
       "      <td>1000506000</td>\n",
       "      <td>WEYLAND CORPORATION</td>\n",
       "      <td>CAMARILLO</td>\n",
       "      <td>CA</td>\n",
       "      <td>93010</td>\n",
       "      <td>WELLS FARGO BANK NATL ASSOC</td>\n",
       "      <td>SD</td>\n",
       "      <td>2006-02-07</td>\n",
       "      <td>83.000</td>\n",
       "      <td>18.000</td>\n",
       "      <td>...</td>\n",
       "      <td>106321.347</td>\n",
       "      <td>2013-01-07</td>\n",
       "      <td>1</td>\n",
       "      <td>21.000</td>\n",
       "      <td>NaN</td>\n",
       "      <td>0.000</td>\n",
       "      <td>0.000</td>\n",
       "      <td>0.000</td>\n",
       "      <td>0.000</td>\n",
       "      <td>0.000</td>\n",
       "    </tr>\n",
       "  </tbody>\n",
       "</table>\n",
       "<p>3 rows × 54 columns</p>\n",
       "</div>"
      ],
      "text/plain": [
       "    LoanNr_ChkDgt                 Name         City State    Zip  \\\n",
       "12     1000146010               CARVEL         APEX    NC  27502   \n",
       "24     1000446006               SUBWAY  LITTLE ROCK    AR  72223   \n",
       "28     1000506000  WEYLAND CORPORATION    CAMARILLO    CA  93010   \n",
       "\n",
       "                           Bank BankState ApprovalDate    Term  NoEmp  ...  \\\n",
       "12        STEARNS BK NATL ASSOC        MN   2006-02-07 162.000  2.000  ...   \n",
       "24                     HOPE FCU        MS   2006-02-07 126.000  7.000  ...   \n",
       "28  WELLS FARGO BANK NATL ASSOC        SD   2006-02-07  83.000 18.000  ...   \n",
       "\n",
       "    USDPerJobCreated  loan_marturity_date  Is_Cross_State  \\\n",
       "12               NaN           2019-08-07               1   \n",
       "24               NaN           2016-08-07               1   \n",
       "28        106321.347           2013-01-07               1   \n",
       "\n",
       "    Appv_Dusburse_delta  Default%  RealEstate  GreatRecession DotCom  \\\n",
       "12               52.000       NaN       0.000           0.000  0.000   \n",
       "24               82.000       NaN       0.000           0.000  0.000   \n",
       "28               21.000       NaN       0.000           0.000  0.000   \n",
       "\n",
       "   Recession  Mon_Is_14710  \n",
       "12     0.000         0.000  \n",
       "24     0.000         1.000  \n",
       "28     0.000         0.000  \n",
       "\n",
       "[3 rows x 54 columns]"
      ]
     },
     "execution_count": 3,
     "metadata": {},
     "output_type": "execute_result"
    }
   ],
   "source": [
    "df_copy = df_copy[(df_copy['DisbursementDate_year'] >= 2000) & (df_copy['DisbursementDate_year'] <= 2010)]\n",
    "print(df_copy.shape)\n",
    "df_copy.head(3)"
   ]
  },
  {
   "cell_type": "code",
   "execution_count": 4,
   "id": "768bb4e5",
   "metadata": {},
   "outputs": [],
   "source": [
    "df_copy['DisbursePerMonth'] = df_copy['DisbursementGross'] / df_copy['Term']\n",
    "df_copy['BankLoss'] = df_copy['ChgOffPrinGr'] - df_copy['SBA_Appv']\n",
    "df_copy.loc[list(df_copy[df_copy['BankLoss'] < 0].index), 'BankLoss'] = 0\n",
    "df_copy['BankLoss%'] = df_copy['BankLoss'] / df_copy['DisbursementGross'] * 100\n",
    "df_copy['Job'] = df_copy['CreateJob'] + df_copy['RetainedJob']"
   ]
  },
  {
   "cell_type": "code",
   "execution_count": 5,
   "id": "701293c1",
   "metadata": {},
   "outputs": [],
   "source": [
    "df_copy['SBALoss'] = df_copy['ChgOffPrinGr'] - df_copy['BankLoss']"
   ]
  },
  {
   "cell_type": "code",
   "execution_count": 6,
   "id": "f375f687",
   "metadata": {},
   "outputs": [],
   "source": [
    "# df_copy.to_csv('clean9.csv', index=False)"
   ]
  },
  {
   "cell_type": "code",
   "execution_count": 55,
   "id": "983f5002",
   "metadata": {},
   "outputs": [],
   "source": [
    "obj_features = ['State', 'BankState', 'NewExist', 'Bank', 'IsFranchised', 'UrbanRural', 'RevLineCr', 'LowDoc', 'Industry',\n",
    "                'ApprovalDate_year', 'ApprovalDate_month', 'DisbursementDate_year', 'DisbursementDate_month', 'State_division', 'RealEstate',\n",
    "                'GreatRecession', 'DotCom', 'Recession', 'Mon_Is_14710', 'Is_Cross_State']\n",
    "num_features = ['Default', 'ChgOffPrinGr', 'Term', 'DisbursementGross', 'Bank%', 'DisbursePerEmployee', 'BankLoss', 'BankLoss%', 'Job',\n",
    "                'USDPerJobCreated','NoEmp', 'CreateJob', 'RetainedJob', 'Population', 'PopDensity', 'GrAppv', 'SBA_Appv', 'Default%',\n",
    "                'HousingUnits', 'OccupiedHousingUnits', 'MedianHomeValue', 'MedianHouseholdIncome', 'Appv_Dusburse_delta', 'DisbursePerMonth', 'SBALoss']\n",
    "time_cols = ['ApprovalDate_year', 'ApprovalDate_month', 'DisbursementDate_year', 'DisbursementDate_month']\n",
    "\n",
    "df_groupby_mean = dict()\n",
    "df_groupby_size = dict()\n",
    "df_groupby_sum = dict()\n",
    "\n",
    "for col in obj_features:\n",
    "    df_groupby_mean[col] = df_copy.groupby(by=col).mean()[num_features]\n",
    "    df_groupby_sum[col] = df_copy.groupby(by=col).sum()[num_features]\n",
    "    df_groupby_size[col] = pd.DataFrame(df_copy.groupby(by=col).size())\n",
    "    df_groupby_size[col].rename(columns={0: 'size'}, inplace=True)"
   ]
  },
  {
   "cell_type": "code",
   "execution_count": 8,
   "id": "a968043b",
   "metadata": {},
   "outputs": [
    {
     "data": {
      "text/html": [
       "<div>\n",
       "<style scoped>\n",
       "    .dataframe tbody tr th:only-of-type {\n",
       "        vertical-align: middle;\n",
       "    }\n",
       "\n",
       "    .dataframe tbody tr th {\n",
       "        vertical-align: top;\n",
       "    }\n",
       "\n",
       "    .dataframe thead th {\n",
       "        text-align: right;\n",
       "    }\n",
       "</style>\n",
       "<table border=\"1\" class=\"dataframe\">\n",
       "  <thead>\n",
       "    <tr style=\"text-align: right;\">\n",
       "      <th></th>\n",
       "      <th>LoanNr_ChkDgt</th>\n",
       "      <th>Name</th>\n",
       "      <th>City</th>\n",
       "      <th>State</th>\n",
       "      <th>Zip</th>\n",
       "      <th>Bank</th>\n",
       "      <th>BankState</th>\n",
       "      <th>ApprovalDate</th>\n",
       "      <th>Term</th>\n",
       "      <th>NoEmp</th>\n",
       "      <th>...</th>\n",
       "      <th>IsFranchised</th>\n",
       "      <th>UrbanRural</th>\n",
       "      <th>RevLineCr</th>\n",
       "      <th>LowDoc</th>\n",
       "      <th>ChgOffDate</th>\n",
       "      <th>DisbursementDate</th>\n",
       "      <th>DisbursementGross</th>\n",
       "      <th>BalanceGross</th>\n",
       "      <th>Default</th>\n",
       "      <th>ChgOffPrinGr</th>\n",
       "    </tr>\n",
       "  </thead>\n",
       "  <tbody>\n",
       "    <tr>\n",
       "      <th>12</th>\n",
       "      <td>1000146010</td>\n",
       "      <td>CARVEL</td>\n",
       "      <td>APEX</td>\n",
       "      <td>NC</td>\n",
       "      <td>27502</td>\n",
       "      <td>STEARNS BK NATL ASSOC</td>\n",
       "      <td>MN</td>\n",
       "      <td>2006-02-07</td>\n",
       "      <td>162.000</td>\n",
       "      <td>2.000</td>\n",
       "      <td>...</td>\n",
       "      <td>1.000</td>\n",
       "      <td>1</td>\n",
       "      <td>0.000</td>\n",
       "      <td>0.000</td>\n",
       "      <td>NaN</td>\n",
       "      <td>2006-03-31</td>\n",
       "      <td>307175.719</td>\n",
       "      <td>0.000</td>\n",
       "      <td>0.000</td>\n",
       "      <td>NaN</td>\n",
       "    </tr>\n",
       "    <tr>\n",
       "      <th>24</th>\n",
       "      <td>1000446006</td>\n",
       "      <td>SUBWAY</td>\n",
       "      <td>LITTLE ROCK</td>\n",
       "      <td>AR</td>\n",
       "      <td>72223</td>\n",
       "      <td>HOPE FCU</td>\n",
       "      <td>MS</td>\n",
       "      <td>2006-02-07</td>\n",
       "      <td>126.000</td>\n",
       "      <td>7.000</td>\n",
       "      <td>...</td>\n",
       "      <td>0.000</td>\n",
       "      <td>1</td>\n",
       "      <td>0.000</td>\n",
       "      <td>0.000</td>\n",
       "      <td>NaN</td>\n",
       "      <td>2006-04-30</td>\n",
       "      <td>166437.357</td>\n",
       "      <td>0.000</td>\n",
       "      <td>0.000</td>\n",
       "      <td>NaN</td>\n",
       "    </tr>\n",
       "    <tr>\n",
       "      <th>28</th>\n",
       "      <td>1000506000</td>\n",
       "      <td>WEYLAND CORPORATION</td>\n",
       "      <td>CAMARILLO</td>\n",
       "      <td>CA</td>\n",
       "      <td>93010</td>\n",
       "      <td>WELLS FARGO BANK NATL ASSOC</td>\n",
       "      <td>SD</td>\n",
       "      <td>2006-02-07</td>\n",
       "      <td>83.000</td>\n",
       "      <td>18.000</td>\n",
       "      <td>...</td>\n",
       "      <td>0.000</td>\n",
       "      <td>1</td>\n",
       "      <td>1.000</td>\n",
       "      <td>0.000</td>\n",
       "      <td>NaN</td>\n",
       "      <td>2006-02-28</td>\n",
       "      <td>531606.737</td>\n",
       "      <td>0.000</td>\n",
       "      <td>0.000</td>\n",
       "      <td>NaN</td>\n",
       "    </tr>\n",
       "  </tbody>\n",
       "</table>\n",
       "<p>3 rows × 23 columns</p>\n",
       "</div>"
      ],
      "text/plain": [
       "    LoanNr_ChkDgt                 Name         City State    Zip  \\\n",
       "12     1000146010               CARVEL         APEX    NC  27502   \n",
       "24     1000446006               SUBWAY  LITTLE ROCK    AR  72223   \n",
       "28     1000506000  WEYLAND CORPORATION    CAMARILLO    CA  93010   \n",
       "\n",
       "                           Bank BankState ApprovalDate    Term  NoEmp  ...  \\\n",
       "12        STEARNS BK NATL ASSOC        MN   2006-02-07 162.000  2.000  ...   \n",
       "24                     HOPE FCU        MS   2006-02-07 126.000  7.000  ...   \n",
       "28  WELLS FARGO BANK NATL ASSOC        SD   2006-02-07  83.000 18.000  ...   \n",
       "\n",
       "    IsFranchised  UrbanRural  RevLineCr  LowDoc  ChgOffDate  DisbursementDate  \\\n",
       "12         1.000           1      0.000   0.000         NaN        2006-03-31   \n",
       "24         0.000           1      0.000   0.000         NaN        2006-04-30   \n",
       "28         0.000           1      1.000   0.000         NaN        2006-02-28   \n",
       "\n",
       "    DisbursementGross BalanceGross Default  ChgOffPrinGr  \n",
       "12         307175.719        0.000   0.000           NaN  \n",
       "24         166437.357        0.000   0.000           NaN  \n",
       "28         531606.737        0.000   0.000           NaN  \n",
       "\n",
       "[3 rows x 23 columns]"
      ]
     },
     "metadata": {},
     "output_type": "display_data"
    },
    {
     "data": {
      "text/html": [
       "<div>\n",
       "<style scoped>\n",
       "    .dataframe tbody tr th:only-of-type {\n",
       "        vertical-align: middle;\n",
       "    }\n",
       "\n",
       "    .dataframe tbody tr th {\n",
       "        vertical-align: top;\n",
       "    }\n",
       "\n",
       "    .dataframe thead th {\n",
       "        text-align: right;\n",
       "    }\n",
       "</style>\n",
       "<table border=\"1\" class=\"dataframe\">\n",
       "  <thead>\n",
       "    <tr style=\"text-align: right;\">\n",
       "      <th></th>\n",
       "      <th>GrAppv</th>\n",
       "      <th>SBA_Appv</th>\n",
       "      <th>Industry</th>\n",
       "      <th>ChgOffDate_year</th>\n",
       "      <th>ChgOffDate_month</th>\n",
       "      <th>ChgOffDate_day</th>\n",
       "      <th>DisbursementDate_year</th>\n",
       "      <th>DisbursementDate_month</th>\n",
       "      <th>DisbursementDate_day</th>\n",
       "      <th>ApprovalDate_year</th>\n",
       "      <th>...</th>\n",
       "      <th>RealEstate</th>\n",
       "      <th>GreatRecession</th>\n",
       "      <th>DotCom</th>\n",
       "      <th>Recession</th>\n",
       "      <th>Mon_Is_14710</th>\n",
       "      <th>DisbursePerMonth</th>\n",
       "      <th>BankLoss</th>\n",
       "      <th>BankLoss%</th>\n",
       "      <th>Job</th>\n",
       "      <th>SBALoss</th>\n",
       "    </tr>\n",
       "  </thead>\n",
       "  <tbody>\n",
       "    <tr>\n",
       "      <th>12</th>\n",
       "      <td>307175.719</td>\n",
       "      <td>230381.789</td>\n",
       "      <td>Retail_trade</td>\n",
       "      <td>NaN</td>\n",
       "      <td>NaN</td>\n",
       "      <td>NaN</td>\n",
       "      <td>2006.000</td>\n",
       "      <td>3.000</td>\n",
       "      <td>31.000</td>\n",
       "      <td>2006.000</td>\n",
       "      <td>...</td>\n",
       "      <td>0.000</td>\n",
       "      <td>0.000</td>\n",
       "      <td>0.000</td>\n",
       "      <td>0.000</td>\n",
       "      <td>0.000</td>\n",
       "      <td>1896.146</td>\n",
       "      <td>NaN</td>\n",
       "      <td>NaN</td>\n",
       "      <td>0.000</td>\n",
       "      <td>NaN</td>\n",
       "    </tr>\n",
       "    <tr>\n",
       "      <th>24</th>\n",
       "      <td>166437.357</td>\n",
       "      <td>141471.753</td>\n",
       "      <td>Accom/Food_serv</td>\n",
       "      <td>NaN</td>\n",
       "      <td>NaN</td>\n",
       "      <td>NaN</td>\n",
       "      <td>2006.000</td>\n",
       "      <td>4.000</td>\n",
       "      <td>30.000</td>\n",
       "      <td>2006.000</td>\n",
       "      <td>...</td>\n",
       "      <td>0.000</td>\n",
       "      <td>0.000</td>\n",
       "      <td>0.000</td>\n",
       "      <td>0.000</td>\n",
       "      <td>1.000</td>\n",
       "      <td>1320.931</td>\n",
       "      <td>NaN</td>\n",
       "      <td>NaN</td>\n",
       "      <td>0.000</td>\n",
       "      <td>NaN</td>\n",
       "    </tr>\n",
       "    <tr>\n",
       "      <th>28</th>\n",
       "      <td>121221.673</td>\n",
       "      <td>60610.836</td>\n",
       "      <td>Educational</td>\n",
       "      <td>NaN</td>\n",
       "      <td>NaN</td>\n",
       "      <td>NaN</td>\n",
       "      <td>2006.000</td>\n",
       "      <td>2.000</td>\n",
       "      <td>28.000</td>\n",
       "      <td>2006.000</td>\n",
       "      <td>...</td>\n",
       "      <td>0.000</td>\n",
       "      <td>0.000</td>\n",
       "      <td>0.000</td>\n",
       "      <td>0.000</td>\n",
       "      <td>0.000</td>\n",
       "      <td>6404.900</td>\n",
       "      <td>NaN</td>\n",
       "      <td>NaN</td>\n",
       "      <td>28.000</td>\n",
       "      <td>NaN</td>\n",
       "    </tr>\n",
       "  </tbody>\n",
       "</table>\n",
       "<p>3 rows × 36 columns</p>\n",
       "</div>"
      ],
      "text/plain": [
       "       GrAppv   SBA_Appv         Industry  ChgOffDate_year  ChgOffDate_month  \\\n",
       "12 307175.719 230381.789     Retail_trade              NaN               NaN   \n",
       "24 166437.357 141471.753  Accom/Food_serv              NaN               NaN   \n",
       "28 121221.673  60610.836      Educational              NaN               NaN   \n",
       "\n",
       "    ChgOffDate_day  DisbursementDate_year  DisbursementDate_month  \\\n",
       "12             NaN               2006.000                   3.000   \n",
       "24             NaN               2006.000                   4.000   \n",
       "28             NaN               2006.000                   2.000   \n",
       "\n",
       "    DisbursementDate_day  ApprovalDate_year  ...  RealEstate  GreatRecession  \\\n",
       "12                31.000           2006.000  ...       0.000           0.000   \n",
       "24                30.000           2006.000  ...       0.000           0.000   \n",
       "28                28.000           2006.000  ...       0.000           0.000   \n",
       "\n",
       "    DotCom  Recession  Mon_Is_14710  DisbursePerMonth  BankLoss  BankLoss%  \\\n",
       "12   0.000      0.000         0.000          1896.146       NaN        NaN   \n",
       "24   0.000      0.000         1.000          1320.931       NaN        NaN   \n",
       "28   0.000      0.000         0.000          6404.900       NaN        NaN   \n",
       "\n",
       "      Job  SBALoss  \n",
       "12  0.000      NaN  \n",
       "24  0.000      NaN  \n",
       "28 28.000      NaN  \n",
       "\n",
       "[3 rows x 36 columns]"
      ]
     },
     "metadata": {},
     "output_type": "display_data"
    }
   ],
   "source": [
    "display(df_copy.iloc[:3,:23])\n",
    "display(df_copy.iloc[:3,23:])"
   ]
  },
  {
   "cell_type": "code",
   "execution_count": 9,
   "id": "af8bc53e",
   "metadata": {},
   "outputs": [],
   "source": [
    "# num = 'Default'\n",
    "# for i in range(len(obj_features)):\n",
    "#     if df_copy[obj_features[i]].nunique() < 8:\n",
    "#             plt.figure(figsize=(10, 10))\n",
    "#     elif obj_features[i] == 'Industry':\n",
    "#         plt.figure(figsize=(20, 15))\n",
    "#         vis = df_groupby_mean[obj_features[i]].sort_values(by=num, ascending=False)\n",
    "#         title = 'Mean Default by '+ obj_features[i]\n",
    "#         plt.title(title)\n",
    "#         sns.set_theme(style=\"darkgrid\")\n",
    "#         plt.grid(True)\n",
    "#         sns.barplot(y=vis.index, x=vis[num])\n",
    "#         plt.savefig(title + '.jpeg')\n",
    "#         plt.show()\n",
    "#         continue\n",
    "#     else:\n",
    "#         plt.figure(figsize=(20, 10))\n",
    "#     vis = df_groupby_mean[obj_features[i]].sort_values(by=num, ascending=False)\n",
    "#     title = 'Mean Default by '+ obj_features[i]\n",
    "#     plt.title(title)\n",
    "#     sns.set_theme(style=\"darkgrid\")\n",
    "#     plt.grid(True)\n",
    "#     sns.barplot(x=vis.index, y=vis[num])\n",
    "#     plt.savefig(title + '.jpeg')\n",
    "#     plt.show()"
   ]
  },
  {
   "cell_type": "code",
   "execution_count": 10,
   "id": "a456011b",
   "metadata": {},
   "outputs": [],
   "source": [
    "# num_visualization_with_hue(df_copy, num_features, hue_col='Default', exclude_outlier=2.5)"
   ]
  },
  {
   "cell_type": "code",
   "execution_count": 11,
   "id": "4bb5faf0",
   "metadata": {},
   "outputs": [],
   "source": [
    "# df_vis = df_copy.copy()\n",
    "# hue_col = 'Default'\n",
    "\n",
    "# for i in range(len(num_features)):\n",
    "#     if num_features[i] in [hue_col, 'ChgOffPrinGr']:\n",
    "#         continue\n",
    "\n",
    "#     num_col = num_features[i]\n",
    "#     vis = df_vis[[num_col, hue_col]]\n",
    "#     vis = vis[~(pd.isnull(vis[num_features[i]]))]\n",
    "\n",
    "#     upb = np.percentile(vis, 97.5)\n",
    "#     lwb = np.percentile(vis, 2.5)\n",
    "#     vis = vis[(vis[num_col] >= lwb) & (vis[num_col] <= upb)]\n",
    "\n",
    "#     plt.figure(figsize=(20, 10))\n",
    "#     sns.set_theme(style=\"darkgrid\")\n",
    "#     title = num_col + '_ecdf'\n",
    "#     plt.title(title)\n",
    "#     plt.hlines(y=0.5, xmin=vis[num_col].min(), xmax=vis[num_col].max(), colors='r', linestyles='dashed')\n",
    "#     sns.set_palette(sns.color_palette(\"Set2\"))\n",
    "#     sns.ecdfplot(data=vis, x=num_col, hue='Default')\n",
    "#     plt.savefig(title + '.jpeg')\n",
    "#     plt.show()\n",
    "#     df_vis = df_copy.copy()"
   ]
  },
  {
   "cell_type": "code",
   "execution_count": 12,
   "id": "aef521c6",
   "metadata": {},
   "outputs": [],
   "source": [
    "# df_vis = df_copy.copy()\n",
    "# hue_col = 'Default'\n",
    "# db = ['DisbursementGross']\n",
    "\n",
    "# for i in range(len(db)):\n",
    "#     if db[i] in [hue_col, 'ChgOffPrinGr']:\n",
    "#         continue\n",
    "\n",
    "#     num_col = db[i]\n",
    "#     vis = df_vis[[num_col, hue_col]]\n",
    "#     vis = vis[~(pd.isnull(vis[db[i]]))]\n",
    "    \n",
    "#     upb = np.percentile(vis, 95)\n",
    "#     lwb = np.percentile(vis, 5)\n",
    "#     vis = vis[(vis[num_col] >= lwb) & (vis[num_col] <= upb)]\n",
    "    \n",
    "#     plt.figure(figsize=(20, 10))\n",
    "#     sns.set_theme(style=\"darkgrid\")\n",
    "#     title = num_col + '_ecdf'\n",
    "#     plt.title(title)\n",
    "#     plt.hlines(y=0.5, xmin=vis[num_col].min(), xmax=vis[num_col].max(), colors='r', linestyles='dashed')\n",
    "#     sns.ecdfplot(data=vis, x=num_col, hue='Default', palette=sns.color_palette(\"Set2\")[:2])\n",
    "#     plt.savefig(title + '.jpeg')\n",
    "#     plt.show()\n",
    "#     df_vis = df_copy.copy()"
   ]
  },
  {
   "cell_type": "code",
   "execution_count": 13,
   "id": "7e17f426",
   "metadata": {},
   "outputs": [],
   "source": [
    "# num_visualization(df_copy, num_features=['BankLoss'], exclude_outlier=2.5)"
   ]
  },
  {
   "cell_type": "code",
   "execution_count": 14,
   "id": "a337a022",
   "metadata": {},
   "outputs": [],
   "source": [
    "# num_col = 'BankLoss'\n",
    "# df_vis = df_copy.copy()\n",
    "# df_vis = df_vis[~(pd.isnull(df_vis[num_col]))]\n",
    "\n",
    "# upb = np.percentile(df_vis[num_col], 99.5)\n",
    "# df_vis = df_vis[(df_vis[num_col] <= upb)]\n",
    "\n",
    "# plt.figure(figsize=(20, 10))\n",
    "# sns.set_theme(style=\"darkgrid\")\n",
    "# title = num_col + '_ecdf'\n",
    "# plt.title(title)\n",
    "# plt.hlines(y=0.5, xmin=df_vis[num_col].min(), xmax=df_vis[num_col].max(), colors='r', linestyles='dashed')\n",
    "# sns.ecdfplot(data=df_vis, x=num_col, palette=sns.color_palette(\"Set2\")[:2])\n",
    "# plt.savefig(title + '.jpeg')\n",
    "# plt.show()"
   ]
  },
  {
   "cell_type": "code",
   "execution_count": 15,
   "id": "38d01f9b",
   "metadata": {},
   "outputs": [],
   "source": [
    "# num_col = 'BankLoss%'\n",
    "# df_vis = df_copy.copy()\n",
    "# df_vis = df_vis[~(pd.isnull(df_vis[num_col]))]\n",
    "\n",
    "# # upb = np.percentile(df_vis[num_col], 99)\n",
    "# # df_vis = df_vis[(df_vis[num_col] <= upb)]\n",
    "\n",
    "# plt.figure(figsize=(20, 10))\n",
    "# sns.set_theme(style=\"darkgrid\")\n",
    "# title = num_col + '_ecdf'\n",
    "# plt.title(title)\n",
    "# plt.hlines(y=0.5, xmin=df_vis[num_col].min(), xmax=df_vis[num_col].max(), colors='r', linestyles='dashed')\n",
    "# sns.ecdfplot(data=df_vis, x=num_col, palette=sns.color_palette(\"Set2\")[:2])\n",
    "# plt.savefig(title + '.jpeg')\n",
    "# plt.show()"
   ]
  },
  {
   "cell_type": "code",
   "execution_count": 16,
   "id": "9bd7a0a8",
   "metadata": {},
   "outputs": [
    {
     "data": {
      "text/plain": [
       "count    135109.000\n",
       "mean      10493.938\n",
       "std       19249.789\n",
       "min           0.000\n",
       "25%           0.000\n",
       "50%        3484.054\n",
       "75%       14437.295\n",
       "max     1213184.643\n",
       "Name: BankLoss, dtype: float64"
      ]
     },
     "execution_count": 16,
     "metadata": {},
     "output_type": "execute_result"
    }
   ],
   "source": [
    "df_copy['BankLoss'].describe()"
   ]
  },
  {
   "cell_type": "code",
   "execution_count": 17,
   "id": "bb059d2a",
   "metadata": {},
   "outputs": [
    {
     "data": {
      "text/plain": [
       "count   135109.000\n",
       "mean        12.232\n",
       "std         13.942\n",
       "min          0.000\n",
       "25%          0.000\n",
       "50%          7.223\n",
       "75%         21.458\n",
       "max         69.798\n",
       "Name: BankLoss%, dtype: float64"
      ]
     },
     "execution_count": 17,
     "metadata": {},
     "output_type": "execute_result"
    }
   ],
   "source": [
    "df_copy['BankLoss%'].describe()"
   ]
  },
  {
   "cell_type": "code",
   "execution_count": 18,
   "id": "95c9221b",
   "metadata": {},
   "outputs": [
    {
     "data": {
      "text/plain": [
       "count   530453.000\n",
       "mean         0.257\n",
       "std          0.437\n",
       "min          0.000\n",
       "25%          0.000\n",
       "50%          0.000\n",
       "75%          1.000\n",
       "max          1.000\n",
       "Name: Default, dtype: float64"
      ]
     },
     "execution_count": 18,
     "metadata": {},
     "output_type": "execute_result"
    }
   ],
   "source": [
    "df_copy['Default'].describe()"
   ]
  },
  {
   "cell_type": "code",
   "execution_count": 19,
   "id": "4280d9a2",
   "metadata": {},
   "outputs": [
    {
     "data": {
      "text/plain": [
       "0.000    394129\n",
       "1.000    136324\n",
       "Name: Default, dtype: int64"
      ]
     },
     "execution_count": 19,
     "metadata": {},
     "output_type": "execute_result"
    }
   ],
   "source": [
    "df_copy['Default'].value_counts()"
   ]
  },
  {
   "cell_type": "code",
   "execution_count": 20,
   "id": "e09297d9",
   "metadata": {},
   "outputs": [
    {
     "data": {
      "text/plain": [
       "1029063996.9125255"
      ]
     },
     "execution_count": 20,
     "metadata": {},
     "output_type": "execute_result"
    }
   ],
   "source": [
    "df_copy['ChgOffPrinGr'].sum() / 10"
   ]
  },
  {
   "cell_type": "code",
   "execution_count": 21,
   "id": "93469156",
   "metadata": {},
   "outputs": [
    {
     "data": {
      "text/plain": [
       "0.08201160749979357"
      ]
     },
     "execution_count": 21,
     "metadata": {},
     "output_type": "execute_result"
    }
   ],
   "source": [
    "df_copy['ChgOffPrinGr'].sum() / df_copy['DisbursementGross'].sum()"
   ]
  },
  {
   "cell_type": "code",
   "execution_count": 22,
   "id": "4b2ebb36",
   "metadata": {},
   "outputs": [],
   "source": [
    "# obj_visualization(df_copy, obj_features=['State', 'BankState'])"
   ]
  },
  {
   "cell_type": "code",
   "execution_count": 23,
   "id": "334cdf0b",
   "metadata": {},
   "outputs": [
    {
     "name": "stdout",
     "output_type": "stream",
     "text": [
      "0.5692926611782759\n"
     ]
    },
    {
     "data": {
      "text/plain": [
       "1    301983\n",
       "0    228470\n",
       "Name: Is_Cross_State, dtype: int64"
      ]
     },
     "execution_count": 23,
     "metadata": {},
     "output_type": "execute_result"
    }
   ],
   "source": [
    "print(df_copy['Is_Cross_State'].mean())\n",
    "df_copy['Is_Cross_State'].value_counts()"
   ]
  },
  {
   "cell_type": "code",
   "execution_count": 24,
   "id": "f9c72c5e",
   "metadata": {},
   "outputs": [
    {
     "data": {
      "text/plain": [
       "BANK OF AMERICA NATL ASSOC        56246\n",
       "BRANCH BK. & TR CO                 2175\n",
       "FIRST-CITIZENS BK & TR CO          1083\n",
       "WELLS FARGO BANK NATL ASSOC         412\n",
       "SURREY BANK & TRUST                  50\n",
       "LIVE OAK BANKING COMPANY             46\n",
       "PNC BANK, NATIONAL ASSOCIATION        7\n",
       "COMMUNITYONE BANK NATL ASSOC          5\n",
       "UWHARRIE BANK                         3\n",
       "CARTER BANK & TRUST                   3\n",
       "Name: Bank, dtype: int64"
      ]
     },
     "execution_count": 24,
     "metadata": {},
     "output_type": "execute_result"
    }
   ],
   "source": [
    "df_nc_cross = df_copy[(df_copy['Is_Cross_State'] == 1) & (df_copy['BankState'] == 'NC')]\n",
    "df_nc_cross['Bank'].value_counts()[:10]"
   ]
  },
  {
   "cell_type": "code",
   "execution_count": 25,
   "id": "1f05514d",
   "metadata": {},
   "outputs": [],
   "source": [
    "bank_list = ['CAPITAL ONE NATL ASSOC', 'HSBC BK USA NATL ASSOC', 'BRANCH BK. & TR CO', 'FIRST-CITIZENS BK & TR CO', \n",
    "             'BANK OF AMERICA NATL ASSOC', 'WELLS FARGO BANK NATL ASSOC', 'CITIBANK, N.A.']"
   ]
  },
  {
   "cell_type": "code",
   "execution_count": 26,
   "id": "71c75053",
   "metadata": {},
   "outputs": [
    {
     "name": "stdout",
     "output_type": "stream",
     "text": [
      "======CAPITAL ONE NATL ASSOC======\n",
      "======ALL======\n"
     ]
    },
    {
     "data": {
      "text/plain": [
       "0.000    12023\n",
       "1.000     9390\n",
       "Name: Default, dtype: int64"
      ]
     },
     "metadata": {},
     "output_type": "display_data"
    },
    {
     "name": "stdout",
     "output_type": "stream",
     "text": [
      "row: 21413\n",
      "Default rate: 43.85%\n",
      "======Cross State======\n"
     ]
    },
    {
     "data": {
      "text/plain": [
       "0.000    11652\n",
       "1.000     9141\n",
       "Name: Default, dtype: int64"
      ]
     },
     "metadata": {},
     "output_type": "display_data"
    },
    {
     "name": "stdout",
     "output_type": "stream",
     "text": [
      "row: 20793\n",
      "Default rate: 43.96%\n",
      "======HSBC BK USA NATL ASSOC======\n",
      "======ALL======\n"
     ]
    },
    {
     "data": {
      "text/plain": [
       "0.000    1689\n",
       "1.000    1653\n",
       "Name: Default, dtype: int64"
      ]
     },
     "metadata": {},
     "output_type": "display_data"
    },
    {
     "name": "stdout",
     "output_type": "stream",
     "text": [
      "row: 3342\n",
      "Default rate: 49.46%\n",
      "======Cross State======\n"
     ]
    },
    {
     "data": {
      "text/plain": [
       "1.000    1240\n",
       "0.000     220\n",
       "Name: Default, dtype: int64"
      ]
     },
     "metadata": {},
     "output_type": "display_data"
    },
    {
     "name": "stdout",
     "output_type": "stream",
     "text": [
      "row: 1460\n",
      "Default rate: 84.93%\n",
      "======BRANCH BK. & TR CO======\n",
      "======ALL======\n"
     ]
    },
    {
     "data": {
      "text/plain": [
       "0.000    2694\n",
       "1.000     524\n",
       "Name: Default, dtype: int64"
      ]
     },
     "metadata": {},
     "output_type": "display_data"
    },
    {
     "name": "stdout",
     "output_type": "stream",
     "text": [
      "row: 3218\n",
      "Default rate: 16.28%\n",
      "======Cross State======\n"
     ]
    },
    {
     "data": {
      "text/plain": [
       "0.000    1816\n",
       "1.000     404\n",
       "Name: Default, dtype: int64"
      ]
     },
     "metadata": {},
     "output_type": "display_data"
    },
    {
     "name": "stdout",
     "output_type": "stream",
     "text": [
      "row: 2220\n",
      "Default rate: 18.20%\n",
      "======FIRST-CITIZENS BK & TR CO======\n",
      "======ALL======\n"
     ]
    },
    {
     "data": {
      "text/plain": [
       "0.000    1416\n",
       "1.000     232\n",
       "Name: Default, dtype: int64"
      ]
     },
     "metadata": {},
     "output_type": "display_data"
    },
    {
     "name": "stdout",
     "output_type": "stream",
     "text": [
      "row: 1648\n",
      "Default rate: 14.08%\n",
      "======Cross State======\n"
     ]
    },
    {
     "data": {
      "text/plain": [
       "0.000    1027\n",
       "1.000     166\n",
       "Name: Default, dtype: int64"
      ]
     },
     "metadata": {},
     "output_type": "display_data"
    },
    {
     "name": "stdout",
     "output_type": "stream",
     "text": [
      "row: 1193\n",
      "Default rate: 13.91%\n",
      "======BANK OF AMERICA NATL ASSOC======\n",
      "======ALL======\n"
     ]
    },
    {
     "data": {
      "text/plain": [
       "0.000    44645\n",
       "1.000    23248\n",
       "Name: Default, dtype: int64"
      ]
     },
     "metadata": {},
     "output_type": "display_data"
    },
    {
     "name": "stdout",
     "output_type": "stream",
     "text": [
      "row: 67893\n",
      "Default rate: 34.24%\n",
      "======Cross State======\n"
     ]
    },
    {
     "data": {
      "text/plain": [
       "0.000    42677\n",
       "1.000    22628\n",
       "Name: Default, dtype: int64"
      ]
     },
     "metadata": {},
     "output_type": "display_data"
    },
    {
     "name": "stdout",
     "output_type": "stream",
     "text": [
      "row: 65305\n",
      "Default rate: 34.65%\n",
      "======WELLS FARGO BANK NATL ASSOC======\n",
      "======ALL======\n"
     ]
    },
    {
     "data": {
      "text/plain": [
       "0.000    19737\n",
       "1.000     6477\n",
       "Name: Default, dtype: int64"
      ]
     },
     "metadata": {},
     "output_type": "display_data"
    },
    {
     "name": "stdout",
     "output_type": "stream",
     "text": [
      "row: 26214\n",
      "Default rate: 24.71%\n",
      "======Cross State======\n"
     ]
    },
    {
     "data": {
      "text/plain": [
       "0.000    15418\n",
       "1.000     6250\n",
       "Name: Default, dtype: int64"
      ]
     },
     "metadata": {},
     "output_type": "display_data"
    },
    {
     "name": "stdout",
     "output_type": "stream",
     "text": [
      "row: 21668\n",
      "Default rate: 28.84%\n",
      "======CITIBANK, N.A.======\n",
      "======ALL======\n"
     ]
    },
    {
     "data": {
      "text/plain": [
       "0.000    3857\n",
       "1.000    1350\n",
       "Name: Default, dtype: int64"
      ]
     },
     "metadata": {},
     "output_type": "display_data"
    },
    {
     "name": "stdout",
     "output_type": "stream",
     "text": [
      "row: 5207\n",
      "Default rate: 25.93%\n",
      "======Cross State======\n"
     ]
    },
    {
     "data": {
      "text/plain": [
       "0.000    2079\n",
       "1.000    1153\n",
       "Name: Default, dtype: int64"
      ]
     },
     "metadata": {},
     "output_type": "display_data"
    },
    {
     "name": "stdout",
     "output_type": "stream",
     "text": [
      "row: 3232\n",
      "Default rate: 35.67%\n"
     ]
    }
   ],
   "source": [
    "for bk in bank_list:\n",
    "    print(('=' * 6) + bk + ('=' * 6))\n",
    "    print('======ALL======')\n",
    "    df_cpt1 = df_copy[(df_copy['Bank'] == bk)]\n",
    "    display(df_cpt1['Default'].value_counts())\n",
    "    print('row:', len(df_cpt1))\n",
    "    print('Default rate: {:.2f}%'.format(df_cpt1['Default'].mean() * 100))\n",
    "    print('======Cross State======')\n",
    "    df_cpt1 = df_copy[(df_copy['Is_Cross_State'] == 1) & (df_copy['Bank'] == bk)]\n",
    "    display(df_cpt1['Default'].value_counts())\n",
    "    print('row:', len(df_cpt1))\n",
    "    print('Default rate: {:.2f}%'.format(df_cpt1['Default'].mean() * 100))"
   ]
  },
  {
   "cell_type": "code",
   "execution_count": 27,
   "id": "6fff6994",
   "metadata": {},
   "outputs": [
    {
     "data": {
      "text/plain": [
       "BANK OF AMERICA NATL ASSOC        67893\n",
       "JPMORGAN CHASE BANK NATL ASSOC    32342\n",
       "CITIZENS BANK NATL ASSOC          31629\n",
       "WELLS FARGO BANK NATL ASSOC       26214\n",
       "BBCN BANK                         21681\n",
       "Name: Bank, dtype: int64"
      ]
     },
     "execution_count": 27,
     "metadata": {},
     "output_type": "execute_result"
    }
   ],
   "source": [
    "df_copy['Bank'].value_counts()[:5]"
   ]
  },
  {
   "cell_type": "code",
   "execution_count": 28,
   "id": "98719b37",
   "metadata": {},
   "outputs": [
    {
     "name": "stdout",
     "output_type": "stream",
     "text": [
      "\n",
      "======BANK OF AMERICA NATL ASSOC======\n",
      "\n",
      "======ALL======\n"
     ]
    },
    {
     "data": {
      "text/plain": [
       "0.000    44645\n",
       "1.000    23248\n",
       "Name: Default, dtype: int64"
      ]
     },
     "metadata": {},
     "output_type": "display_data"
    },
    {
     "name": "stdout",
     "output_type": "stream",
     "text": [
      "row: 67893\n",
      "Default rate: 34.24%\n",
      "\n",
      "======Cross State======\n",
      "\n"
     ]
    },
    {
     "data": {
      "text/plain": [
       "0.000    42677\n",
       "1.000    22628\n",
       "Name: Default, dtype: int64"
      ]
     },
     "metadata": {},
     "output_type": "display_data"
    },
    {
     "name": "stdout",
     "output_type": "stream",
     "text": [
      "row: 65305\n",
      "Default rate: 34.65%\n",
      "\n",
      "======JPMORGAN CHASE BANK NATL ASSOC======\n",
      "\n",
      "======ALL======\n"
     ]
    },
    {
     "data": {
      "text/plain": [
       "0.000    20493\n",
       "1.000    11849\n",
       "Name: Default, dtype: int64"
      ]
     },
     "metadata": {},
     "output_type": "display_data"
    },
    {
     "name": "stdout",
     "output_type": "stream",
     "text": [
      "row: 32342\n",
      "Default rate: 36.64%\n",
      "\n",
      "======Cross State======\n",
      "\n"
     ]
    },
    {
     "data": {
      "text/plain": [
       "0.000    18428\n",
       "1.000    10678\n",
       "Name: Default, dtype: int64"
      ]
     },
     "metadata": {},
     "output_type": "display_data"
    },
    {
     "name": "stdout",
     "output_type": "stream",
     "text": [
      "row: 29106\n",
      "Default rate: 36.69%\n",
      "\n",
      "======CITIZENS BANK NATL ASSOC======\n",
      "\n",
      "======ALL======\n"
     ]
    },
    {
     "data": {
      "text/plain": [
       "0.000    23073\n",
       "1.000     8556\n",
       "Name: Default, dtype: int64"
      ]
     },
     "metadata": {},
     "output_type": "display_data"
    },
    {
     "name": "stdout",
     "output_type": "stream",
     "text": [
      "row: 31629\n",
      "Default rate: 27.05%\n",
      "\n",
      "======Cross State======\n",
      "\n"
     ]
    },
    {
     "data": {
      "text/plain": [
       "0.000    17701\n",
       "1.000     7811\n",
       "Name: Default, dtype: int64"
      ]
     },
     "metadata": {},
     "output_type": "display_data"
    },
    {
     "name": "stdout",
     "output_type": "stream",
     "text": [
      "row: 25512\n",
      "Default rate: 30.62%\n",
      "\n",
      "======WELLS FARGO BANK NATL ASSOC======\n",
      "\n",
      "======ALL======\n"
     ]
    },
    {
     "data": {
      "text/plain": [
       "0.000    19737\n",
       "1.000     6477\n",
       "Name: Default, dtype: int64"
      ]
     },
     "metadata": {},
     "output_type": "display_data"
    },
    {
     "name": "stdout",
     "output_type": "stream",
     "text": [
      "row: 26214\n",
      "Default rate: 24.71%\n",
      "\n",
      "======Cross State======\n",
      "\n"
     ]
    },
    {
     "data": {
      "text/plain": [
       "0.000    15418\n",
       "1.000     6250\n",
       "Name: Default, dtype: int64"
      ]
     },
     "metadata": {},
     "output_type": "display_data"
    },
    {
     "name": "stdout",
     "output_type": "stream",
     "text": [
      "row: 21668\n",
      "Default rate: 28.84%\n",
      "\n",
      "======BBCN BANK======\n",
      "\n",
      "======ALL======\n"
     ]
    },
    {
     "data": {
      "text/plain": [
       "1.000    13598\n",
       "0.000     8083\n",
       "Name: Default, dtype: int64"
      ]
     },
     "metadata": {},
     "output_type": "display_data"
    },
    {
     "name": "stdout",
     "output_type": "stream",
     "text": [
      "row: 21681\n",
      "Default rate: 62.72%\n",
      "\n",
      "======Cross State======\n",
      "\n"
     ]
    },
    {
     "data": {
      "text/plain": [
       "1.000    10091\n",
       "0.000     5231\n",
       "Name: Default, dtype: int64"
      ]
     },
     "metadata": {},
     "output_type": "display_data"
    },
    {
     "name": "stdout",
     "output_type": "stream",
     "text": [
      "row: 15322\n",
      "Default rate: 65.86%\n",
      "\n",
      "======CAPITAL ONE NATL ASSOC======\n",
      "\n",
      "======ALL======\n"
     ]
    },
    {
     "data": {
      "text/plain": [
       "0.000    12023\n",
       "1.000     9390\n",
       "Name: Default, dtype: int64"
      ]
     },
     "metadata": {},
     "output_type": "display_data"
    },
    {
     "name": "stdout",
     "output_type": "stream",
     "text": [
      "row: 21413\n",
      "Default rate: 43.85%\n",
      "\n",
      "======Cross State======\n",
      "\n"
     ]
    },
    {
     "data": {
      "text/plain": [
       "0.000    11652\n",
       "1.000     9141\n",
       "Name: Default, dtype: int64"
      ]
     },
     "metadata": {},
     "output_type": "display_data"
    },
    {
     "name": "stdout",
     "output_type": "stream",
     "text": [
      "row: 20793\n",
      "Default rate: 43.96%\n",
      "\n",
      "======U.S. BANK NATIONAL ASSOCIATION======\n",
      "\n",
      "======ALL======\n"
     ]
    },
    {
     "data": {
      "text/plain": [
       "0.000    14456\n",
       "1.000     5273\n",
       "Name: Default, dtype: int64"
      ]
     },
     "metadata": {},
     "output_type": "display_data"
    },
    {
     "name": "stdout",
     "output_type": "stream",
     "text": [
      "row: 19729\n",
      "Default rate: 26.73%\n",
      "\n",
      "======Cross State======\n",
      "\n"
     ]
    },
    {
     "data": {
      "text/plain": [
       "0.000    12930\n",
       "1.000     4815\n",
       "Name: Default, dtype: int64"
      ]
     },
     "metadata": {},
     "output_type": "display_data"
    },
    {
     "name": "stdout",
     "output_type": "stream",
     "text": [
      "row: 17745\n",
      "Default rate: 27.13%\n",
      "\n",
      "======PNC BANK, NATIONAL ASSOCIATION======\n",
      "\n",
      "======ALL======\n"
     ]
    },
    {
     "data": {
      "text/plain": [
       "0.000    14240\n",
       "1.000     4713\n",
       "Name: Default, dtype: int64"
      ]
     },
     "metadata": {},
     "output_type": "display_data"
    },
    {
     "name": "stdout",
     "output_type": "stream",
     "text": [
      "row: 18953\n",
      "Default rate: 24.87%\n",
      "\n",
      "======Cross State======\n",
      "\n"
     ]
    },
    {
     "data": {
      "text/plain": [
       "0.000    10616\n",
       "1.000     4584\n",
       "Name: Default, dtype: int64"
      ]
     },
     "metadata": {},
     "output_type": "display_data"
    },
    {
     "name": "stdout",
     "output_type": "stream",
     "text": [
      "row: 15200\n",
      "Default rate: 30.16%\n",
      "\n",
      "======READYCAP LENDING, LLC======\n",
      "\n",
      "======ALL======\n"
     ]
    },
    {
     "data": {
      "text/plain": [
       "0.000    4695\n",
       "1.000    2238\n",
       "Name: Default, dtype: int64"
      ]
     },
     "metadata": {},
     "output_type": "display_data"
    },
    {
     "name": "stdout",
     "output_type": "stream",
     "text": [
      "row: 6933\n",
      "Default rate: 32.28%\n",
      "\n",
      "======Cross State======\n",
      "\n"
     ]
    },
    {
     "data": {
      "text/plain": [
       "0.000    4125\n",
       "1.000    1953\n",
       "Name: Default, dtype: int64"
      ]
     },
     "metadata": {},
     "output_type": "display_data"
    },
    {
     "name": "stdout",
     "output_type": "stream",
     "text": [
      "row: 6078\n",
      "Default rate: 32.13%\n",
      "\n",
      "======MANUFACTURERS & TRADERS TR CO======\n",
      "\n",
      "======ALL======\n"
     ]
    },
    {
     "data": {
      "text/plain": [
       "0.000    5310\n",
       "1.000    1144\n",
       "Name: Default, dtype: int64"
      ]
     },
     "metadata": {},
     "output_type": "display_data"
    },
    {
     "name": "stdout",
     "output_type": "stream",
     "text": [
      "row: 6454\n",
      "Default rate: 17.73%\n",
      "\n",
      "======Cross State======\n",
      "\n"
     ]
    },
    {
     "data": {
      "text/plain": [
       "0.000    2226\n",
       "1.000     551\n",
       "Name: Default, dtype: int64"
      ]
     },
     "metadata": {},
     "output_type": "display_data"
    },
    {
     "name": "stdout",
     "output_type": "stream",
     "text": [
      "row: 2777\n",
      "Default rate: 19.84%\n"
     ]
    }
   ],
   "source": [
    "for bk in list(df_copy['Bank'].value_counts()[:10].index):\n",
    "    print('')\n",
    "    print(('=' * 6) + bk + ('=' * 6))\n",
    "    print('')\n",
    "    print('======ALL======')\n",
    "    df_cpt1 = df_copy[(df_copy['Bank'] == bk)]\n",
    "    display(df_cpt1['Default'].value_counts())\n",
    "    print('row:', len(df_cpt1))\n",
    "    print('Default rate: {:.2f}%'.format(df_cpt1['Default'].mean() * 100))\n",
    "    print('')\n",
    "    print('======Cross State======')\n",
    "    print('')\n",
    "    df_cpt1 = df_copy[(df_copy['Is_Cross_State'] == 1) & (df_copy['Bank'] == bk)]\n",
    "    display(df_cpt1['Default'].value_counts())\n",
    "    print('row:', len(df_cpt1))\n",
    "    print('Default rate: {:.2f}%'.format(df_cpt1['Default'].mean() * 100))"
   ]
  },
  {
   "cell_type": "code",
   "execution_count": 29,
   "id": "89b53c29",
   "metadata": {},
   "outputs": [],
   "source": [
    "# df_va_cross.to_csv('VA_CrossState.csv', index=False)\n",
    "# df_nc_cross.to_csv('NC_CrossState.csv', index=False)"
   ]
  },
  {
   "cell_type": "code",
   "execution_count": 30,
   "id": "bca5cf0b",
   "metadata": {},
   "outputs": [],
   "source": [
    "# df_vis = df_copy.copy()\n",
    "\n",
    "# x_axis = \"Term\"\n",
    "# y_axis = \"DisbursementGross\"\n",
    "# hue_col = 'Default'\n",
    "# exclude_outlier=1\n",
    "\n",
    "# df_vis = df_vis[~(pd.isnull(df_vis[x_axis]))]\n",
    "# df_vis = df_vis[~(pd.isnull(df_vis[y_axis]))]\n",
    "\n",
    "# upb1 = np.percentile(df_vis[x_axis], 100-exclude_outlier)\n",
    "# df_vis = df_vis[(df_vis[x_axis] <= upb1)]\n",
    "# upb2 = np.percentile(df_vis[y_axis], 100-exclude_outlier)\n",
    "# df_vis = df_vis[(df_vis[y_axis] <= upb2)]\n",
    "\n",
    "# df_samp = df_vis.sample(n=2000, random_state=0)\n",
    "\n",
    "# plt.figure(figsize=(15, 12))\n",
    "# sns.set_theme(style=\"darkgrid\")\n",
    "# title = 'scatter plot_{}_{}_default hue'.format(x_axis, y_axis)\n",
    "# plt.title(title)\n",
    "# sns.scatterplot(data=df_samp, x=x_axis, y=y_axis, hue=hue_col)\n",
    "# plt.savefig(title + '.jpeg')\n",
    "# plt.show()"
   ]
  },
  {
   "cell_type": "code",
   "execution_count": 31,
   "id": "d917948e",
   "metadata": {},
   "outputs": [],
   "source": [
    "# scatter_plot_with_hue(df=df_copy, x_axis = \"Term\", y_axis=\"DisbursementGross\", hue_col='RevLineCr', exclude_outlier=1)"
   ]
  },
  {
   "cell_type": "code",
   "execution_count": 32,
   "id": "0fc4d633",
   "metadata": {},
   "outputs": [],
   "source": [
    "# scatter_plot_with_hue(df=df_copy, x_axis = \"Term\", y_axis=\"DisbursementGross\", hue_col='LowDoc', exclude_outlier=1)"
   ]
  },
  {
   "cell_type": "code",
   "execution_count": 33,
   "id": "5ea0c967",
   "metadata": {},
   "outputs": [],
   "source": [
    "# scatter_plot_with_hue(df=df_copy, x_axis = \"Term\", y_axis=\"DisbursementGross\", hue_col='RealEstate', exclude_outlier=1)"
   ]
  },
  {
   "cell_type": "code",
   "execution_count": 34,
   "id": "11f61db6",
   "metadata": {},
   "outputs": [],
   "source": [
    "# scatter_plot_with_hue(df=df_copy, x_axis = \"Term\", y_axis=\"DisbursementGross\", hue_col='Is_Cross_State', exclude_outlier=1)"
   ]
  },
  {
   "cell_type": "code",
   "execution_count": 35,
   "id": "88a19074",
   "metadata": {},
   "outputs": [],
   "source": [
    "# num = 'Term'\n",
    "# df_vis = df_copy.copy()\n",
    "# df_vis = df_vis[df_vis['ApprovalDate_year'] >= 1998]\n",
    "\n",
    "# for i in range(len(obj_features)):\n",
    "#     if obj_features[i] == 'Bank':\n",
    "#         continue\n",
    "#     if df_vis[obj_features[i]].nunique() < 8:\n",
    "#         plt.figure(figsize=(10, 10))\n",
    "#     elif obj_features[i] == 'Industry':\n",
    "#         plt.figure(figsize=(20, 15))\n",
    "#         vis = df_vis.groupby(by=obj_features[i]).mean().sort_values(by=num, ascending=False)\n",
    "#         title = 'Mean {} by {}'.format(num, obj_features[i])\n",
    "#         plt.title(title)\n",
    "#         sns.set_theme(style=\"darkgrid\")\n",
    "#         plt.grid(True)\n",
    "#         sns.barplot(y=vis.index, x=vis[num])\n",
    "#         plt.savefig(title + '.jpeg')\n",
    "#         plt.show()\n",
    "#         continue\n",
    "#     else:\n",
    "#         plt.figure(figsize=(20, 10))\n",
    "        \n",
    "#     vis = df_vis.groupby(by=obj_features[i]).mean().sort_values(by=num, ascending=False)\n",
    "    \n",
    "#     if obj_features[i] in time_cols:\n",
    "#         vis.index = [int(i) for i in vis.index]\n",
    "    \n",
    "#     title = 'Mean {} by {}'.format(num, obj_features[i])\n",
    "#     plt.title(title)\n",
    "#     sns.set_theme(style=\"darkgrid\")\n",
    "#     plt.grid(True)\n",
    "#     sns.barplot(x=vis.index, y=vis[num])\n",
    "#     plt.savefig(title + '.jpeg')\n",
    "#     plt.show()"
   ]
  },
  {
   "cell_type": "code",
   "execution_count": 36,
   "id": "803414a8",
   "metadata": {},
   "outputs": [
    {
     "name": "stdout",
     "output_type": "stream",
     "text": [
      "1417825433.05309\n"
     ]
    }
   ],
   "source": [
    "print(df_copy['BankLoss'].sum())"
   ]
  },
  {
   "cell_type": "code",
   "execution_count": 37,
   "id": "b52cfc42",
   "metadata": {},
   "outputs": [
    {
     "name": "stdout",
     "output_type": "stream",
     "text": [
      "8872814536.072166\n"
     ]
    }
   ],
   "source": [
    "print(df_copy['ChgOffPrinGr'].sum() - df_copy['BankLoss'].sum())"
   ]
  },
  {
   "cell_type": "code",
   "execution_count": 38,
   "id": "1f393ee8",
   "metadata": {},
   "outputs": [],
   "source": [
    "df_bank_mean = df_groupby_mean['Bank'].loc[list(df_groupby_size['Bank'].sort_values(by='size', ascending=False)[:100].index), :]\n",
    "df_bank_sum = df_groupby_sum['Bank'].loc[list(df_groupby_size['Bank'].sort_values(by='size', ascending=False)[:100].index), :]"
   ]
  },
  {
   "cell_type": "code",
   "execution_count": 39,
   "id": "8b729f13",
   "metadata": {},
   "outputs": [
    {
     "data": {
      "text/html": [
       "<div>\n",
       "<style scoped>\n",
       "    .dataframe tbody tr th:only-of-type {\n",
       "        vertical-align: middle;\n",
       "    }\n",
       "\n",
       "    .dataframe tbody tr th {\n",
       "        vertical-align: top;\n",
       "    }\n",
       "\n",
       "    .dataframe thead th {\n",
       "        text-align: right;\n",
       "    }\n",
       "</style>\n",
       "<table border=\"1\" class=\"dataframe\">\n",
       "  <thead>\n",
       "    <tr style=\"text-align: right;\">\n",
       "      <th></th>\n",
       "      <th>index</th>\n",
       "      <th>Bank</th>\n",
       "      <th>size</th>\n",
       "    </tr>\n",
       "  </thead>\n",
       "  <tbody>\n",
       "    <tr>\n",
       "      <th>0</th>\n",
       "      <td>1</td>\n",
       "      <td>BANK OF AMERICA NATL ASSOC</td>\n",
       "      <td>67893</td>\n",
       "    </tr>\n",
       "    <tr>\n",
       "      <th>1</th>\n",
       "      <td>2</td>\n",
       "      <td>JPMORGAN CHASE BANK NATL ASSOC</td>\n",
       "      <td>32342</td>\n",
       "    </tr>\n",
       "    <tr>\n",
       "      <th>2</th>\n",
       "      <td>3</td>\n",
       "      <td>CITIZENS BANK NATL ASSOC</td>\n",
       "      <td>31629</td>\n",
       "    </tr>\n",
       "  </tbody>\n",
       "</table>\n",
       "</div>"
      ],
      "text/plain": [
       "   index                            Bank   size\n",
       "0      1      BANK OF AMERICA NATL ASSOC  67893\n",
       "1      2  JPMORGAN CHASE BANK NATL ASSOC  32342\n",
       "2      3        CITIZENS BANK NATL ASSOC  31629"
      ]
     },
     "execution_count": 39,
     "metadata": {},
     "output_type": "execute_result"
    }
   ],
   "source": [
    "rank = df_groupby_size['Bank'].sort_values(by='size', ascending=False)[:100].reset_index().reset_index()\n",
    "rank['index'] = rank['index'] + 1\n",
    "rank.head(3)"
   ]
  },
  {
   "cell_type": "code",
   "execution_count": 40,
   "id": "d941be82",
   "metadata": {},
   "outputs": [],
   "source": [
    "imp_cols = ['ChgOffPrinGr', 'Default', 'BankLoss', 'BankLoss%', 'Default%', 'SBALoss']\n",
    "df_bank_mean['SBALoss'] = df_bank_mean['ChgOffPrinGr'] - df_bank_mean['BankLoss']\n",
    "df_bank_sum['SBALoss'] = df_bank_sum['ChgOffPrinGr'] - df_bank_sum['BankLoss']"
   ]
  },
  {
   "cell_type": "code",
   "execution_count": 41,
   "id": "1cc4f5b8",
   "metadata": {},
   "outputs": [
    {
     "data": {
      "text/html": [
       "<div>\n",
       "<style scoped>\n",
       "    .dataframe tbody tr th:only-of-type {\n",
       "        vertical-align: middle;\n",
       "    }\n",
       "\n",
       "    .dataframe tbody tr th {\n",
       "        vertical-align: top;\n",
       "    }\n",
       "\n",
       "    .dataframe thead th {\n",
       "        text-align: right;\n",
       "    }\n",
       "</style>\n",
       "<table border=\"1\" class=\"dataframe\">\n",
       "  <thead>\n",
       "    <tr style=\"text-align: right;\">\n",
       "      <th></th>\n",
       "      <th>ChgOffPrinGr</th>\n",
       "      <th>Default</th>\n",
       "      <th>BankLoss</th>\n",
       "      <th>BankLoss%</th>\n",
       "      <th>Default%</th>\n",
       "      <th>SBALoss</th>\n",
       "    </tr>\n",
       "    <tr>\n",
       "      <th>Bank</th>\n",
       "      <th></th>\n",
       "      <th></th>\n",
       "      <th></th>\n",
       "      <th></th>\n",
       "      <th></th>\n",
       "      <th></th>\n",
       "    </tr>\n",
       "  </thead>\n",
       "  <tbody>\n",
       "    <tr>\n",
       "      <th>BANK OF AMERICA NATL ASSOC</th>\n",
       "      <td>37523.654</td>\n",
       "      <td>0.342</td>\n",
       "      <td>13663.646</td>\n",
       "      <td>22.156</td>\n",
       "      <td>0.589</td>\n",
       "      <td>23860.008</td>\n",
       "    </tr>\n",
       "    <tr>\n",
       "      <th>JPMORGAN CHASE BANK NATL ASSOC</th>\n",
       "      <td>47807.867</td>\n",
       "      <td>0.366</td>\n",
       "      <td>14232.731</td>\n",
       "      <td>15.606</td>\n",
       "      <td>0.454</td>\n",
       "      <td>33575.136</td>\n",
       "    </tr>\n",
       "    <tr>\n",
       "      <th>CITIZENS BANK NATL ASSOC</th>\n",
       "      <td>41141.740</td>\n",
       "      <td>0.271</td>\n",
       "      <td>13924.715</td>\n",
       "      <td>18.461</td>\n",
       "      <td>0.552</td>\n",
       "      <td>27217.025</td>\n",
       "    </tr>\n",
       "  </tbody>\n",
       "</table>\n",
       "</div>"
      ],
      "text/plain": [
       "                                ChgOffPrinGr  Default  BankLoss  BankLoss%  \\\n",
       "Bank                                                                         \n",
       "BANK OF AMERICA NATL ASSOC         37523.654    0.342 13663.646     22.156   \n",
       "JPMORGAN CHASE BANK NATL ASSOC     47807.867    0.366 14232.731     15.606   \n",
       "CITIZENS BANK NATL ASSOC           41141.740    0.271 13924.715     18.461   \n",
       "\n",
       "                                Default%   SBALoss  \n",
       "Bank                                                \n",
       "BANK OF AMERICA NATL ASSOC         0.589 23860.008  \n",
       "JPMORGAN CHASE BANK NATL ASSOC     0.454 33575.136  \n",
       "CITIZENS BANK NATL ASSOC           0.552 27217.025  "
      ]
     },
     "metadata": {},
     "output_type": "display_data"
    },
    {
     "data": {
      "text/html": [
       "<div>\n",
       "<style scoped>\n",
       "    .dataframe tbody tr th:only-of-type {\n",
       "        vertical-align: middle;\n",
       "    }\n",
       "\n",
       "    .dataframe tbody tr th {\n",
       "        vertical-align: top;\n",
       "    }\n",
       "\n",
       "    .dataframe thead th {\n",
       "        text-align: right;\n",
       "    }\n",
       "</style>\n",
       "<table border=\"1\" class=\"dataframe\">\n",
       "  <thead>\n",
       "    <tr style=\"text-align: right;\">\n",
       "      <th></th>\n",
       "      <th>ChgOffPrinGr</th>\n",
       "      <th>Default</th>\n",
       "      <th>BankLoss</th>\n",
       "      <th>BankLoss%</th>\n",
       "      <th>Default%</th>\n",
       "      <th>SBALoss</th>\n",
       "    </tr>\n",
       "    <tr>\n",
       "      <th>Bank</th>\n",
       "      <th></th>\n",
       "      <th></th>\n",
       "      <th></th>\n",
       "      <th></th>\n",
       "      <th></th>\n",
       "      <th></th>\n",
       "    </tr>\n",
       "  </thead>\n",
       "  <tbody>\n",
       "    <tr>\n",
       "      <th>BANK OF AMERICA NATL ASSOC</th>\n",
       "      <td>870098486.426</td>\n",
       "      <td>23248.000</td>\n",
       "      <td>316832626.932</td>\n",
       "      <td>513748.724</td>\n",
       "      <td>13650.724</td>\n",
       "      <td>553265859.494</td>\n",
       "    </tr>\n",
       "    <tr>\n",
       "      <th>JPMORGAN CHASE BANK NATL ASSOC</th>\n",
       "      <td>565997338.906</td>\n",
       "      <td>11849.000</td>\n",
       "      <td>168501304.299</td>\n",
       "      <td>184761.601</td>\n",
       "      <td>5377.449</td>\n",
       "      <td>397496034.607</td>\n",
       "    </tr>\n",
       "    <tr>\n",
       "      <th>CITIZENS BANK NATL ASSOC</th>\n",
       "      <td>313047496.616</td>\n",
       "      <td>8556.000</td>\n",
       "      <td>105953154.567</td>\n",
       "      <td>140470.807</td>\n",
       "      <td>4200.729</td>\n",
       "      <td>207094342.049</td>\n",
       "    </tr>\n",
       "  </tbody>\n",
       "</table>\n",
       "</div>"
      ],
      "text/plain": [
       "                                ChgOffPrinGr   Default      BankLoss  \\\n",
       "Bank                                                                   \n",
       "BANK OF AMERICA NATL ASSOC     870098486.426 23248.000 316832626.932   \n",
       "JPMORGAN CHASE BANK NATL ASSOC 565997338.906 11849.000 168501304.299   \n",
       "CITIZENS BANK NATL ASSOC       313047496.616  8556.000 105953154.567   \n",
       "\n",
       "                                BankLoss%  Default%       SBALoss  \n",
       "Bank                                                               \n",
       "BANK OF AMERICA NATL ASSOC     513748.724 13650.724 553265859.494  \n",
       "JPMORGAN CHASE BANK NATL ASSOC 184761.601  5377.449 397496034.607  \n",
       "CITIZENS BANK NATL ASSOC       140470.807  4200.729 207094342.049  "
      ]
     },
     "metadata": {},
     "output_type": "display_data"
    }
   ],
   "source": [
    "display(df_bank_mean[['ChgOffPrinGr', 'Default', 'BankLoss', 'BankLoss%', 'Default%', 'SBALoss']].head(3))\n",
    "display(df_bank_sum[['ChgOffPrinGr', 'Default', 'BankLoss', 'BankLoss%', 'Default%', 'SBALoss']].head(3))"
   ]
  },
  {
   "cell_type": "code",
   "execution_count": 42,
   "id": "73d5855c",
   "metadata": {},
   "outputs": [],
   "source": [
    "# for col in imp_cols:\n",
    "#     print('===== {}_mean ====='.format(col))\n",
    "#     temp_mean = df_bank_mean.sort_values(by=col, ascending=False).reset_index()\n",
    "#     result = temp_mean.set_index('Bank').join(rank.set_index('Bank'))\n",
    "#     result = result.reset_index()\n",
    "#     display(result[['Bank', col, 'index', 'size']].head(5))\n",
    "    \n",
    "#     print('===== {}_sum ====='.format(col))\n",
    "#     temp_sum = df_bank_sum.sort_values(by=col, ascending=False).reset_index()\n",
    "#     result = temp_sum.set_index('Bank').join(rank.set_index('Bank'))\n",
    "#     result = result.reset_index()\n",
    "#     display(result[['Bank', col, 'index', 'size']].head(5))"
   ]
  },
  {
   "cell_type": "code",
   "execution_count": 43,
   "id": "930d9296",
   "metadata": {},
   "outputs": [],
   "source": [
    "# year_col_visualization(df_copy, num_features=['CreateJob', 'RetainedJob', 'USDPerJobCreated', 'Job'], year_col='DisbursementDate_year')"
   ]
  },
  {
   "cell_type": "code",
   "execution_count": 44,
   "id": "9ebb8f4a",
   "metadata": {},
   "outputs": [],
   "source": [
    "# num = 'Job'\n",
    "# for i in range(len(obj_features)):\n",
    "#     if obj_features[i] == 'Bank':\n",
    "#         continue\n",
    "#     if df_copy[obj_features[i]].nunique() < 8:\n",
    "#             plt.figure(figsize=(10, 10))\n",
    "#     elif obj_features[i] == 'Industry':\n",
    "#         plt.figure(figsize=(20, 15))\n",
    "#         vis = df_groupby_mean[obj_features[i]].sort_values(by=num, ascending=False)\n",
    "#         title = 'Mean {} by {}'.format(num, obj_features[i])\n",
    "#         plt.title(title)\n",
    "#         sns.set_theme(style=\"darkgrid\")\n",
    "#         plt.grid(True)\n",
    "#         sns.barplot(y=vis.index, x=vis[num])\n",
    "#         plt.savefig(title + '.jpeg')\n",
    "#         plt.show()\n",
    "#         continue\n",
    "#     else:\n",
    "#         plt.figure(figsize=(20, 10))\n",
    "#     vis = df_groupby_mean[obj_features[i]].sort_values(by=num, ascending=False)\n",
    "#     title = 'Mean {} by {}'.format(num, obj_features[i])\n",
    "#     plt.title(title)\n",
    "#     sns.set_theme(style=\"darkgrid\")\n",
    "#     plt.grid(True)\n",
    "#     sns.barplot(x=vis.index, y=vis[num])\n",
    "#     plt.savefig(title + '.jpeg')\n",
    "#     plt.show()"
   ]
  },
  {
   "cell_type": "code",
   "execution_count": 45,
   "id": "ec8ce666",
   "metadata": {},
   "outputs": [],
   "source": [
    "# plt.figure(figsize=(20, 10))\n",
    "# sns.lineplot(data=pd.DataFrame(df_groupby_sum['DisbursementDate_year']['Job']).reset_index(), x='DisbursementDate_year', y='Job')\n",
    "# plt.xticks(pd.DataFrame(df_groupby_sum['DisbursementDate_year']['Job']).reset_index()['DisbursementDate_year'])\n",
    "# title = '2000-2009 SBA Create and Retained Job Sum'\n",
    "# plt.title(title)\n",
    "# plt.savefig('{}.jpeg'.format(title))\n",
    "# plt.show()"
   ]
  },
  {
   "cell_type": "code",
   "execution_count": 46,
   "id": "b13c5e7b",
   "metadata": {},
   "outputs": [
    {
     "data": {
      "text/html": [
       "<div>\n",
       "<style scoped>\n",
       "    .dataframe tbody tr th:only-of-type {\n",
       "        vertical-align: middle;\n",
       "    }\n",
       "\n",
       "    .dataframe tbody tr th {\n",
       "        vertical-align: top;\n",
       "    }\n",
       "\n",
       "    .dataframe thead th {\n",
       "        text-align: right;\n",
       "    }\n",
       "</style>\n",
       "<table border=\"1\" class=\"dataframe\">\n",
       "  <thead>\n",
       "    <tr style=\"text-align: right;\">\n",
       "      <th></th>\n",
       "      <th>CreateJob</th>\n",
       "      <th>RetainedJob</th>\n",
       "      <th>Job</th>\n",
       "      <th>SBALoss</th>\n",
       "    </tr>\n",
       "    <tr>\n",
       "      <th>DisbursementDate_year</th>\n",
       "      <th></th>\n",
       "      <th></th>\n",
       "      <th></th>\n",
       "      <th></th>\n",
       "    </tr>\n",
       "  </thead>\n",
       "  <tbody>\n",
       "    <tr>\n",
       "      <th>2000.000</th>\n",
       "      <td>109822.000</td>\n",
       "      <td>215998.000</td>\n",
       "      <td>325820.000</td>\n",
       "      <td>707161540.521</td>\n",
       "    </tr>\n",
       "    <tr>\n",
       "      <th>2001.000</th>\n",
       "      <td>94347.000</td>\n",
       "      <td>219341.000</td>\n",
       "      <td>313688.000</td>\n",
       "      <td>637306148.198</td>\n",
       "    </tr>\n",
       "    <tr>\n",
       "      <th>2002.000</th>\n",
       "      <td>107046.000</td>\n",
       "      <td>255179.000</td>\n",
       "      <td>362225.000</td>\n",
       "      <td>578801632.265</td>\n",
       "    </tr>\n",
       "    <tr>\n",
       "      <th>2003.000</th>\n",
       "      <td>122750.000</td>\n",
       "      <td>320475.000</td>\n",
       "      <td>443225.000</td>\n",
       "      <td>574431520.817</td>\n",
       "    </tr>\n",
       "    <tr>\n",
       "      <th>2004.000</th>\n",
       "      <td>131791.000</td>\n",
       "      <td>334978.000</td>\n",
       "      <td>466769.000</td>\n",
       "      <td>782748301.357</td>\n",
       "    </tr>\n",
       "    <tr>\n",
       "      <th>2005.000</th>\n",
       "      <td>149276.000</td>\n",
       "      <td>406617.000</td>\n",
       "      <td>555893.000</td>\n",
       "      <td>1166419170.583</td>\n",
       "    </tr>\n",
       "    <tr>\n",
       "      <th>2006.000</th>\n",
       "      <td>171742.000</td>\n",
       "      <td>438882.000</td>\n",
       "      <td>610624.000</td>\n",
       "      <td>1643508741.501</td>\n",
       "    </tr>\n",
       "    <tr>\n",
       "      <th>2007.000</th>\n",
       "      <td>180210.000</td>\n",
       "      <td>382737.000</td>\n",
       "      <td>562947.000</td>\n",
       "      <td>1719281929.606</td>\n",
       "    </tr>\n",
       "    <tr>\n",
       "      <th>2008.000</th>\n",
       "      <td>116118.000</td>\n",
       "      <td>222538.000</td>\n",
       "      <td>338656.000</td>\n",
       "      <td>837832490.939</td>\n",
       "    </tr>\n",
       "    <tr>\n",
       "      <th>2009.000</th>\n",
       "      <td>62025.000</td>\n",
       "      <td>164053.000</td>\n",
       "      <td>226078.000</td>\n",
       "      <td>225323060.286</td>\n",
       "    </tr>\n",
       "  </tbody>\n",
       "</table>\n",
       "</div>"
      ],
      "text/plain": [
       "                       CreateJob  RetainedJob        Job        SBALoss\n",
       "DisbursementDate_year                                                  \n",
       "2000.000              109822.000   215998.000 325820.000  707161540.521\n",
       "2001.000               94347.000   219341.000 313688.000  637306148.198\n",
       "2002.000              107046.000   255179.000 362225.000  578801632.265\n",
       "2003.000              122750.000   320475.000 443225.000  574431520.817\n",
       "2004.000              131791.000   334978.000 466769.000  782748301.357\n",
       "2005.000              149276.000   406617.000 555893.000 1166419170.583\n",
       "2006.000              171742.000   438882.000 610624.000 1643508741.501\n",
       "2007.000              180210.000   382737.000 562947.000 1719281929.606\n",
       "2008.000              116118.000   222538.000 338656.000  837832490.939\n",
       "2009.000               62025.000   164053.000 226078.000  225323060.286"
      ]
     },
     "execution_count": 46,
     "metadata": {},
     "output_type": "execute_result"
    }
   ],
   "source": [
    "pd.DataFrame(df_groupby_sum['DisbursementDate_year'][['CreateJob', 'RetainedJob', 'Job', 'SBALoss']])"
   ]
  },
  {
   "cell_type": "code",
   "execution_count": 47,
   "id": "f51fd7ea",
   "metadata": {},
   "outputs": [
    {
     "data": {
      "text/html": [
       "<div>\n",
       "<style scoped>\n",
       "    .dataframe tbody tr th:only-of-type {\n",
       "        vertical-align: middle;\n",
       "    }\n",
       "\n",
       "    .dataframe tbody tr th {\n",
       "        vertical-align: top;\n",
       "    }\n",
       "\n",
       "    .dataframe thead th {\n",
       "        text-align: right;\n",
       "    }\n",
       "</style>\n",
       "<table border=\"1\" class=\"dataframe\">\n",
       "  <thead>\n",
       "    <tr style=\"text-align: right;\">\n",
       "      <th></th>\n",
       "      <th>SBALoss</th>\n",
       "    </tr>\n",
       "    <tr>\n",
       "      <th>DisbursementDate_year</th>\n",
       "      <th></th>\n",
       "    </tr>\n",
       "  </thead>\n",
       "  <tbody>\n",
       "    <tr>\n",
       "      <th>2000.000</th>\n",
       "      <td>707161540.521</td>\n",
       "    </tr>\n",
       "    <tr>\n",
       "      <th>2001.000</th>\n",
       "      <td>637306148.198</td>\n",
       "    </tr>\n",
       "    <tr>\n",
       "      <th>2002.000</th>\n",
       "      <td>578801632.265</td>\n",
       "    </tr>\n",
       "    <tr>\n",
       "      <th>2003.000</th>\n",
       "      <td>574431520.817</td>\n",
       "    </tr>\n",
       "    <tr>\n",
       "      <th>2004.000</th>\n",
       "      <td>782748301.357</td>\n",
       "    </tr>\n",
       "    <tr>\n",
       "      <th>2005.000</th>\n",
       "      <td>1166419170.583</td>\n",
       "    </tr>\n",
       "    <tr>\n",
       "      <th>2006.000</th>\n",
       "      <td>1643508741.501</td>\n",
       "    </tr>\n",
       "    <tr>\n",
       "      <th>2007.000</th>\n",
       "      <td>1719281929.606</td>\n",
       "    </tr>\n",
       "    <tr>\n",
       "      <th>2008.000</th>\n",
       "      <td>837832490.939</td>\n",
       "    </tr>\n",
       "    <tr>\n",
       "      <th>2009.000</th>\n",
       "      <td>225323060.286</td>\n",
       "    </tr>\n",
       "  </tbody>\n",
       "</table>\n",
       "</div>"
      ],
      "text/plain": [
       "                             SBALoss\n",
       "DisbursementDate_year               \n",
       "2000.000               707161540.521\n",
       "2001.000               637306148.198\n",
       "2002.000               578801632.265\n",
       "2003.000               574431520.817\n",
       "2004.000               782748301.357\n",
       "2005.000              1166419170.583\n",
       "2006.000              1643508741.501\n",
       "2007.000              1719281929.606\n",
       "2008.000               837832490.939\n",
       "2009.000               225323060.286"
      ]
     },
     "execution_count": 47,
     "metadata": {},
     "output_type": "execute_result"
    }
   ],
   "source": [
    "pd.DataFrame(df_groupby_sum['DisbursementDate_year']['SBALoss'])"
   ]
  },
  {
   "cell_type": "code",
   "execution_count": 49,
   "id": "406d9ec8",
   "metadata": {},
   "outputs": [],
   "source": [
    "# scatter_plot_with_hue(df=df_copy, x_axis=\"Term\", y_axis=\"Job\", hue_col='Default', exclude_outlier=1)"
   ]
  },
  {
   "cell_type": "code",
   "execution_count": 50,
   "id": "37e19ee1",
   "metadata": {},
   "outputs": [],
   "source": [
    "# scatter_plot_with_hue(df=df_copy, x_axis=\"DisbursementGross\", y_axis=\"Job\", hue_col='Default', exclude_outlier=1)"
   ]
  },
  {
   "cell_type": "code",
   "execution_count": 51,
   "id": "3c212d22",
   "metadata": {},
   "outputs": [],
   "source": [
    "# scatter_plot_with_hue(df=df_copy, x_axis=\"NoEmp\", y_axis=\"Job\", hue_col='NewExist', exclude_outlier=1)"
   ]
  },
  {
   "cell_type": "code",
   "execution_count": 82,
   "id": "f965442f",
   "metadata": {},
   "outputs": [
    {
     "data": {
      "text/html": [
       "<div>\n",
       "<style scoped>\n",
       "    .dataframe tbody tr th:only-of-type {\n",
       "        vertical-align: middle;\n",
       "    }\n",
       "\n",
       "    .dataframe tbody tr th {\n",
       "        vertical-align: top;\n",
       "    }\n",
       "\n",
       "    .dataframe thead th {\n",
       "        text-align: right;\n",
       "    }\n",
       "</style>\n",
       "<table border=\"1\" class=\"dataframe\">\n",
       "  <thead>\n",
       "    <tr style=\"text-align: right;\">\n",
       "      <th></th>\n",
       "      <th>Default</th>\n",
       "      <th>Is_Cross_State</th>\n",
       "    </tr>\n",
       "    <tr>\n",
       "      <th>BankState</th>\n",
       "      <th></th>\n",
       "      <th></th>\n",
       "    </tr>\n",
       "  </thead>\n",
       "  <tbody>\n",
       "    <tr>\n",
       "      <th>VA</th>\n",
       "      <td>0.439</td>\n",
       "      <td>0.896</td>\n",
       "    </tr>\n",
       "    <tr>\n",
       "      <th>NC</th>\n",
       "      <td>0.353</td>\n",
       "      <td>0.923</td>\n",
       "    </tr>\n",
       "    <tr>\n",
       "      <th>SD</th>\n",
       "      <td>0.330</td>\n",
       "      <td>0.941</td>\n",
       "    </tr>\n",
       "    <tr>\n",
       "      <th>CA</th>\n",
       "      <td>0.321</td>\n",
       "      <td>0.458</td>\n",
       "    </tr>\n",
       "    <tr>\n",
       "      <th>IL</th>\n",
       "      <td>0.309</td>\n",
       "      <td>0.771</td>\n",
       "    </tr>\n",
       "  </tbody>\n",
       "</table>\n",
       "</div>"
      ],
      "text/plain": [
       "           Default  Is_Cross_State\n",
       "BankState                         \n",
       "VA           0.439           0.896\n",
       "NC           0.353           0.923\n",
       "SD           0.330           0.941\n",
       "CA           0.321           0.458\n",
       "IL           0.309           0.771"
      ]
     },
     "execution_count": 82,
     "metadata": {},
     "output_type": "execute_result"
    }
   ],
   "source": [
    "df_bkstate_mean = df_copy.groupby(by='BankState').mean().sort_values(by=['Default', 'Is_Cross_State'], ascending=False)[['Default', 'Is_Cross_State']]\n",
    "display(df_bkstate_mean[['Default', 'Is_Cross_State']].head(5))\n",
    "df_bkstate_mean.to_excel('BankState_mean.xlsx')"
   ]
  },
  {
   "cell_type": "code",
   "execution_count": 91,
   "id": "2d2a3a09",
   "metadata": {},
   "outputs": [
    {
     "data": {
      "text/html": [
       "<div>\n",
       "<style scoped>\n",
       "    .dataframe tbody tr th:only-of-type {\n",
       "        vertical-align: middle;\n",
       "    }\n",
       "\n",
       "    .dataframe tbody tr th {\n",
       "        vertical-align: top;\n",
       "    }\n",
       "\n",
       "    .dataframe thead th {\n",
       "        text-align: right;\n",
       "    }\n",
       "</style>\n",
       "<table border=\"1\" class=\"dataframe\">\n",
       "  <thead>\n",
       "    <tr style=\"text-align: right;\">\n",
       "      <th></th>\n",
       "      <th>Default</th>\n",
       "      <th>Is_Cross_State</th>\n",
       "    </tr>\n",
       "    <tr>\n",
       "      <th>State</th>\n",
       "      <th></th>\n",
       "      <th></th>\n",
       "    </tr>\n",
       "  </thead>\n",
       "  <tbody>\n",
       "    <tr>\n",
       "      <th>GA</th>\n",
       "      <td>0.362</td>\n",
       "      <td>0.706</td>\n",
       "    </tr>\n",
       "    <tr>\n",
       "      <th>FL</th>\n",
       "      <td>0.362</td>\n",
       "      <td>0.812</td>\n",
       "    </tr>\n",
       "    <tr>\n",
       "      <th>DC</th>\n",
       "      <td>0.346</td>\n",
       "      <td>0.919</td>\n",
       "    </tr>\n",
       "    <tr>\n",
       "      <th>NV</th>\n",
       "      <td>0.341</td>\n",
       "      <td>0.742</td>\n",
       "    </tr>\n",
       "    <tr>\n",
       "      <th>TN</th>\n",
       "      <td>0.330</td>\n",
       "      <td>0.713</td>\n",
       "    </tr>\n",
       "  </tbody>\n",
       "</table>\n",
       "</div>"
      ],
      "text/plain": [
       "       Default  Is_Cross_State\n",
       "State                         \n",
       "GA       0.362           0.706\n",
       "FL       0.362           0.812\n",
       "DC       0.346           0.919\n",
       "NV       0.341           0.742\n",
       "TN       0.330           0.713"
      ]
     },
     "metadata": {},
     "output_type": "display_data"
    }
   ],
   "source": [
    "df_state_mean = df_copy.groupby(by='State').mean().sort_values(by=['Default', 'Is_Cross_State'], ascending=False)[['Default', 'Is_Cross_State']]\n",
    "display(df_state_mean[['Default', 'Is_Cross_State']].head(5))\n",
    "df_state_mean.to_excel('State_mean.xlsx')"
   ]
  },
  {
   "cell_type": "code",
   "execution_count": 92,
   "id": "01f54a53",
   "metadata": {},
   "outputs": [
    {
     "name": "stderr",
     "output_type": "stream",
     "text": [
      "No handles with labels found to put in legend.\n"
     ]
    },
    {
     "data": {
      "image/png": "[encoded data removed]",
      "text/plain": [
       "<Figure size 1080x720 with 1 Axes>"
      ]
     },
     "metadata": {},
     "output_type": "display_data"
    },
    {
     "data": {
      "text/html": [
       "<div>\n",
       "<style scoped>\n",
       "    .dataframe tbody tr th:only-of-type {\n",
       "        vertical-align: middle;\n",
       "    }\n",
       "\n",
       "    .dataframe tbody tr th {\n",
       "        vertical-align: top;\n",
       "    }\n",
       "\n",
       "    .dataframe thead th {\n",
       "        text-align: right;\n",
       "    }\n",
       "</style>\n",
       "<table border=\"1\" class=\"dataframe\">\n",
       "  <thead>\n",
       "    <tr style=\"text-align: right;\">\n",
       "      <th></th>\n",
       "      <th>State</th>\n",
       "      <th>DisbursementDate_year</th>\n",
       "      <th>Default</th>\n",
       "      <th>Is_Cross_State</th>\n",
       "    </tr>\n",
       "  </thead>\n",
       "  <tbody>\n",
       "    <tr>\n",
       "      <th>0</th>\n",
       "      <td>AK</td>\n",
       "      <td>2000.000</td>\n",
       "      <td>0.083</td>\n",
       "      <td>0.479</td>\n",
       "    </tr>\n",
       "    <tr>\n",
       "      <th>1</th>\n",
       "      <td>AK</td>\n",
       "      <td>2001.000</td>\n",
       "      <td>0.053</td>\n",
       "      <td>0.526</td>\n",
       "    </tr>\n",
       "    <tr>\n",
       "      <th>2</th>\n",
       "      <td>AK</td>\n",
       "      <td>2002.000</td>\n",
       "      <td>0.042</td>\n",
       "      <td>0.333</td>\n",
       "    </tr>\n",
       "  </tbody>\n",
       "</table>\n",
       "</div>"
      ],
      "text/plain": [
       "  State  DisbursementDate_year  Default  Is_Cross_State\n",
       "0    AK               2000.000    0.083           0.479\n",
       "1    AK               2001.000    0.053           0.526\n",
       "2    AK               2002.000    0.042           0.333"
      ]
     },
     "execution_count": 92,
     "metadata": {},
     "output_type": "execute_result"
    }
   ],
   "source": [
    "df_state_year_mean = df_copy.groupby(by=['State', 'DisbursementDate_year']).mean().reset_index()[['State', 'DisbursementDate_year', 'Default', 'Is_Cross_State']]\n",
    "df_state_year_mean.to_excel('State_year_mean.xlsx', index=False)\n",
    "scatter_plot_with_hue(df_state_year_mean, x_axis='Is_Cross_State', y_axis='Default', hue_col=None, exclude_outlier=0, sample_num=0)\n",
    "df_state_year_mean.head(3)"
   ]
  },
  {
   "cell_type": "code",
   "execution_count": 85,
   "id": "3c4a94f0",
   "metadata": {},
   "outputs": [],
   "source": [
    "%run function.ipynb"
   ]
  },
  {
   "cell_type": "code",
   "execution_count": 86,
   "id": "181fcbea",
   "metadata": {},
   "outputs": [
    {
     "name": "stderr",
     "output_type": "stream",
     "text": [
      "No handles with labels found to put in legend.\n"
     ]
    },
    {
     "data": {
      "image/png": "[encoded data removed]",
      "text/plain": [
       "<Figure size 1080x720 with 1 Axes>"
      ]
     },
     "metadata": {},
     "output_type": "display_data"
    }
   ],
   "source": [
    "scatter_plot_with_hue(df_bkstate_mean, x_axis='Is_Cross_State', y_axis='Default', hue_col=None, exclude_outlier=0, sample_num=0)"
   ]
  },
  {
   "cell_type": "code",
   "execution_count": 88,
   "id": "cc956999",
   "metadata": {},
   "outputs": [
    {
     "name": "stderr",
     "output_type": "stream",
     "text": [
      "No handles with labels found to put in legend.\n"
     ]
    },
    {
     "data": {
      "image/png": "[encoded data removed]",
      "text/plain": [
       "<Figure size 1080x720 with 1 Axes>"
      ]
     },
     "metadata": {},
     "output_type": "display_data"
    },
    {
     "data": {
      "text/html": [
       "<div>\n",
       "<style scoped>\n",
       "    .dataframe tbody tr th:only-of-type {\n",
       "        vertical-align: middle;\n",
       "    }\n",
       "\n",
       "    .dataframe tbody tr th {\n",
       "        vertical-align: top;\n",
       "    }\n",
       "\n",
       "    .dataframe thead th {\n",
       "        text-align: right;\n",
       "    }\n",
       "</style>\n",
       "<table border=\"1\" class=\"dataframe\">\n",
       "  <thead>\n",
       "    <tr style=\"text-align: right;\">\n",
       "      <th></th>\n",
       "      <th>BankState</th>\n",
       "      <th>DisbursementDate_year</th>\n",
       "      <th>Default</th>\n",
       "      <th>Is_Cross_State</th>\n",
       "    </tr>\n",
       "  </thead>\n",
       "  <tbody>\n",
       "    <tr>\n",
       "      <th>0</th>\n",
       "      <td>AK</td>\n",
       "      <td>2000.000</td>\n",
       "      <td>0.059</td>\n",
       "      <td>0.020</td>\n",
       "    </tr>\n",
       "    <tr>\n",
       "      <th>1</th>\n",
       "      <td>AK</td>\n",
       "      <td>2001.000</td>\n",
       "      <td>0.074</td>\n",
       "      <td>0.000</td>\n",
       "    </tr>\n",
       "    <tr>\n",
       "      <th>2</th>\n",
       "      <td>AK</td>\n",
       "      <td>2002.000</td>\n",
       "      <td>0.031</td>\n",
       "      <td>0.000</td>\n",
       "    </tr>\n",
       "  </tbody>\n",
       "</table>\n",
       "</div>"
      ],
      "text/plain": [
       "  BankState  DisbursementDate_year  Default  Is_Cross_State\n",
       "0        AK               2000.000    0.059           0.020\n",
       "1        AK               2001.000    0.074           0.000\n",
       "2        AK               2002.000    0.031           0.000"
      ]
     },
     "execution_count": 88,
     "metadata": {},
     "output_type": "execute_result"
    }
   ],
   "source": [
    "df_bkstate_year_mean = df_copy.groupby(by=['BankState', 'DisbursementDate_year']).mean().reset_index()[['BankState', 'DisbursementDate_year', 'Default', 'Is_Cross_State']]\n",
    "df_bkstate_year_mean.to_excel('BankState_year_mean.xlsx', index=False)\n",
    "scatter_plot_with_hue(df_bkstate_year_mean, x_axis='Is_Cross_State', y_axis='Default', hue_col=None, exclude_outlier=0, sample_num=0)\n",
    "df_bkstate_year_mean.head(3)"
   ]
  },
  {
   "cell_type": "code",
   "execution_count": 89,
   "id": "36d6c4cf",
   "metadata": {},
   "outputs": [
    {
     "data": {
      "text/html": [
       "<div>\n",
       "<style scoped>\n",
       "    .dataframe tbody tr th:only-of-type {\n",
       "        vertical-align: middle;\n",
       "    }\n",
       "\n",
       "    .dataframe tbody tr th {\n",
       "        vertical-align: top;\n",
       "    }\n",
       "\n",
       "    .dataframe thead th {\n",
       "        text-align: right;\n",
       "    }\n",
       "</style>\n",
       "<table border=\"1\" class=\"dataframe\">\n",
       "  <thead>\n",
       "    <tr style=\"text-align: right;\">\n",
       "      <th></th>\n",
       "      <th>Default</th>\n",
       "      <th>Is_Cross_State</th>\n",
       "    </tr>\n",
       "    <tr>\n",
       "      <th>DisbursementDate_year</th>\n",
       "      <th></th>\n",
       "      <th></th>\n",
       "    </tr>\n",
       "  </thead>\n",
       "  <tbody>\n",
       "    <tr>\n",
       "      <th>2007.000</th>\n",
       "      <td>0.449</td>\n",
       "      <td>0.677</td>\n",
       "    </tr>\n",
       "    <tr>\n",
       "      <th>2006.000</th>\n",
       "      <td>0.372</td>\n",
       "      <td>0.677</td>\n",
       "    </tr>\n",
       "    <tr>\n",
       "      <th>2008.000</th>\n",
       "      <td>0.353</td>\n",
       "      <td>0.563</td>\n",
       "    </tr>\n",
       "    <tr>\n",
       "      <th>2005.000</th>\n",
       "      <td>0.278</td>\n",
       "      <td>0.629</td>\n",
       "    </tr>\n",
       "    <tr>\n",
       "      <th>2004.000</th>\n",
       "      <td>0.201</td>\n",
       "      <td>0.582</td>\n",
       "    </tr>\n",
       "  </tbody>\n",
       "</table>\n",
       "</div>"
      ],
      "text/plain": [
       "                       Default  Is_Cross_State\n",
       "DisbursementDate_year                         \n",
       "2007.000                 0.449           0.677\n",
       "2006.000                 0.372           0.677\n",
       "2008.000                 0.353           0.563\n",
       "2005.000                 0.278           0.629\n",
       "2004.000                 0.201           0.582"
      ]
     },
     "execution_count": 89,
     "metadata": {},
     "output_type": "execute_result"
    }
   ],
   "source": [
    "df_year_mean = df_copy.groupby(by='DisbursementDate_year').mean().sort_values(by=['Default', 'Is_Cross_State'], ascending=False)[['Default', 'Is_Cross_State']]\n",
    "df_year_mean.to_excel('year_mean.xlsx')\n",
    "df_year_mean[['Default', 'Is_Cross_State']].head(5)"
   ]
  },
  {
   "cell_type": "code",
   "execution_count": null,
   "id": "56dabd53",
   "metadata": {},
   "outputs": [],
   "source": []
  }
 ],
 "metadata": {
  "kernelspec": {
   "display_name": "Python 3",
   "language": "python",
   "name": "python3"
  },
  "language_info": {
   "codemirror_mode": {
    "name": "ipython",
    "version": 3
   },
   "file_extension": ".py",
   "mimetype": "text/x-python",
   "name": "python",
   "nbconvert_exporter": "python",
   "pygments_lexer": "ipython3",
   "version": "3.8.8"
  }
 },
 "nbformat": 4,
 "nbformat_minor": 5
}
