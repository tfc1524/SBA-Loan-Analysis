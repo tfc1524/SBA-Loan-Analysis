{
 "cells": [
  {
   "cell_type": "code",
   "execution_count": 1,
   "id": "6ae389d5",
   "metadata": {},
   "outputs": [
    {
     "name": "stdout",
     "output_type": "stream",
     "text": [
      "(855794, 54)\n"
     ]
    },
    {
     "data": {
      "text/html": [
       "<div>\n",
       "<style scoped>\n",
       "    .dataframe tbody tr th:only-of-type {\n",
       "        vertical-align: middle;\n",
       "    }\n",
       "\n",
       "    .dataframe tbody tr th {\n",
       "        vertical-align: top;\n",
       "    }\n",
       "\n",
       "    .dataframe thead th {\n",
       "        text-align: right;\n",
       "    }\n",
       "</style>\n",
       "<table border=\"1\" class=\"dataframe\">\n",
       "  <thead>\n",
       "    <tr style=\"text-align: right;\">\n",
       "      <th></th>\n",
       "      <th>LoanNr_ChkDgt</th>\n",
       "      <th>Name</th>\n",
       "      <th>City</th>\n",
       "      <th>State</th>\n",
       "      <th>Zip</th>\n",
       "      <th>Bank</th>\n",
       "      <th>BankState</th>\n",
       "      <th>ApprovalDate</th>\n",
       "      <th>Term</th>\n",
       "      <th>NoEmp</th>\n",
       "      <th>...</th>\n",
       "      <th>USDPerJobCreated</th>\n",
       "      <th>loan_marturity_date</th>\n",
       "      <th>Is_Cross_State</th>\n",
       "      <th>Appv_Dusburse_delta</th>\n",
       "      <th>Default%</th>\n",
       "      <th>RealEstate</th>\n",
       "      <th>GreatRecession</th>\n",
       "      <th>DotCom</th>\n",
       "      <th>Recession</th>\n",
       "      <th>Mon_Is_14710</th>\n",
       "    </tr>\n",
       "  </thead>\n",
       "  <tbody>\n",
       "    <tr>\n",
       "      <th>0</th>\n",
       "      <td>1000014003</td>\n",
       "      <td>ABC HOBBYCRAFT</td>\n",
       "      <td>EVANSVILLE</td>\n",
       "      <td>IN</td>\n",
       "      <td>47711</td>\n",
       "      <td>FIFTH THIRD BANK</td>\n",
       "      <td>OH</td>\n",
       "      <td>1997-02-28</td>\n",
       "      <td>84.0</td>\n",
       "      <td>4.0</td>\n",
       "      <td>...</td>\n",
       "      <td>NaN</td>\n",
       "      <td>2004-02-28</td>\n",
       "      <td>1</td>\n",
       "      <td>730.0</td>\n",
       "      <td>NaN</td>\n",
       "      <td>0.0</td>\n",
       "      <td>0.0</td>\n",
       "      <td>0.0</td>\n",
       "      <td>0.0</td>\n",
       "      <td>0.0</td>\n",
       "    </tr>\n",
       "    <tr>\n",
       "      <th>1</th>\n",
       "      <td>1000024006</td>\n",
       "      <td>LANDMARK BAR &amp; GRILLE (THE)</td>\n",
       "      <td>NEW PARIS</td>\n",
       "      <td>IN</td>\n",
       "      <td>46526</td>\n",
       "      <td>1ST SOURCE BANK</td>\n",
       "      <td>IN</td>\n",
       "      <td>1997-02-28</td>\n",
       "      <td>60.0</td>\n",
       "      <td>2.0</td>\n",
       "      <td>...</td>\n",
       "      <td>NaN</td>\n",
       "      <td>2002-02-28</td>\n",
       "      <td>0</td>\n",
       "      <td>92.0</td>\n",
       "      <td>NaN</td>\n",
       "      <td>0.0</td>\n",
       "      <td>0.0</td>\n",
       "      <td>0.0</td>\n",
       "      <td>0.0</td>\n",
       "      <td>0.0</td>\n",
       "    </tr>\n",
       "    <tr>\n",
       "      <th>2</th>\n",
       "      <td>1000034009</td>\n",
       "      <td>WHITLOCK DDS, TODD M.</td>\n",
       "      <td>BLOOMINGTON</td>\n",
       "      <td>IN</td>\n",
       "      <td>47401</td>\n",
       "      <td>GRANT COUNTY STATE BANK</td>\n",
       "      <td>IN</td>\n",
       "      <td>1997-02-28</td>\n",
       "      <td>180.0</td>\n",
       "      <td>7.0</td>\n",
       "      <td>...</td>\n",
       "      <td>NaN</td>\n",
       "      <td>2012-02-28</td>\n",
       "      <td>0</td>\n",
       "      <td>306.0</td>\n",
       "      <td>NaN</td>\n",
       "      <td>0.0</td>\n",
       "      <td>0.0</td>\n",
       "      <td>0.0</td>\n",
       "      <td>0.0</td>\n",
       "      <td>0.0</td>\n",
       "    </tr>\n",
       "  </tbody>\n",
       "</table>\n",
       "<p>3 rows × 54 columns</p>\n",
       "</div>"
      ],
      "text/plain": [
       "   LoanNr_ChkDgt                         Name         City State    Zip  \\\n",
       "0     1000014003               ABC HOBBYCRAFT   EVANSVILLE    IN  47711   \n",
       "1     1000024006  LANDMARK BAR & GRILLE (THE)    NEW PARIS    IN  46526   \n",
       "2     1000034009        WHITLOCK DDS, TODD M.  BLOOMINGTON    IN  47401   \n",
       "\n",
       "                      Bank BankState ApprovalDate   Term  NoEmp  ...  \\\n",
       "0         FIFTH THIRD BANK        OH   1997-02-28   84.0    4.0  ...   \n",
       "1          1ST SOURCE BANK        IN   1997-02-28   60.0    2.0  ...   \n",
       "2  GRANT COUNTY STATE BANK        IN   1997-02-28  180.0    7.0  ...   \n",
       "\n",
       "   USDPerJobCreated  loan_marturity_date  Is_Cross_State  Appv_Dusburse_delta  \\\n",
       "0               NaN           2004-02-28               1                730.0   \n",
       "1               NaN           2002-02-28               0                 92.0   \n",
       "2               NaN           2012-02-28               0                306.0   \n",
       "\n",
       "   Default%  RealEstate  GreatRecession DotCom Recession  Mon_Is_14710  \n",
       "0       NaN         0.0             0.0    0.0       0.0           0.0  \n",
       "1       NaN         0.0             0.0    0.0       0.0           0.0  \n",
       "2       NaN         0.0             0.0    0.0       0.0           0.0  \n",
       "\n",
       "[3 rows x 54 columns]"
      ]
     },
     "execution_count": 1,
     "metadata": {},
     "output_type": "execute_result"
    }
   ],
   "source": [
    "import numpy as np\n",
    "import pandas as pd\n",
    "import warnings\n",
    "import matplotlib.pyplot as plt\n",
    "import seaborn as sns\n",
    "import math\n",
    "\n",
    "%matplotlib inline\n",
    "%run function.ipynb\n",
    "\n",
    "df = pd.read_csv('clean8.csv')\n",
    "df_copy = df.copy()\n",
    "print(df_copy.shape)\n",
    "df_copy.head(3)"
   ]
  },
  {
   "cell_type": "code",
   "execution_count": 2,
   "id": "94c04035",
   "metadata": {},
   "outputs": [],
   "source": [
    "pd.set_option('display.float_format', lambda x: '%.3f' % x)"
   ]
  },
  {
   "cell_type": "code",
   "execution_count": 3,
   "id": "b6767488",
   "metadata": {},
   "outputs": [
    {
     "name": "stdout",
     "output_type": "stream",
     "text": [
      "(530453, 54)\n"
     ]
    },
    {
     "data": {
      "text/html": [
       "<div>\n",
       "<style scoped>\n",
       "    .dataframe tbody tr th:only-of-type {\n",
       "        vertical-align: middle;\n",
       "    }\n",
       "\n",
       "    .dataframe tbody tr th {\n",
       "        vertical-align: top;\n",
       "    }\n",
       "\n",
       "    .dataframe thead th {\n",
       "        text-align: right;\n",
       "    }\n",
       "</style>\n",
       "<table border=\"1\" class=\"dataframe\">\n",
       "  <thead>\n",
       "    <tr style=\"text-align: right;\">\n",
       "      <th></th>\n",
       "      <th>LoanNr_ChkDgt</th>\n",
       "      <th>Name</th>\n",
       "      <th>City</th>\n",
       "      <th>State</th>\n",
       "      <th>Zip</th>\n",
       "      <th>Bank</th>\n",
       "      <th>BankState</th>\n",
       "      <th>ApprovalDate</th>\n",
       "      <th>Term</th>\n",
       "      <th>NoEmp</th>\n",
       "      <th>...</th>\n",
       "      <th>USDPerJobCreated</th>\n",
       "      <th>loan_marturity_date</th>\n",
       "      <th>Is_Cross_State</th>\n",
       "      <th>Appv_Dusburse_delta</th>\n",
       "      <th>Default%</th>\n",
       "      <th>RealEstate</th>\n",
       "      <th>GreatRecession</th>\n",
       "      <th>DotCom</th>\n",
       "      <th>Recession</th>\n",
       "      <th>Mon_Is_14710</th>\n",
       "    </tr>\n",
       "  </thead>\n",
       "  <tbody>\n",
       "    <tr>\n",
       "      <th>12</th>\n",
       "      <td>1000146010</td>\n",
       "      <td>CARVEL</td>\n",
       "      <td>APEX</td>\n",
       "      <td>NC</td>\n",
       "      <td>27502</td>\n",
       "      <td>STEARNS BK NATL ASSOC</td>\n",
       "      <td>MN</td>\n",
       "      <td>2006-02-07</td>\n",
       "      <td>162.000</td>\n",
       "      <td>2.000</td>\n",
       "      <td>...</td>\n",
       "      <td>NaN</td>\n",
       "      <td>2019-08-07</td>\n",
       "      <td>1</td>\n",
       "      <td>52.000</td>\n",
       "      <td>NaN</td>\n",
       "      <td>0.000</td>\n",
       "      <td>0.000</td>\n",
       "      <td>0.000</td>\n",
       "      <td>0.000</td>\n",
       "      <td>0.000</td>\n",
       "    </tr>\n",
       "    <tr>\n",
       "      <th>24</th>\n",
       "      <td>1000446006</td>\n",
       "      <td>SUBWAY</td>\n",
       "      <td>LITTLE ROCK</td>\n",
       "      <td>AR</td>\n",
       "      <td>72223</td>\n",
       "      <td>HOPE FCU</td>\n",
       "      <td>MS</td>\n",
       "      <td>2006-02-07</td>\n",
       "      <td>126.000</td>\n",
       "      <td>7.000</td>\n",
       "      <td>...</td>\n",
       "      <td>NaN</td>\n",
       "      <td>2016-08-07</td>\n",
       "      <td>1</td>\n",
       "      <td>82.000</td>\n",
       "      <td>NaN</td>\n",
       "      <td>0.000</td>\n",
       "      <td>0.000</td>\n",
       "      <td>0.000</td>\n",
       "      <td>0.000</td>\n",
       "      <td>1.000</td>\n",
       "    </tr>\n",
       "    <tr>\n",
       "      <th>28</th>\n",
       "      <td>1000506000</td>\n",
       "      <td>WEYLAND CORPORATION</td>\n",
       "      <td>CAMARILLO</td>\n",
       "      <td>CA</td>\n",
       "      <td>93010</td>\n",
       "      <td>WELLS FARGO BANK NATL ASSOC</td>\n",
       "      <td>SD</td>\n",
       "      <td>2006-02-07</td>\n",
       "      <td>83.000</td>\n",
       "      <td>18.000</td>\n",
       "      <td>...</td>\n",
       "      <td>106321.347</td>\n",
       "      <td>2013-01-07</td>\n",
       "      <td>1</td>\n",
       "      <td>21.000</td>\n",
       "      <td>NaN</td>\n",
       "      <td>0.000</td>\n",
       "      <td>0.000</td>\n",
       "      <td>0.000</td>\n",
       "      <td>0.000</td>\n",
       "      <td>0.000</td>\n",
       "    </tr>\n",
       "  </tbody>\n",
       "</table>\n",
       "<p>3 rows × 54 columns</p>\n",
       "</div>"
      ],
      "text/plain": [
       "    LoanNr_ChkDgt                 Name         City State    Zip  \\\n",
       "12     1000146010               CARVEL         APEX    NC  27502   \n",
       "24     1000446006               SUBWAY  LITTLE ROCK    AR  72223   \n",
       "28     1000506000  WEYLAND CORPORATION    CAMARILLO    CA  93010   \n",
       "\n",
       "                           Bank BankState ApprovalDate    Term  NoEmp  ...  \\\n",
       "12        STEARNS BK NATL ASSOC        MN   2006-02-07 162.000  2.000  ...   \n",
       "24                     HOPE FCU        MS   2006-02-07 126.000  7.000  ...   \n",
       "28  WELLS FARGO BANK NATL ASSOC        SD   2006-02-07  83.000 18.000  ...   \n",
       "\n",
       "    USDPerJobCreated  loan_marturity_date  Is_Cross_State  \\\n",
       "12               NaN           2019-08-07               1   \n",
       "24               NaN           2016-08-07               1   \n",
       "28        106321.347           2013-01-07               1   \n",
       "\n",
       "    Appv_Dusburse_delta  Default%  RealEstate  GreatRecession DotCom  \\\n",
       "12               52.000       NaN       0.000           0.000  0.000   \n",
       "24               82.000       NaN       0.000           0.000  0.000   \n",
       "28               21.000       NaN       0.000           0.000  0.000   \n",
       "\n",
       "   Recession  Mon_Is_14710  \n",
       "12     0.000         0.000  \n",
       "24     0.000         1.000  \n",
       "28     0.000         0.000  \n",
       "\n",
       "[3 rows x 54 columns]"
      ]
     },
     "execution_count": 3,
     "metadata": {},
     "output_type": "execute_result"
    }
   ],
   "source": [
    "df_copy = df_copy[(df_copy['DisbursementDate_year'] >= 2000) & (df_copy['DisbursementDate_year'] <= 2010)]\n",
    "print(df_copy.shape)\n",
    "df_copy.head(3)"
   ]
  },
  {
   "cell_type": "code",
   "execution_count": 4,
   "id": "768bb4e5",
   "metadata": {},
   "outputs": [],
   "source": [
    "df_copy['DisbursePerMonth'] = df_copy['DisbursementGross'] / df_copy['Term']\n",
    "df_copy['BankLoss'] = df_copy['ChgOffPrinGr'] - df_copy['SBA_Appv']\n",
    "df_copy.loc[list(df_copy[df_copy['BankLoss'] < 0].index), 'BankLoss'] = 0\n",
    "df_copy['BankLoss%'] = df_copy['BankLoss'] / df_copy['DisbursementGross'] * 100"
   ]
  },
  {
   "cell_type": "code",
   "execution_count": 5,
   "id": "f375f687",
   "metadata": {},
   "outputs": [],
   "source": [
    "# df_copy.to_csv('clean9.csv', index=False)"
   ]
  },
  {
   "cell_type": "code",
   "execution_count": 6,
   "id": "983f5002",
   "metadata": {},
   "outputs": [],
   "source": [
    "obj_features = ['State', 'BankState', 'NewExist', 'IsFranchised', 'UrbanRural', 'RevLineCr', 'LowDoc', 'Industry',\n",
    "                'ApprovalDate_year', 'ApprovalDate_month', 'DisbursementDate_year', 'DisbursementDate_month', 'State_division', 'RealEstate',\n",
    "                'GreatRecession', 'DotCom', 'Recession', 'Mon_Is_14710', 'Is_Cross_State']\n",
    "num_features = ['Default', 'ChgOffPrinGr', 'Term', 'DisbursementGross', 'Bank%', 'DisbursePerEmployee',\n",
    "                'USDPerJobCreated','NoEmp', 'CreateJob', 'RetainedJob', 'Population', 'PopDensity', 'GrAppv', 'SBA_Appv',\n",
    "                'HousingUnits', 'OccupiedHousingUnits', 'MedianHomeValue', 'MedianHouseholdIncome', 'Appv_Dusburse_delta', 'DisbursePerMonth']\n",
    "time_cols = ['ApprovalDate_year', 'ApprovalDate_month', 'DisbursementDate_year', 'DisbursementDate_month']\n",
    "\n",
    "df_groupby_mean = dict()\n",
    "df_groupby_size = dict()\n",
    "df_groupby_sum = dict()\n",
    "\n",
    "for col in obj_features:\n",
    "    df_groupby_mean[col] = df_copy.groupby(by=col).mean()[num_features]\n",
    "    df_groupby_sum[col] = df_copy.groupby(by=col).sum()[num_features]\n",
    "    df_groupby_size[col] = pd.DataFrame(df_copy.groupby(by=col).size())\n",
    "    df_groupby_size[col].rename(columns={0: 'size'}, inplace=True)"
   ]
  },
  {
   "cell_type": "code",
   "execution_count": 7,
   "id": "a968043b",
   "metadata": {},
   "outputs": [
    {
     "data": {
      "text/html": [
       "<div>\n",
       "<style scoped>\n",
       "    .dataframe tbody tr th:only-of-type {\n",
       "        vertical-align: middle;\n",
       "    }\n",
       "\n",
       "    .dataframe tbody tr th {\n",
       "        vertical-align: top;\n",
       "    }\n",
       "\n",
       "    .dataframe thead th {\n",
       "        text-align: right;\n",
       "    }\n",
       "</style>\n",
       "<table border=\"1\" class=\"dataframe\">\n",
       "  <thead>\n",
       "    <tr style=\"text-align: right;\">\n",
       "      <th></th>\n",
       "      <th>LoanNr_ChkDgt</th>\n",
       "      <th>Name</th>\n",
       "      <th>City</th>\n",
       "      <th>State</th>\n",
       "      <th>Zip</th>\n",
       "      <th>Bank</th>\n",
       "      <th>BankState</th>\n",
       "      <th>ApprovalDate</th>\n",
       "      <th>Term</th>\n",
       "      <th>NoEmp</th>\n",
       "      <th>...</th>\n",
       "      <th>IsFranchised</th>\n",
       "      <th>UrbanRural</th>\n",
       "      <th>RevLineCr</th>\n",
       "      <th>LowDoc</th>\n",
       "      <th>ChgOffDate</th>\n",
       "      <th>DisbursementDate</th>\n",
       "      <th>DisbursementGross</th>\n",
       "      <th>BalanceGross</th>\n",
       "      <th>Default</th>\n",
       "      <th>ChgOffPrinGr</th>\n",
       "    </tr>\n",
       "  </thead>\n",
       "  <tbody>\n",
       "    <tr>\n",
       "      <th>12</th>\n",
       "      <td>1000146010</td>\n",
       "      <td>CARVEL</td>\n",
       "      <td>APEX</td>\n",
       "      <td>NC</td>\n",
       "      <td>27502</td>\n",
       "      <td>STEARNS BK NATL ASSOC</td>\n",
       "      <td>MN</td>\n",
       "      <td>2006-02-07</td>\n",
       "      <td>162.000</td>\n",
       "      <td>2.000</td>\n",
       "      <td>...</td>\n",
       "      <td>1.000</td>\n",
       "      <td>1</td>\n",
       "      <td>0.000</td>\n",
       "      <td>0.000</td>\n",
       "      <td>NaN</td>\n",
       "      <td>2006-03-31</td>\n",
       "      <td>307175.719</td>\n",
       "      <td>0.000</td>\n",
       "      <td>0.000</td>\n",
       "      <td>NaN</td>\n",
       "    </tr>\n",
       "    <tr>\n",
       "      <th>24</th>\n",
       "      <td>1000446006</td>\n",
       "      <td>SUBWAY</td>\n",
       "      <td>LITTLE ROCK</td>\n",
       "      <td>AR</td>\n",
       "      <td>72223</td>\n",
       "      <td>HOPE FCU</td>\n",
       "      <td>MS</td>\n",
       "      <td>2006-02-07</td>\n",
       "      <td>126.000</td>\n",
       "      <td>7.000</td>\n",
       "      <td>...</td>\n",
       "      <td>0.000</td>\n",
       "      <td>1</td>\n",
       "      <td>0.000</td>\n",
       "      <td>0.000</td>\n",
       "      <td>NaN</td>\n",
       "      <td>2006-04-30</td>\n",
       "      <td>166437.357</td>\n",
       "      <td>0.000</td>\n",
       "      <td>0.000</td>\n",
       "      <td>NaN</td>\n",
       "    </tr>\n",
       "    <tr>\n",
       "      <th>28</th>\n",
       "      <td>1000506000</td>\n",
       "      <td>WEYLAND CORPORATION</td>\n",
       "      <td>CAMARILLO</td>\n",
       "      <td>CA</td>\n",
       "      <td>93010</td>\n",
       "      <td>WELLS FARGO BANK NATL ASSOC</td>\n",
       "      <td>SD</td>\n",
       "      <td>2006-02-07</td>\n",
       "      <td>83.000</td>\n",
       "      <td>18.000</td>\n",
       "      <td>...</td>\n",
       "      <td>0.000</td>\n",
       "      <td>1</td>\n",
       "      <td>1.000</td>\n",
       "      <td>0.000</td>\n",
       "      <td>NaN</td>\n",
       "      <td>2006-02-28</td>\n",
       "      <td>531606.737</td>\n",
       "      <td>0.000</td>\n",
       "      <td>0.000</td>\n",
       "      <td>NaN</td>\n",
       "    </tr>\n",
       "  </tbody>\n",
       "</table>\n",
       "<p>3 rows × 23 columns</p>\n",
       "</div>"
      ],
      "text/plain": [
       "    LoanNr_ChkDgt                 Name         City State    Zip  \\\n",
       "12     1000146010               CARVEL         APEX    NC  27502   \n",
       "24     1000446006               SUBWAY  LITTLE ROCK    AR  72223   \n",
       "28     1000506000  WEYLAND CORPORATION    CAMARILLO    CA  93010   \n",
       "\n",
       "                           Bank BankState ApprovalDate    Term  NoEmp  ...  \\\n",
       "12        STEARNS BK NATL ASSOC        MN   2006-02-07 162.000  2.000  ...   \n",
       "24                     HOPE FCU        MS   2006-02-07 126.000  7.000  ...   \n",
       "28  WELLS FARGO BANK NATL ASSOC        SD   2006-02-07  83.000 18.000  ...   \n",
       "\n",
       "    IsFranchised  UrbanRural  RevLineCr  LowDoc  ChgOffDate  DisbursementDate  \\\n",
       "12         1.000           1      0.000   0.000         NaN        2006-03-31   \n",
       "24         0.000           1      0.000   0.000         NaN        2006-04-30   \n",
       "28         0.000           1      1.000   0.000         NaN        2006-02-28   \n",
       "\n",
       "    DisbursementGross BalanceGross Default  ChgOffPrinGr  \n",
       "12         307175.719        0.000   0.000           NaN  \n",
       "24         166437.357        0.000   0.000           NaN  \n",
       "28         531606.737        0.000   0.000           NaN  \n",
       "\n",
       "[3 rows x 23 columns]"
      ]
     },
     "metadata": {},
     "output_type": "display_data"
    },
    {
     "data": {
      "text/html": [
       "<div>\n",
       "<style scoped>\n",
       "    .dataframe tbody tr th:only-of-type {\n",
       "        vertical-align: middle;\n",
       "    }\n",
       "\n",
       "    .dataframe tbody tr th {\n",
       "        vertical-align: top;\n",
       "    }\n",
       "\n",
       "    .dataframe thead th {\n",
       "        text-align: right;\n",
       "    }\n",
       "</style>\n",
       "<table border=\"1\" class=\"dataframe\">\n",
       "  <thead>\n",
       "    <tr style=\"text-align: right;\">\n",
       "      <th></th>\n",
       "      <th>GrAppv</th>\n",
       "      <th>SBA_Appv</th>\n",
       "      <th>Industry</th>\n",
       "      <th>ChgOffDate_year</th>\n",
       "      <th>ChgOffDate_month</th>\n",
       "      <th>ChgOffDate_day</th>\n",
       "      <th>DisbursementDate_year</th>\n",
       "      <th>DisbursementDate_month</th>\n",
       "      <th>DisbursementDate_day</th>\n",
       "      <th>ApprovalDate_year</th>\n",
       "      <th>...</th>\n",
       "      <th>Appv_Dusburse_delta</th>\n",
       "      <th>Default%</th>\n",
       "      <th>RealEstate</th>\n",
       "      <th>GreatRecession</th>\n",
       "      <th>DotCom</th>\n",
       "      <th>Recession</th>\n",
       "      <th>Mon_Is_14710</th>\n",
       "      <th>DisbursePerMonth</th>\n",
       "      <th>BankLoss</th>\n",
       "      <th>BankLoss%</th>\n",
       "    </tr>\n",
       "  </thead>\n",
       "  <tbody>\n",
       "    <tr>\n",
       "      <th>12</th>\n",
       "      <td>307175.719</td>\n",
       "      <td>230381.789</td>\n",
       "      <td>Retail_trade</td>\n",
       "      <td>NaN</td>\n",
       "      <td>NaN</td>\n",
       "      <td>NaN</td>\n",
       "      <td>2006.000</td>\n",
       "      <td>3.000</td>\n",
       "      <td>31.000</td>\n",
       "      <td>2006.000</td>\n",
       "      <td>...</td>\n",
       "      <td>52.000</td>\n",
       "      <td>NaN</td>\n",
       "      <td>0.000</td>\n",
       "      <td>0.000</td>\n",
       "      <td>0.000</td>\n",
       "      <td>0.000</td>\n",
       "      <td>0.000</td>\n",
       "      <td>1896.146</td>\n",
       "      <td>NaN</td>\n",
       "      <td>NaN</td>\n",
       "    </tr>\n",
       "    <tr>\n",
       "      <th>24</th>\n",
       "      <td>166437.357</td>\n",
       "      <td>141471.753</td>\n",
       "      <td>Accom/Food_serv</td>\n",
       "      <td>NaN</td>\n",
       "      <td>NaN</td>\n",
       "      <td>NaN</td>\n",
       "      <td>2006.000</td>\n",
       "      <td>4.000</td>\n",
       "      <td>30.000</td>\n",
       "      <td>2006.000</td>\n",
       "      <td>...</td>\n",
       "      <td>82.000</td>\n",
       "      <td>NaN</td>\n",
       "      <td>0.000</td>\n",
       "      <td>0.000</td>\n",
       "      <td>0.000</td>\n",
       "      <td>0.000</td>\n",
       "      <td>1.000</td>\n",
       "      <td>1320.931</td>\n",
       "      <td>NaN</td>\n",
       "      <td>NaN</td>\n",
       "    </tr>\n",
       "    <tr>\n",
       "      <th>28</th>\n",
       "      <td>121221.673</td>\n",
       "      <td>60610.836</td>\n",
       "      <td>Educational</td>\n",
       "      <td>NaN</td>\n",
       "      <td>NaN</td>\n",
       "      <td>NaN</td>\n",
       "      <td>2006.000</td>\n",
       "      <td>2.000</td>\n",
       "      <td>28.000</td>\n",
       "      <td>2006.000</td>\n",
       "      <td>...</td>\n",
       "      <td>21.000</td>\n",
       "      <td>NaN</td>\n",
       "      <td>0.000</td>\n",
       "      <td>0.000</td>\n",
       "      <td>0.000</td>\n",
       "      <td>0.000</td>\n",
       "      <td>0.000</td>\n",
       "      <td>6404.900</td>\n",
       "      <td>NaN</td>\n",
       "      <td>NaN</td>\n",
       "    </tr>\n",
       "  </tbody>\n",
       "</table>\n",
       "<p>3 rows × 34 columns</p>\n",
       "</div>"
      ],
      "text/plain": [
       "       GrAppv   SBA_Appv         Industry  ChgOffDate_year  ChgOffDate_month  \\\n",
       "12 307175.719 230381.789     Retail_trade              NaN               NaN   \n",
       "24 166437.357 141471.753  Accom/Food_serv              NaN               NaN   \n",
       "28 121221.673  60610.836      Educational              NaN               NaN   \n",
       "\n",
       "    ChgOffDate_day  DisbursementDate_year  DisbursementDate_month  \\\n",
       "12             NaN               2006.000                   3.000   \n",
       "24             NaN               2006.000                   4.000   \n",
       "28             NaN               2006.000                   2.000   \n",
       "\n",
       "    DisbursementDate_day  ApprovalDate_year  ...  Appv_Dusburse_delta  \\\n",
       "12                31.000           2006.000  ...               52.000   \n",
       "24                30.000           2006.000  ...               82.000   \n",
       "28                28.000           2006.000  ...               21.000   \n",
       "\n",
       "    Default%  RealEstate  GreatRecession  DotCom  Recession  Mon_Is_14710  \\\n",
       "12       NaN       0.000           0.000   0.000      0.000         0.000   \n",
       "24       NaN       0.000           0.000   0.000      0.000         1.000   \n",
       "28       NaN       0.000           0.000   0.000      0.000         0.000   \n",
       "\n",
       "    DisbursePerMonth  BankLoss  BankLoss%  \n",
       "12          1896.146       NaN        NaN  \n",
       "24          1320.931       NaN        NaN  \n",
       "28          6404.900       NaN        NaN  \n",
       "\n",
       "[3 rows x 34 columns]"
      ]
     },
     "metadata": {},
     "output_type": "display_data"
    }
   ],
   "source": [
    "display(df_copy.iloc[:3,:23])\n",
    "display(df_copy.iloc[:3,23:])"
   ]
  },
  {
   "cell_type": "code",
   "execution_count": 8,
   "id": "af8bc53e",
   "metadata": {},
   "outputs": [],
   "source": [
    "# num = 'Default'\n",
    "# for i in range(len(obj_features)):\n",
    "#     if df_copy[obj_features[i]].nunique() < 8:\n",
    "#             plt.figure(figsize=(10, 10))\n",
    "#     elif obj_features[i] == 'Industry':\n",
    "#         plt.figure(figsize=(20, 15))\n",
    "#         vis = df_groupby_mean[obj_features[i]].sort_values(by=num, ascending=False)\n",
    "#         title = 'Mean Default by '+ obj_features[i]\n",
    "#         plt.title(title)\n",
    "#         sns.set_theme(style=\"darkgrid\")\n",
    "#         plt.grid(True)\n",
    "#         sns.barplot(y=vis.index, x=vis[num])\n",
    "#         plt.savefig(title + '.jpeg')\n",
    "#         plt.show()\n",
    "#         continue\n",
    "#     else:\n",
    "#         plt.figure(figsize=(20, 10))\n",
    "#     vis = df_groupby_mean[obj_features[i]].sort_values(by=num, ascending=False)\n",
    "#     title = 'Mean Default by '+ obj_features[i]\n",
    "#     plt.title(title)\n",
    "#     sns.set_theme(style=\"darkgrid\")\n",
    "#     plt.grid(True)\n",
    "#     sns.barplot(x=vis.index, y=vis[num])\n",
    "#     plt.savefig(title + '.jpeg')\n",
    "#     plt.show()"
   ]
  },
  {
   "cell_type": "code",
   "execution_count": 9,
   "id": "a456011b",
   "metadata": {},
   "outputs": [],
   "source": [
    "# num_visualization_with_hue(df_copy, num_features, hue_col='Default', exclude_outlier=1)"
   ]
  },
  {
   "cell_type": "code",
   "execution_count": 10,
   "id": "3c4a94f0",
   "metadata": {},
   "outputs": [],
   "source": [
    "%run function.ipynb"
   ]
  },
  {
   "cell_type": "code",
   "execution_count": 11,
   "id": "d2e3117c",
   "metadata": {},
   "outputs": [],
   "source": [
    "# df_vis = df_copy.copy()\n",
    "# hue_col = 'Default'\n",
    "\n",
    "# for i in range(len(num_features)):\n",
    "#     if num_features[i] in [hue_col, 'ChgOffPrinGr']:\n",
    "#         continue\n",
    "\n",
    "#     num_col = num_features[i]\n",
    "#     vis = df_vis[[num_col, hue_col]]\n",
    "#     vis = vis[~(pd.isnull(vis[num_features[i]]))]\n",
    "\n",
    "#     upb = np.percentile(vis, 97.5)\n",
    "#     lwb = np.percentile(vis, 2.5)\n",
    "#     vis = vis[(vis[num_col] >= lwb) & (vis[num_col] <= upb)]\n",
    "\n",
    "#     plt.figure(figsize=(20, 10))\n",
    "#     sns.set_theme(style=\"darkgrid\")\n",
    "#     title = num_col + '_ecdf'\n",
    "#     plt.title(title)\n",
    "#     plt.hlines(y=0.5, xmin=df_copy[num_col].min(), xmax=df_copy[num_col].max(), colors='r', linestyles='dashed')\n",
    "#     sns.ecdfplot(data=df_copy, x=num_col, hue='Default', palette=sns.color_palette(\"Set2\")[:2])\n",
    "#     plt.savefig(title + '.jpeg')\n",
    "#     plt.show()\n",
    "#     df_vis = df_copy.copy()"
   ]
  },
  {
   "cell_type": "code",
   "execution_count": 12,
   "id": "7e17f426",
   "metadata": {},
   "outputs": [],
   "source": [
    "# num_visualization(df_copy, num_features=['BankLoss'], exclude_outlier=2.5)"
   ]
  },
  {
   "cell_type": "code",
   "execution_count": 13,
   "id": "a337a022",
   "metadata": {},
   "outputs": [],
   "source": [
    "# num_col = 'BankLoss'\n",
    "# df_vis = df_copy.copy()\n",
    "# df_vis = df_vis[~(pd.isnull(df_vis[num_col]))]\n",
    "\n",
    "# upb = np.percentile(df_vis[num_col], 99)\n",
    "# df_vis = df_vis[(df_vis[num_col] <= upb)]\n",
    "\n",
    "# plt.figure(figsize=(20, 10))\n",
    "# sns.set_theme(style=\"darkgrid\")\n",
    "# title = num_col + '_ecdf'\n",
    "# plt.title(title)\n",
    "# plt.hlines(y=0.5, xmin=df_vis[num_col].min(), xmax=df_vis[num_col].max(), colors='r', linestyles='dashed')\n",
    "# sns.ecdfplot(data=df_vis, x=num_col, palette=sns.color_palette(\"Set2\")[:2])\n",
    "# plt.savefig(title + '.jpeg')\n",
    "# plt.show()"
   ]
  },
  {
   "cell_type": "code",
   "execution_count": 14,
   "id": "38d01f9b",
   "metadata": {},
   "outputs": [],
   "source": [
    "# num_col = 'BankLoss%'\n",
    "# df_vis = df_copy.copy()\n",
    "# df_vis = df_vis[~(pd.isnull(df_vis[num_col]))]\n",
    "\n",
    "# upb = np.percentile(df_vis[num_col], 99)\n",
    "# df_vis = df_vis[(df_vis[num_col] <= upb)]\n",
    "\n",
    "# plt.figure(figsize=(20, 10))\n",
    "# sns.set_theme(style=\"darkgrid\")\n",
    "# title = num_col + '_ecdf'\n",
    "# plt.title(title)\n",
    "# plt.hlines(y=0.5, xmin=df_vis[num_col].min(), xmax=df_vis[num_col].max(), colors='r', linestyles='dashed')\n",
    "# sns.ecdfplot(data=df_vis, x=num_col, palette=sns.color_palette(\"Set2\")[:2])\n",
    "# plt.savefig(title + '.jpeg')\n",
    "# plt.show()"
   ]
  },
  {
   "cell_type": "code",
   "execution_count": 15,
   "id": "9bd7a0a8",
   "metadata": {},
   "outputs": [
    {
     "data": {
      "text/plain": [
       "count    135109.000\n",
       "mean      10493.938\n",
       "std       19249.789\n",
       "min           0.000\n",
       "25%           0.000\n",
       "50%        3484.054\n",
       "75%       14437.295\n",
       "max     1213184.643\n",
       "Name: BankLoss, dtype: float64"
      ]
     },
     "execution_count": 15,
     "metadata": {},
     "output_type": "execute_result"
    }
   ],
   "source": [
    "df_copy['BankLoss'].describe()"
   ]
  },
  {
   "cell_type": "code",
   "execution_count": 16,
   "id": "bb059d2a",
   "metadata": {},
   "outputs": [
    {
     "data": {
      "text/plain": [
       "count   135109.000\n",
       "mean        12.232\n",
       "std         13.942\n",
       "min          0.000\n",
       "25%          0.000\n",
       "50%          7.223\n",
       "75%         21.458\n",
       "max         69.798\n",
       "Name: BankLoss%, dtype: float64"
      ]
     },
     "execution_count": 16,
     "metadata": {},
     "output_type": "execute_result"
    }
   ],
   "source": [
    "df_copy['BankLoss%'].describe()"
   ]
  },
  {
   "cell_type": "code",
   "execution_count": 17,
   "id": "95c9221b",
   "metadata": {},
   "outputs": [
    {
     "data": {
      "text/plain": [
       "count   530453.000\n",
       "mean         0.257\n",
       "std          0.437\n",
       "min          0.000\n",
       "25%          0.000\n",
       "50%          0.000\n",
       "75%          1.000\n",
       "max          1.000\n",
       "Name: Default, dtype: float64"
      ]
     },
     "execution_count": 17,
     "metadata": {},
     "output_type": "execute_result"
    }
   ],
   "source": [
    "df_copy['Default'].describe()"
   ]
  },
  {
   "cell_type": "code",
   "execution_count": 18,
   "id": "4280d9a2",
   "metadata": {},
   "outputs": [
    {
     "data": {
      "text/plain": [
       "0.000    394129\n",
       "1.000    136324\n",
       "Name: Default, dtype: int64"
      ]
     },
     "execution_count": 18,
     "metadata": {},
     "output_type": "execute_result"
    }
   ],
   "source": [
    "df_copy['Default'].value_counts()"
   ]
  },
  {
   "cell_type": "code",
   "execution_count": 19,
   "id": "e09297d9",
   "metadata": {},
   "outputs": [
    {
     "data": {
      "text/plain": [
       "1029063996.9125255"
      ]
     },
     "execution_count": 19,
     "metadata": {},
     "output_type": "execute_result"
    }
   ],
   "source": [
    "df_copy['ChgOffPrinGr'].sum() / 10"
   ]
  },
  {
   "cell_type": "code",
   "execution_count": 20,
   "id": "93469156",
   "metadata": {},
   "outputs": [
    {
     "data": {
      "text/plain": [
       "0.08201160749979357"
      ]
     },
     "execution_count": 20,
     "metadata": {},
     "output_type": "execute_result"
    }
   ],
   "source": [
    "df_copy['ChgOffPrinGr'].sum() / df_copy['DisbursementGross'].sum()"
   ]
  },
  {
   "cell_type": "code",
   "execution_count": 21,
   "id": "4b2ebb36",
   "metadata": {},
   "outputs": [
    {
     "data": {
      "image/png": "[encoded data removed]",
      "text/plain": [
       "<Figure size 1440x720 with 1 Axes>"
      ]
     },
     "metadata": {
      "needs_background": "light"
     },
     "output_type": "display_data"
    },
    {
     "data": {
      "image/png": "[encoded data removed]",
      "text/plain": [
       "<Figure size 1440x720 with 1 Axes>"
      ]
     },
     "metadata": {},
     "output_type": "display_data"
    }
   ],
   "source": [
    "obj_visualization(df_copy, obj_features=['State', 'BankState'])"
   ]
  },
  {
   "cell_type": "code",
   "execution_count": 82,
   "id": "334cdf0b",
   "metadata": {},
   "outputs": [
    {
     "name": "stdout",
     "output_type": "stream",
     "text": [
      "0.5692926611782759\n"
     ]
    },
    {
     "data": {
      "text/plain": [
       "1    301983\n",
       "0    228470\n",
       "Name: Is_Cross_State, dtype: int64"
      ]
     },
     "execution_count": 82,
     "metadata": {},
     "output_type": "execute_result"
    }
   ],
   "source": [
    "print(df_copy['Is_Cross_State'].mean())\n",
    "df_copy['Is_Cross_State'].value_counts()"
   ]
  },
  {
   "cell_type": "code",
   "execution_count": 84,
   "id": "f9c72c5e",
   "metadata": {},
   "outputs": [
    {
     "data": {
      "text/plain": [
       "BANK OF AMERICA NATL ASSOC        56246\n",
       "BRANCH BK. & TR CO                 2175\n",
       "FIRST-CITIZENS BK & TR CO          1083\n",
       "WELLS FARGO BANK NATL ASSOC         412\n",
       "SURREY BANK & TRUST                  50\n",
       "LIVE OAK BANKING COMPANY             46\n",
       "PNC BANK, NATIONAL ASSOCIATION        7\n",
       "COMMUNITYONE BANK NATL ASSOC          5\n",
       "CARTER BANK & TRUST                   3\n",
       "UWHARRIE BANK                         3\n",
       "Name: Bank, dtype: int64"
      ]
     },
     "execution_count": 84,
     "metadata": {},
     "output_type": "execute_result"
    }
   ],
   "source": [
    "df_nc_cross = df_copy[(df_copy['Is_Cross_State'] == 1) & (df_copy['BankState'] == 'NC')]\n",
    "df_nc_cross['Bank'].value_counts()[:10]"
   ]
  },
  {
   "cell_type": "code",
   "execution_count": 56,
   "id": "1f05514d",
   "metadata": {},
   "outputs": [],
   "source": [
    "bank_list = ['CAPITAL ONE NATL ASSOC', 'HSBC BK USA NATL ASSOC', 'BRANCH BK. & TR CO', 'FIRST-CITIZENS BK & TR CO', \n",
    "             'BANK OF AMERICA NATL ASSOC', 'WELLS FARGO BANK NATL ASSOC', 'CITIBANK, N.A.']"
   ]
  },
  {
   "cell_type": "code",
   "execution_count": 64,
   "id": "71c75053",
   "metadata": {},
   "outputs": [
    {
     "name": "stdout",
     "output_type": "stream",
     "text": [
      "======CAPITAL ONE NATL ASSOC======\n",
      "======ALL======\n"
     ]
    },
    {
     "data": {
      "text/plain": [
       "0.000    12023\n",
       "1.000     9390\n",
       "Name: Default, dtype: int64"
      ]
     },
     "metadata": {},
     "output_type": "display_data"
    },
    {
     "name": "stdout",
     "output_type": "stream",
     "text": [
      "row: 21413\n",
      "Default rate: 43.85%\n",
      "======Cross State======\n"
     ]
    },
    {
     "data": {
      "text/plain": [
       "0.000    11652\n",
       "1.000     9141\n",
       "Name: Default, dtype: int64"
      ]
     },
     "metadata": {},
     "output_type": "display_data"
    },
    {
     "name": "stdout",
     "output_type": "stream",
     "text": [
      "row: 20793\n",
      "Default rate: 43.96%\n",
      "======HSBC BK USA NATL ASSOC======\n",
      "======ALL======\n"
     ]
    },
    {
     "data": {
      "text/plain": [
       "0.000    1689\n",
       "1.000    1653\n",
       "Name: Default, dtype: int64"
      ]
     },
     "metadata": {},
     "output_type": "display_data"
    },
    {
     "name": "stdout",
     "output_type": "stream",
     "text": [
      "row: 3342\n",
      "Default rate: 49.46%\n",
      "======Cross State======\n"
     ]
    },
    {
     "data": {
      "text/plain": [
       "1.000    1240\n",
       "0.000     220\n",
       "Name: Default, dtype: int64"
      ]
     },
     "metadata": {},
     "output_type": "display_data"
    },
    {
     "name": "stdout",
     "output_type": "stream",
     "text": [
      "row: 1460\n",
      "Default rate: 84.93%\n",
      "======BRANCH BK. & TR CO======\n",
      "======ALL======\n"
     ]
    },
    {
     "data": {
      "text/plain": [
       "0.000    2694\n",
       "1.000     524\n",
       "Name: Default, dtype: int64"
      ]
     },
     "metadata": {},
     "output_type": "display_data"
    },
    {
     "name": "stdout",
     "output_type": "stream",
     "text": [
      "row: 3218\n",
      "Default rate: 16.28%\n",
      "======Cross State======\n"
     ]
    },
    {
     "data": {
      "text/plain": [
       "0.000    1816\n",
       "1.000     404\n",
       "Name: Default, dtype: int64"
      ]
     },
     "metadata": {},
     "output_type": "display_data"
    },
    {
     "name": "stdout",
     "output_type": "stream",
     "text": [
      "row: 2220\n",
      "Default rate: 18.20%\n",
      "======FIRST-CITIZENS BK & TR CO======\n",
      "======ALL======\n"
     ]
    },
    {
     "data": {
      "text/plain": [
       "0.000    1416\n",
       "1.000     232\n",
       "Name: Default, dtype: int64"
      ]
     },
     "metadata": {},
     "output_type": "display_data"
    },
    {
     "name": "stdout",
     "output_type": "stream",
     "text": [
      "row: 1648\n",
      "Default rate: 14.08%\n",
      "======Cross State======\n"
     ]
    },
    {
     "data": {
      "text/plain": [
       "0.000    1027\n",
       "1.000     166\n",
       "Name: Default, dtype: int64"
      ]
     },
     "metadata": {},
     "output_type": "display_data"
    },
    {
     "name": "stdout",
     "output_type": "stream",
     "text": [
      "row: 1193\n",
      "Default rate: 13.91%\n",
      "======BANK OF AMERICA NATL ASSOC======\n",
      "======ALL======\n"
     ]
    },
    {
     "data": {
      "text/plain": [
       "0.000    44645\n",
       "1.000    23248\n",
       "Name: Default, dtype: int64"
      ]
     },
     "metadata": {},
     "output_type": "display_data"
    },
    {
     "name": "stdout",
     "output_type": "stream",
     "text": [
      "row: 67893\n",
      "Default rate: 34.24%\n",
      "======Cross State======\n"
     ]
    },
    {
     "data": {
      "text/plain": [
       "0.000    42677\n",
       "1.000    22628\n",
       "Name: Default, dtype: int64"
      ]
     },
     "metadata": {},
     "output_type": "display_data"
    },
    {
     "name": "stdout",
     "output_type": "stream",
     "text": [
      "row: 65305\n",
      "Default rate: 34.65%\n",
      "======WELLS FARGO BANK NATL ASSOC======\n",
      "======ALL======\n"
     ]
    },
    {
     "data": {
      "text/plain": [
       "0.000    19737\n",
       "1.000     6477\n",
       "Name: Default, dtype: int64"
      ]
     },
     "metadata": {},
     "output_type": "display_data"
    },
    {
     "name": "stdout",
     "output_type": "stream",
     "text": [
      "row: 26214\n",
      "Default rate: 24.71%\n",
      "======Cross State======\n"
     ]
    },
    {
     "data": {
      "text/plain": [
       "0.000    15418\n",
       "1.000     6250\n",
       "Name: Default, dtype: int64"
      ]
     },
     "metadata": {},
     "output_type": "display_data"
    },
    {
     "name": "stdout",
     "output_type": "stream",
     "text": [
      "row: 21668\n",
      "Default rate: 28.84%\n",
      "======CITIBANK, N.A.======\n",
      "======ALL======\n"
     ]
    },
    {
     "data": {
      "text/plain": [
       "0.000    3857\n",
       "1.000    1350\n",
       "Name: Default, dtype: int64"
      ]
     },
     "metadata": {},
     "output_type": "display_data"
    },
    {
     "name": "stdout",
     "output_type": "stream",
     "text": [
      "row: 5207\n",
      "Default rate: 25.93%\n",
      "======Cross State======\n"
     ]
    },
    {
     "data": {
      "text/plain": [
       "0.000    2079\n",
       "1.000    1153\n",
       "Name: Default, dtype: int64"
      ]
     },
     "metadata": {},
     "output_type": "display_data"
    },
    {
     "name": "stdout",
     "output_type": "stream",
     "text": [
      "row: 3232\n",
      "Default rate: 35.67%\n"
     ]
    }
   ],
   "source": [
    "for bk in bank_list:\n",
    "    print(('=' * 6) + bk + ('=' * 6))\n",
    "    print('======ALL======')\n",
    "    df_cpt1 = df_copy[(df_copy['Bank'] == bk)]\n",
    "    display(df_cpt1['Default'].value_counts())\n",
    "    print('row:', len(df_cpt1))\n",
    "    print('Default rate: {:.2f}%'.format(df_cpt1['Default'].mean() * 100))\n",
    "    print('======Cross State======')\n",
    "    df_cpt1 = df_copy[(df_copy['Is_Cross_State'] == 1) & (df_copy['Bank'] == bk)]\n",
    "    display(df_cpt1['Default'].value_counts())\n",
    "    print('row:', len(df_cpt1))\n",
    "    print('Default rate: {:.2f}%'.format(df_cpt1['Default'].mean() * 100))"
   ]
  },
  {
   "cell_type": "code",
   "execution_count": 66,
   "id": "6fff6994",
   "metadata": {},
   "outputs": [
    {
     "data": {
      "text/plain": [
       "BANK OF AMERICA NATL ASSOC        67893\n",
       "JPMORGAN CHASE BANK NATL ASSOC    32342\n",
       "CITIZENS BANK NATL ASSOC          31629\n",
       "WELLS FARGO BANK NATL ASSOC       26214\n",
       "BBCN BANK                         21681\n",
       "Name: Bank, dtype: int64"
      ]
     },
     "execution_count": 66,
     "metadata": {},
     "output_type": "execute_result"
    }
   ],
   "source": [
    "df_copy['Bank'].value_counts()[:5]"
   ]
  },
  {
   "cell_type": "code",
   "execution_count": 74,
   "id": "98719b37",
   "metadata": {},
   "outputs": [
    {
     "name": "stdout",
     "output_type": "stream",
     "text": [
      "\n",
      "======BANK OF AMERICA NATL ASSOC======\n",
      "\n",
      "======ALL======\n"
     ]
    },
    {
     "data": {
      "text/plain": [
       "0.000    44645\n",
       "1.000    23248\n",
       "Name: Default, dtype: int64"
      ]
     },
     "metadata": {},
     "output_type": "display_data"
    },
    {
     "name": "stdout",
     "output_type": "stream",
     "text": [
      "row: 67893\n",
      "Default rate: 34.24%\n",
      "\n",
      "======Cross State======\n",
      "\n"
     ]
    },
    {
     "data": {
      "text/plain": [
       "0.000    42677\n",
       "1.000    22628\n",
       "Name: Default, dtype: int64"
      ]
     },
     "metadata": {},
     "output_type": "display_data"
    },
    {
     "name": "stdout",
     "output_type": "stream",
     "text": [
      "row: 65305\n",
      "Default rate: 34.65%\n",
      "\n",
      "======JPMORGAN CHASE BANK NATL ASSOC======\n",
      "\n",
      "======ALL======\n"
     ]
    },
    {
     "data": {
      "text/plain": [
       "0.000    20493\n",
       "1.000    11849\n",
       "Name: Default, dtype: int64"
      ]
     },
     "metadata": {},
     "output_type": "display_data"
    },
    {
     "name": "stdout",
     "output_type": "stream",
     "text": [
      "row: 32342\n",
      "Default rate: 36.64%\n",
      "\n",
      "======Cross State======\n",
      "\n"
     ]
    },
    {
     "data": {
      "text/plain": [
       "0.000    18428\n",
       "1.000    10678\n",
       "Name: Default, dtype: int64"
      ]
     },
     "metadata": {},
     "output_type": "display_data"
    },
    {
     "name": "stdout",
     "output_type": "stream",
     "text": [
      "row: 29106\n",
      "Default rate: 36.69%\n",
      "\n",
      "======CITIZENS BANK NATL ASSOC======\n",
      "\n",
      "======ALL======\n"
     ]
    },
    {
     "data": {
      "text/plain": [
       "0.000    23073\n",
       "1.000     8556\n",
       "Name: Default, dtype: int64"
      ]
     },
     "metadata": {},
     "output_type": "display_data"
    },
    {
     "name": "stdout",
     "output_type": "stream",
     "text": [
      "row: 31629\n",
      "Default rate: 27.05%\n",
      "\n",
      "======Cross State======\n",
      "\n"
     ]
    },
    {
     "data": {
      "text/plain": [
       "0.000    17701\n",
       "1.000     7811\n",
       "Name: Default, dtype: int64"
      ]
     },
     "metadata": {},
     "output_type": "display_data"
    },
    {
     "name": "stdout",
     "output_type": "stream",
     "text": [
      "row: 25512\n",
      "Default rate: 30.62%\n",
      "\n",
      "======WELLS FARGO BANK NATL ASSOC======\n",
      "\n",
      "======ALL======\n"
     ]
    },
    {
     "data": {
      "text/plain": [
       "0.000    19737\n",
       "1.000     6477\n",
       "Name: Default, dtype: int64"
      ]
     },
     "metadata": {},
     "output_type": "display_data"
    },
    {
     "name": "stdout",
     "output_type": "stream",
     "text": [
      "row: 26214\n",
      "Default rate: 24.71%\n",
      "\n",
      "======Cross State======\n",
      "\n"
     ]
    },
    {
     "data": {
      "text/plain": [
       "0.000    15418\n",
       "1.000     6250\n",
       "Name: Default, dtype: int64"
      ]
     },
     "metadata": {},
     "output_type": "display_data"
    },
    {
     "name": "stdout",
     "output_type": "stream",
     "text": [
      "row: 21668\n",
      "Default rate: 28.84%\n",
      "\n",
      "======BBCN BANK======\n",
      "\n",
      "======ALL======\n"
     ]
    },
    {
     "data": {
      "text/plain": [
       "1.000    13598\n",
       "0.000     8083\n",
       "Name: Default, dtype: int64"
      ]
     },
     "metadata": {},
     "output_type": "display_data"
    },
    {
     "name": "stdout",
     "output_type": "stream",
     "text": [
      "row: 21681\n",
      "Default rate: 62.72%\n",
      "\n",
      "======Cross State======\n",
      "\n"
     ]
    },
    {
     "data": {
      "text/plain": [
       "1.000    10091\n",
       "0.000     5231\n",
       "Name: Default, dtype: int64"
      ]
     },
     "metadata": {},
     "output_type": "display_data"
    },
    {
     "name": "stdout",
     "output_type": "stream",
     "text": [
      "row: 15322\n",
      "Default rate: 65.86%\n",
      "\n",
      "======CAPITAL ONE NATL ASSOC======\n",
      "\n",
      "======ALL======\n"
     ]
    },
    {
     "data": {
      "text/plain": [
       "0.000    12023\n",
       "1.000     9390\n",
       "Name: Default, dtype: int64"
      ]
     },
     "metadata": {},
     "output_type": "display_data"
    },
    {
     "name": "stdout",
     "output_type": "stream",
     "text": [
      "row: 21413\n",
      "Default rate: 43.85%\n",
      "\n",
      "======Cross State======\n",
      "\n"
     ]
    },
    {
     "data": {
      "text/plain": [
       "0.000    11652\n",
       "1.000     9141\n",
       "Name: Default, dtype: int64"
      ]
     },
     "metadata": {},
     "output_type": "display_data"
    },
    {
     "name": "stdout",
     "output_type": "stream",
     "text": [
      "row: 20793\n",
      "Default rate: 43.96%\n",
      "\n",
      "======U.S. BANK NATIONAL ASSOCIATION======\n",
      "\n",
      "======ALL======\n"
     ]
    },
    {
     "data": {
      "text/plain": [
       "0.000    14456\n",
       "1.000     5273\n",
       "Name: Default, dtype: int64"
      ]
     },
     "metadata": {},
     "output_type": "display_data"
    },
    {
     "name": "stdout",
     "output_type": "stream",
     "text": [
      "row: 19729\n",
      "Default rate: 26.73%\n",
      "\n",
      "======Cross State======\n",
      "\n"
     ]
    },
    {
     "data": {
      "text/plain": [
       "0.000    12930\n",
       "1.000     4815\n",
       "Name: Default, dtype: int64"
      ]
     },
     "metadata": {},
     "output_type": "display_data"
    },
    {
     "name": "stdout",
     "output_type": "stream",
     "text": [
      "row: 17745\n",
      "Default rate: 27.13%\n",
      "\n",
      "======PNC BANK, NATIONAL ASSOCIATION======\n",
      "\n",
      "======ALL======\n"
     ]
    },
    {
     "data": {
      "text/plain": [
       "0.000    14240\n",
       "1.000     4713\n",
       "Name: Default, dtype: int64"
      ]
     },
     "metadata": {},
     "output_type": "display_data"
    },
    {
     "name": "stdout",
     "output_type": "stream",
     "text": [
      "row: 18953\n",
      "Default rate: 24.87%\n",
      "\n",
      "======Cross State======\n",
      "\n"
     ]
    },
    {
     "data": {
      "text/plain": [
       "0.000    10616\n",
       "1.000     4584\n",
       "Name: Default, dtype: int64"
      ]
     },
     "metadata": {},
     "output_type": "display_data"
    },
    {
     "name": "stdout",
     "output_type": "stream",
     "text": [
      "row: 15200\n",
      "Default rate: 30.16%\n",
      "\n",
      "======READYCAP LENDING, LLC======\n",
      "\n",
      "======ALL======\n"
     ]
    },
    {
     "data": {
      "text/plain": [
       "0.000    4695\n",
       "1.000    2238\n",
       "Name: Default, dtype: int64"
      ]
     },
     "metadata": {},
     "output_type": "display_data"
    },
    {
     "name": "stdout",
     "output_type": "stream",
     "text": [
      "row: 6933\n",
      "Default rate: 32.28%\n",
      "\n",
      "======Cross State======\n",
      "\n"
     ]
    },
    {
     "data": {
      "text/plain": [
       "0.000    4125\n",
       "1.000    1953\n",
       "Name: Default, dtype: int64"
      ]
     },
     "metadata": {},
     "output_type": "display_data"
    },
    {
     "name": "stdout",
     "output_type": "stream",
     "text": [
      "row: 6078\n",
      "Default rate: 32.13%\n",
      "\n",
      "======MANUFACTURERS & TRADERS TR CO======\n",
      "\n",
      "======ALL======\n"
     ]
    },
    {
     "data": {
      "text/plain": [
       "0.000    5310\n",
       "1.000    1144\n",
       "Name: Default, dtype: int64"
      ]
     },
     "metadata": {},
     "output_type": "display_data"
    },
    {
     "name": "stdout",
     "output_type": "stream",
     "text": [
      "row: 6454\n",
      "Default rate: 17.73%\n",
      "\n",
      "======Cross State======\n",
      "\n"
     ]
    },
    {
     "data": {
      "text/plain": [
       "0.000    2226\n",
       "1.000     551\n",
       "Name: Default, dtype: int64"
      ]
     },
     "metadata": {},
     "output_type": "display_data"
    },
    {
     "name": "stdout",
     "output_type": "stream",
     "text": [
      "row: 2777\n",
      "Default rate: 19.84%\n"
     ]
    }
   ],
   "source": [
    "for bk in list(df_copy['Bank'].value_counts()[:10].index):\n",
    "    print('')\n",
    "    print(('=' * 6) + bk + ('=' * 6))\n",
    "    print('')\n",
    "    print('======ALL======')\n",
    "    df_cpt1 = df_copy[(df_copy['Bank'] == bk)]\n",
    "    display(df_cpt1['Default'].value_counts())\n",
    "    print('row:', len(df_cpt1))\n",
    "    print('Default rate: {:.2f}%'.format(df_cpt1['Default'].mean() * 100))\n",
    "    print('')\n",
    "    print('======Cross State======')\n",
    "    print('')\n",
    "    df_cpt1 = df_copy[(df_copy['Is_Cross_State'] == 1) & (df_copy['Bank'] == bk)]\n",
    "    display(df_cpt1['Default'].value_counts())\n",
    "    print('row:', len(df_cpt1))\n",
    "    print('Default rate: {:.2f}%'.format(df_cpt1['Default'].mean() * 100))"
   ]
  },
  {
   "cell_type": "code",
   "execution_count": 28,
   "id": "89b53c29",
   "metadata": {},
   "outputs": [],
   "source": [
    "# df_va_cross.to_csv('VA_CrossState.csv', index=False)\n",
    "# df_nc_cross.to_csv('NC_CrossState.csv', index=False)"
   ]
  },
  {
   "cell_type": "code",
   "execution_count": null,
   "id": "bca5cf0b",
   "metadata": {},
   "outputs": [],
   "source": []
  }
 ],
 "metadata": {
  "kernelspec": {
   "display_name": "Python 3",
   "language": "python",
   "name": "python3"
  },
  "language_info": {
   "codemirror_mode": {
    "name": "ipython",
    "version": 3
   },
   "file_extension": ".py",
   "mimetype": "text/x-python",
   "name": "python",
   "nbconvert_exporter": "python",
   "pygments_lexer": "ipython3",
   "version": "3.9.5"
  }
 },
 "nbformat": 4,
 "nbformat_minor": 5
}
